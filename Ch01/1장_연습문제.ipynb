{
  "nbformat": 4,
  "nbformat_minor": 0,
  "metadata": {
    "colab": {
      "name": "모두를 위한 코딩_1장 연습문제",
      "provenance": [],
      "collapsed_sections": [],
      "include_colab_link": true
    },
    "kernelspec": {
      "name": "python3",
      "display_name": "Python 3"
    }
  },
  "cells": [
    {
      "cell_type": "markdown",
      "metadata": {
        "id": "view-in-github",
        "colab_type": "text"
      },
      "source": [
        "<a href=\"https://colab.research.google.com/github/KwonChanJin/Python_Programing/blob/master/1%EC%9E%A5_%EC%97%B0%EC%8A%B5%EB%AC%B8%EC%A0%9C_%EA%B6%8C%EC%B0%AC%EC%A7%84%2C%20%EC%A7%80%EC%9C%A0%EC%A7%84.ipynb\" target=\"_parent\"><img src=\"https://colab.research.google.com/assets/colab-badge.svg\" alt=\"Open In Colab\"/></a>"
      ]
    },
    {
      "cell_type": "markdown",
      "metadata": {
        "id": "cRwYuaS7afJR",
        "colab_type": "text"
      },
      "source": [
        "##1.1"
      ]
    },
    {
      "cell_type": "code",
      "metadata": {
        "id": "_tjzqBrdaDeZ",
        "colab_type": "code",
        "outputId": "cabfb576-687a-430c-a66e-d9b643146960",
        "colab": {
          "base_uri": "https://localhost:8080/",
          "height": 35
        }
      },
      "source": [
        "!python --version"
      ],
      "execution_count": 0,
      "outputs": [
        {
          "output_type": "stream",
          "text": [
            "Python 3.6.8\n"
          ],
          "name": "stdout"
        }
      ]
    },
    {
      "cell_type": "markdown",
      "metadata": {
        "id": "QzcFVf-kaeq6",
        "colab_type": "text"
      },
      "source": [
        "##1.2"
      ]
    },
    {
      "cell_type": "markdown",
      "metadata": {
        "id": "FLKOHtcdazKP",
        "colab_type": "text"
      },
      "source": [
        "##1.3"
      ]
    },
    {
      "cell_type": "code",
      "metadata": {
        "id": "QOMwxGTeUkmj",
        "colab_type": "code",
        "outputId": "0c909ba6-5188-495f-9712-f12b7e5cb294",
        "colab": {
          "base_uri": "https://localhost:8080/",
          "height": 35
        }
      },
      "source": [
        "print(100)"
      ],
      "execution_count": 0,
      "outputs": [
        {
          "output_type": "stream",
          "text": [
            "100\n"
          ],
          "name": "stdout"
        }
      ]
    },
    {
      "cell_type": "code",
      "metadata": {
        "id": "RL6_SG0tUkfz",
        "colab_type": "code",
        "outputId": "b9e45cc5-66d9-4b22-8d9c-bd48229fa4ce",
        "colab": {
          "base_uri": "https://localhost:8080/",
          "height": 35
        }
      },
      "source": [
        "print(100 + 200)"
      ],
      "execution_count": 0,
      "outputs": [
        {
          "output_type": "stream",
          "text": [
            "300\n"
          ],
          "name": "stdout"
        }
      ]
    },
    {
      "cell_type": "code",
      "metadata": {
        "id": "--1nn4J-UkZk",
        "colab_type": "code",
        "outputId": "512e44d8-b696-4908-f774-03fab8119caf",
        "colab": {
          "base_uri": "https://localhost:8080/",
          "height": 35
        }
      },
      "source": [
        "print('100 + 200')"
      ],
      "execution_count": 0,
      "outputs": [
        {
          "output_type": "stream",
          "text": [
            "100 + 200\n"
          ],
          "name": "stdout"
        }
      ]
    },
    {
      "cell_type": "code",
      "metadata": {
        "id": "Zn1ENaGJUy5A",
        "colab_type": "code",
        "outputId": "8ecd20a8-51f8-4c53-a3b3-4c3f92c39e93",
        "colab": {
          "base_uri": "https://localhost:8080/",
          "height": 35
        }
      },
      "source": [
        "print(100, 200)"
      ],
      "execution_count": 0,
      "outputs": [
        {
          "output_type": "stream",
          "text": [
            "100 200\n"
          ],
          "name": "stdout"
        }
      ]
    },
    {
      "cell_type": "code",
      "metadata": {
        "id": "UAlQD1M6Uy2_",
        "colab_type": "code",
        "outputId": "b17e2794-5003-4232-c4a1-40b40328438e",
        "colab": {
          "base_uri": "https://localhost:8080/",
          "height": 35
        }
      },
      "source": [
        "print('100', '200')"
      ],
      "execution_count": 0,
      "outputs": [
        {
          "output_type": "stream",
          "text": [
            "100 200\n"
          ],
          "name": "stdout"
        }
      ]
    },
    {
      "cell_type": "code",
      "metadata": {
        "id": "URnpkVD7Uyz8",
        "colab_type": "code",
        "outputId": "3adc1799-0971-4bb0-c6d1-272d51dc761b",
        "colab": {
          "base_uri": "https://localhost:8080/",
          "height": 35
        }
      },
      "source": [
        "print(\"Hello Python\")"
      ],
      "execution_count": 0,
      "outputs": [
        {
          "output_type": "stream",
          "text": [
            "Hello Python\n"
          ],
          "name": "stdout"
        }
      ]
    },
    {
      "cell_type": "code",
      "metadata": {
        "id": "4eCVsFwEUyxf",
        "colab_type": "code",
        "outputId": "6f42f931-c461-4456-b762-52b0d71b4310",
        "colab": {
          "base_uri": "https://localhost:8080/",
          "height": 35
        }
      },
      "source": [
        "print(\"Hello\", \"Python\", \"!\")"
      ],
      "execution_count": 0,
      "outputs": [
        {
          "output_type": "stream",
          "text": [
            "Hello Python !\n"
          ],
          "name": "stdout"
        }
      ]
    },
    {
      "cell_type": "code",
      "metadata": {
        "id": "36rijzsDUyt6",
        "colab_type": "code",
        "outputId": "682c7363-0da6-41f7-bcf7-4d67d65c6dbe",
        "colab": {
          "base_uri": "https://localhost:8080/",
          "height": 35
        }
      },
      "source": [
        "print(\"Hello\" + \"Python\" + \"!\")"
      ],
      "execution_count": 0,
      "outputs": [
        {
          "output_type": "stream",
          "text": [
            "HelloPython!\n"
          ],
          "name": "stdout"
        }
      ]
    },
    {
      "cell_type": "code",
      "metadata": {
        "id": "4Ww-lWRBUyoa",
        "colab_type": "code",
        "outputId": "397ddd82-62bd-452a-e873-36a687ce8272",
        "colab": {
          "base_uri": "https://localhost:8080/",
          "height": 35
        }
      },
      "source": [
        "print(\"**********\")"
      ],
      "execution_count": 0,
      "outputs": [
        {
          "output_type": "stream",
          "text": [
            "**********\n"
          ],
          "name": "stdout"
        }
      ]
    },
    {
      "cell_type": "code",
      "metadata": {
        "id": "s1oEN_OzVYae",
        "colab_type": "code",
        "outputId": "a2b775bb-c8ee-4112-bf12-88d0b9b34d8b",
        "colab": {
          "base_uri": "https://localhost:8080/",
          "height": 35
        }
      },
      "source": [
        "print(\"*\" * 10)"
      ],
      "execution_count": 0,
      "outputs": [
        {
          "output_type": "stream",
          "text": [
            "**********\n"
          ],
          "name": "stdout"
        }
      ]
    },
    {
      "cell_type": "markdown",
      "metadata": {
        "id": "6bRbMk-kVjxJ",
        "colab_type": "text"
      },
      "source": [
        "##1.4"
      ]
    },
    {
      "cell_type": "code",
      "metadata": {
        "id": "vSS1zK2SVlrb",
        "colab_type": "code",
        "outputId": "494d74a7-7d62-430c-935f-5649df5d7b00",
        "colab": {
          "base_uri": "https://localhost:8080/",
          "height": 35
        }
      },
      "source": [
        "print('Hello Python')"
      ],
      "execution_count": 0,
      "outputs": [
        {
          "output_type": "stream",
          "text": [
            "Hello Python\n"
          ],
          "name": "stdout"
        }
      ]
    },
    {
      "cell_type": "code",
      "metadata": {
        "id": "bg1r1lcFVo8T",
        "colab_type": "code",
        "outputId": "22343267-4fb8-4b8c-8a63-6eaead7aff71",
        "colab": {
          "base_uri": "https://localhost:8080/",
          "height": 135
        }
      },
      "source": [
        "print(\"Hello Python')"
      ],
      "execution_count": 0,
      "outputs": [
        {
          "output_type": "error",
          "ename": "SyntaxError",
          "evalue": "ignored",
          "traceback": [
            "\u001b[0;36m  File \u001b[0;32m\"<ipython-input-20-00c6abc78f10>\"\u001b[0;36m, line \u001b[0;32m1\u001b[0m\n\u001b[0;31m    print(\"Hello Python')\u001b[0m\n\u001b[0m                         ^\u001b[0m\n\u001b[0;31mSyntaxError\u001b[0m\u001b[0;31m:\u001b[0m EOL while scanning string literal\n"
          ]
        }
      ]
    },
    {
      "cell_type": "code",
      "metadata": {
        "id": "_hyduFRuV2TH",
        "colab_type": "code",
        "outputId": "17c9c3ac-e5f4-483a-daaf-1fccd7508205",
        "colab": {
          "base_uri": "https://localhost:8080/",
          "height": 35
        }
      },
      "source": [
        "print(\"Hello Python\")"
      ],
      "execution_count": 0,
      "outputs": [
        {
          "output_type": "stream",
          "text": [
            "Hello Python\n"
          ],
          "name": "stdout"
        }
      ]
    },
    {
      "cell_type": "code",
      "metadata": {
        "id": "xLSsmDuqVo0k",
        "colab_type": "code",
        "outputId": "f9604e38-a6d8-42c7-9352-e953f0517b3f",
        "colab": {
          "base_uri": "https://localhost:8080/",
          "height": 135
        }
      },
      "source": [
        "print(Hello Python)"
      ],
      "execution_count": 0,
      "outputs": [
        {
          "output_type": "error",
          "ename": "SyntaxError",
          "evalue": "ignored",
          "traceback": [
            "\u001b[0;36m  File \u001b[0;32m\"<ipython-input-22-9489b56b625c>\"\u001b[0;36m, line \u001b[0;32m1\u001b[0m\n\u001b[0;31m    print(Hello Python)\u001b[0m\n\u001b[0m                     ^\u001b[0m\n\u001b[0;31mSyntaxError\u001b[0m\u001b[0;31m:\u001b[0m invalid syntax\n"
          ]
        }
      ]
    },
    {
      "cell_type": "code",
      "metadata": {
        "id": "UIWoxR40Voho",
        "colab_type": "code",
        "outputId": "17e54cbd-e462-4c6c-9522-462add94a874",
        "colab": {
          "base_uri": "https://localhost:8080/",
          "height": 35
        }
      },
      "source": [
        "print(\"Hello Python\")"
      ],
      "execution_count": 0,
      "outputs": [
        {
          "output_type": "stream",
          "text": [
            "Hello Python\n"
          ],
          "name": "stdout"
        }
      ]
    },
    {
      "cell_type": "code",
      "metadata": {
        "id": "axXqw-AIVoA2",
        "colab_type": "code",
        "outputId": "88f6245c-c675-4e46-f51e-b5b221c60ea2",
        "colab": {
          "base_uri": "https://localhost:8080/",
          "height": 171
        }
      },
      "source": [
        "print(100 + \"200\")"
      ],
      "execution_count": 0,
      "outputs": [
        {
          "output_type": "error",
          "ename": "TypeError",
          "evalue": "ignored",
          "traceback": [
            "\u001b[0;31m---------------------------------------------------------------------------\u001b[0m",
            "\u001b[0;31mTypeError\u001b[0m                                 Traceback (most recent call last)",
            "\u001b[0;32m<ipython-input-24-783cee203604>\u001b[0m in \u001b[0;36m<module>\u001b[0;34m()\u001b[0m\n\u001b[0;32m----> 1\u001b[0;31m \u001b[0mprint\u001b[0m\u001b[0;34m(\u001b[0m\u001b[0;36m100\u001b[0m \u001b[0;34m+\u001b[0m \u001b[0;34m\"200\"\u001b[0m\u001b[0;34m)\u001b[0m\u001b[0;34m\u001b[0m\u001b[0;34m\u001b[0m\u001b[0m\n\u001b[0m",
            "\u001b[0;31mTypeError\u001b[0m: unsupported operand type(s) for +: 'int' and 'str'"
          ]
        }
      ]
    },
    {
      "cell_type": "code",
      "metadata": {
        "id": "pr2py2VwWDq-",
        "colab_type": "code",
        "outputId": "7a49c91a-d0fa-4ff8-d5ab-744e8f953e6e",
        "colab": {
          "base_uri": "https://localhost:8080/",
          "height": 35
        }
      },
      "source": [
        "print(100 + 200)"
      ],
      "execution_count": 0,
      "outputs": [
        {
          "output_type": "stream",
          "text": [
            "300\n"
          ],
          "name": "stdout"
        }
      ]
    },
    {
      "cell_type": "code",
      "metadata": {
        "id": "RrCMf8VeWHMF",
        "colab_type": "code",
        "outputId": "7a9c442d-c959-4a87-b6b5-bb9f7ff6f9b6",
        "colab": {
          "base_uri": "https://localhost:8080/",
          "height": 35
        }
      },
      "source": [
        "print('3의 3승 :', 3^3)"
      ],
      "execution_count": 0,
      "outputs": [
        {
          "output_type": "stream",
          "text": [
            "3의 3승 : 0\n"
          ],
          "name": "stdout"
        }
      ]
    },
    {
      "cell_type": "code",
      "metadata": {
        "id": "nvRP2tNSWRaH",
        "colab_type": "code",
        "outputId": "fa3c7df3-02bb-4404-e451-3637fe780d7e",
        "colab": {
          "base_uri": "https://localhost:8080/",
          "height": 35
        }
      },
      "source": [
        "print('3의 3승 :', 3**3)"
      ],
      "execution_count": 0,
      "outputs": [
        {
          "output_type": "stream",
          "text": [
            "3의 3승 : 27\n"
          ],
          "name": "stdout"
        }
      ]
    },
    {
      "cell_type": "markdown",
      "metadata": {
        "id": "rEu95iOBUPYz",
        "colab_type": "text"
      },
      "source": [
        "##1.5"
      ]
    },
    {
      "cell_type": "code",
      "metadata": {
        "id": "9spBWvp4alMa",
        "colab_type": "code",
        "outputId": "b9fd0926-a0ee-416f-f905-e12a4b84d3c0",
        "colab": {
          "base_uri": "https://localhost:8080/",
          "height": 102
        }
      },
      "source": [
        "print(\"Welcome to Python!!\")\n",
        "print(\"Welcome to Python!!\")\n",
        "print(\"Welcome to Python!!\")\n",
        "print(\"Welcome to Python!!\")\n",
        "print(\"Welcome to Python!!\")"
      ],
      "execution_count": 0,
      "outputs": [
        {
          "output_type": "stream",
          "text": [
            "Welcome to Python!!\n",
            "Welcome to Python!!\n",
            "Welcome to Python!!\n",
            "Welcome to Python!!\n",
            "Welcome to Python!!\n"
          ],
          "name": "stdout"
        }
      ]
    },
    {
      "cell_type": "markdown",
      "metadata": {
        "id": "qykcU5BpUXSF",
        "colab_type": "text"
      },
      "source": [
        "##1.6"
      ]
    },
    {
      "cell_type": "code",
      "metadata": {
        "id": "r0xohbTva2Yv",
        "colab_type": "code",
        "outputId": "e1f56111-cc38-4cb5-a8c4-426fc8c87bab",
        "colab": {
          "base_uri": "https://localhost:8080/",
          "height": 102
        }
      },
      "source": [
        "print(\"*\" * 30)\n",
        "print(\"안녕하세요~\")\n",
        "print(\"저는 손정호입니다.\")\n",
        "print(\"창원대학교 정보통신공학과 3학년입니다\")\n",
        "print(\"*\" * 30)"
      ],
      "execution_count": 0,
      "outputs": [
        {
          "output_type": "stream",
          "text": [
            "******************************\n",
            "안녕하세요~\n",
            "저는 손정호입니다.\n",
            "창원대학교 정보통신공학과 3학년입니다\n",
            "******************************\n"
          ],
          "name": "stdout"
        }
      ]
    },
    {
      "cell_type": "markdown",
      "metadata": {
        "id": "ET_kaHu3cGDP",
        "colab_type": "text"
      },
      "source": [
        "##1.7"
      ]
    },
    {
      "cell_type": "code",
      "metadata": {
        "id": "pc91jsk-cPfx",
        "colab_type": "code",
        "outputId": "abe27e4b-3c69-4e87-e5d5-02bd1f793150",
        "colab": {
          "base_uri": "https://localhost:8080/",
          "height": 85
        }
      },
      "source": [
        "print(\"        *\")\n",
        "print(\"       ***\")\n",
        "print(\"      *****\")\n",
        "print(\"     *******\")"
      ],
      "execution_count": 0,
      "outputs": [
        {
          "output_type": "stream",
          "text": [
            "        *\n",
            "       ***\n",
            "      *****\n",
            "     *******\n"
          ],
          "name": "stdout"
        }
      ]
    },
    {
      "cell_type": "markdown",
      "metadata": {
        "id": "zSs8LPk9c6s3",
        "colab_type": "text"
      },
      "source": [
        "##1.8"
      ]
    },
    {
      "cell_type": "code",
      "metadata": {
        "id": "ZtMEVhOoc_eP",
        "colab_type": "code",
        "outputId": "1deaffc7-bddb-40a4-f359-5047789cf837",
        "colab": {
          "base_uri": "https://localhost:8080/",
          "height": 85
        }
      },
      "source": [
        "print(\"     *******\")\n",
        "print(\"      *****\")\n",
        "print(\"       ***\")\n",
        "print(\"        *\")"
      ],
      "execution_count": 0,
      "outputs": [
        {
          "output_type": "stream",
          "text": [
            "     *******\n",
            "      *****\n",
            "       ***\n",
            "        *\n"
          ],
          "name": "stdout"
        }
      ]
    },
    {
      "cell_type": "markdown",
      "metadata": {
        "id": "S288oTz9dG_m",
        "colab_type": "text"
      },
      "source": [
        "##1.9"
      ]
    },
    {
      "cell_type": "code",
      "metadata": {
        "id": "y_cUqqDNdIoH",
        "colab_type": "code",
        "outputId": "58576414-661d-4b5e-eff9-d00a6dda4372",
        "colab": {
          "base_uri": "https://localhost:8080/",
          "height": 34
        }
      },
      "source": [
        "400 - 200"
      ],
      "execution_count": 0,
      "outputs": [
        {
          "output_type": "execute_result",
          "data": {
            "text/plain": [
              "200"
            ]
          },
          "metadata": {
            "tags": []
          },
          "execution_count": 7
        }
      ]
    },
    {
      "cell_type": "code",
      "metadata": {
        "id": "2VpbBuuqdNow",
        "colab_type": "code",
        "outputId": "feb719d0-aad9-40cf-dcaf-d55579fcd077",
        "colab": {
          "base_uri": "https://localhost:8080/",
          "height": 34
        }
      },
      "source": [
        "45 * 89"
      ],
      "execution_count": 0,
      "outputs": [
        {
          "output_type": "execute_result",
          "data": {
            "text/plain": [
              "4005"
            ]
          },
          "metadata": {
            "tags": []
          },
          "execution_count": 8
        }
      ]
    },
    {
      "cell_type": "code",
      "metadata": {
        "id": "qNDLSZMUdP73",
        "colab_type": "code",
        "outputId": "b37dea67-c630-47a0-e75d-911c17c6a30f",
        "colab": {
          "base_uri": "https://localhost:8080/",
          "height": 34
        }
      },
      "source": [
        "32 / 8"
      ],
      "execution_count": 0,
      "outputs": [
        {
          "output_type": "execute_result",
          "data": {
            "text/plain": [
              "4.0"
            ]
          },
          "metadata": {
            "tags": []
          },
          "execution_count": 9
        }
      ]
    },
    {
      "cell_type": "code",
      "metadata": {
        "id": "f2ISciBKlCna",
        "colab_type": "code",
        "outputId": "707c22c6-d8b7-49d4-9f5a-a1239513bba4",
        "colab": {
          "base_uri": "https://localhost:8080/",
          "height": 35
        }
      },
      "source": [
        "9 * 3"
      ],
      "execution_count": 0,
      "outputs": [
        {
          "output_type": "execute_result",
          "data": {
            "text/plain": [
              "27"
            ]
          },
          "metadata": {
            "tags": []
          },
          "execution_count": 4
        }
      ]
    },
    {
      "cell_type": "code",
      "metadata": {
        "id": "E-anUdyMlChR",
        "colab_type": "code",
        "outputId": "b77993f1-84e2-47e1-8964-6d873125a667",
        "colab": {
          "base_uri": "https://localhost:8080/",
          "height": 35
        }
      },
      "source": [
        "9 ** 3"
      ],
      "execution_count": 0,
      "outputs": [
        {
          "output_type": "execute_result",
          "data": {
            "text/plain": [
              "729"
            ]
          },
          "metadata": {
            "tags": []
          },
          "execution_count": 5
        }
      ]
    },
    {
      "cell_type": "code",
      "metadata": {
        "id": "Ysls7-ZJlCZ2",
        "colab_type": "code",
        "outputId": "dde086c5-4380-4cae-8fda-62b5f49c63d1",
        "colab": {
          "base_uri": "https://localhost:8080/",
          "height": 35
        }
      },
      "source": [
        "9 / 3"
      ],
      "execution_count": 0,
      "outputs": [
        {
          "output_type": "execute_result",
          "data": {
            "text/plain": [
              "3.0"
            ]
          },
          "metadata": {
            "tags": []
          },
          "execution_count": 6
        }
      ]
    },
    {
      "cell_type": "code",
      "metadata": {
        "id": "aYZwtTPylJ3r",
        "colab_type": "code",
        "outputId": "d8e4cb0e-e754-462d-ea75-2ff8b196af06",
        "colab": {
          "base_uri": "https://localhost:8080/",
          "height": 35
        }
      },
      "source": [
        "9 // 3"
      ],
      "execution_count": 0,
      "outputs": [
        {
          "output_type": "execute_result",
          "data": {
            "text/plain": [
              "3"
            ]
          },
          "metadata": {
            "tags": []
          },
          "execution_count": 7
        }
      ]
    },
    {
      "cell_type": "code",
      "metadata": {
        "id": "DNf9Q_gAlJt5",
        "colab_type": "code",
        "outputId": "0ef16c45-9182-4f18-af04-0cfd1630a63b",
        "colab": {
          "base_uri": "https://localhost:8080/",
          "height": 35
        }
      },
      "source": [
        "9 % 3"
      ],
      "execution_count": 0,
      "outputs": [
        {
          "output_type": "execute_result",
          "data": {
            "text/plain": [
              "0"
            ]
          },
          "metadata": {
            "tags": []
          },
          "execution_count": 8
        }
      ]
    },
    {
      "cell_type": "markdown",
      "metadata": {
        "id": "BrsoUf4QdSPQ",
        "colab_type": "text"
      },
      "source": [
        "##1.10"
      ]
    },
    {
      "cell_type": "code",
      "metadata": {
        "id": "iR_enN8cdUrg",
        "colab_type": "code",
        "outputId": "8f59096a-31fa-431c-8fff-62adb5dc29b0",
        "colab": {
          "base_uri": "https://localhost:8080/",
          "height": 34
        }
      },
      "source": [
        "1 + 2 + 3 + 4 + 5 + 6 + 7 + 8 + 9 + 10"
      ],
      "execution_count": 0,
      "outputs": [
        {
          "output_type": "execute_result",
          "data": {
            "text/plain": [
              "55"
            ]
          },
          "metadata": {
            "tags": []
          },
          "execution_count": 11
        }
      ]
    },
    {
      "cell_type": "code",
      "metadata": {
        "id": "oQ5xJ6YgdrrQ",
        "colab_type": "code",
        "outputId": "9fb36d7a-3b36-477b-f691-8bdfd6e833fa",
        "colab": {
          "base_uri": "https://localhost:8080/",
          "height": 34
        }
      },
      "source": [
        "5 * 2 * 3.14"
      ],
      "execution_count": 0,
      "outputs": [
        {
          "output_type": "execute_result",
          "data": {
            "text/plain": [
              "31.400000000000002"
            ]
          },
          "metadata": {
            "tags": []
          },
          "execution_count": 14
        }
      ]
    },
    {
      "cell_type": "code",
      "metadata": {
        "id": "HRCJRlNV3sTR",
        "colab_type": "code",
        "outputId": "0ae13515-2efc-4043-ccb6-bdb041ff3ec8",
        "colab": {
          "base_uri": "https://localhost:8080/",
          "height": 35
        }
      },
      "source": [
        "25 * 4"
      ],
      "execution_count": 0,
      "outputs": [
        {
          "output_type": "execute_result",
          "data": {
            "text/plain": [
              "100"
            ]
          },
          "metadata": {
            "tags": []
          },
          "execution_count": 3
        }
      ]
    },
    {
      "cell_type": "code",
      "metadata": {
        "id": "ZISppXWV3vTp",
        "colab_type": "code",
        "outputId": "e1a20097-c720-4e23-fa68-003d7aaf14a8",
        "colab": {
          "base_uri": "https://localhost:8080/",
          "height": 35
        }
      },
      "source": [
        "25 * 25"
      ],
      "execution_count": 0,
      "outputs": [
        {
          "output_type": "execute_result",
          "data": {
            "text/plain": [
              "625"
            ]
          },
          "metadata": {
            "tags": []
          },
          "execution_count": 2
        }
      ]
    },
    {
      "cell_type": "code",
      "metadata": {
        "id": "ArhLFc9f30hh",
        "colab_type": "code",
        "outputId": "4d0594b1-5a25-470e-9456-2fd0fff7652c",
        "colab": {
          "base_uri": "https://localhost:8080/",
          "height": 35
        }
      },
      "source": [
        "10 * 2 + 30 * 2"
      ],
      "execution_count": 0,
      "outputs": [
        {
          "output_type": "execute_result",
          "data": {
            "text/plain": [
              "80"
            ]
          },
          "metadata": {
            "tags": []
          },
          "execution_count": 4
        }
      ]
    },
    {
      "cell_type": "code",
      "metadata": {
        "id": "fem8ye8f34Fo",
        "colab_type": "code",
        "outputId": "a5ea2ea9-c3c9-4b2e-de57-89a3d08f6a84",
        "colab": {
          "base_uri": "https://localhost:8080/",
          "height": 35
        }
      },
      "source": [
        "10 * 30"
      ],
      "execution_count": 0,
      "outputs": [
        {
          "output_type": "execute_result",
          "data": {
            "text/plain": [
              "300"
            ]
          },
          "metadata": {
            "tags": []
          },
          "execution_count": 5
        }
      ]
    },
    {
      "cell_type": "code",
      "metadata": {
        "id": "sJhALT59YjAB",
        "colab_type": "code",
        "outputId": "1ab57720-da74-420e-84af-3feb59d31626",
        "colab": {
          "base_uri": "https://localhost:8080/",
          "height": 35
        }
      },
      "source": [
        "1 * 2 * 3 * 4 * 5 * 6 * 7 * 8 * 9 * 10"
      ],
      "execution_count": 0,
      "outputs": [
        {
          "output_type": "execute_result",
          "data": {
            "text/plain": [
              "3628800"
            ]
          },
          "metadata": {
            "tags": []
          },
          "execution_count": 28
        }
      ]
    },
    {
      "cell_type": "markdown",
      "metadata": {
        "id": "wf2HfVQj37e1",
        "colab_type": "text"
      },
      "source": [
        "##1.11"
      ]
    },
    {
      "cell_type": "code",
      "metadata": {
        "id": "M5X5aPjE35nx",
        "colab_type": "code",
        "outputId": "0d441d05-d0b2-470c-c07e-f1cdf7cf08d7",
        "colab": {
          "base_uri": "https://localhost:8080/",
          "height": 34
        }
      },
      "source": [
        "80 * 1.5"
      ],
      "execution_count": 0,
      "outputs": [
        {
          "output_type": "execute_result",
          "data": {
            "text/plain": [
              "120.0"
            ]
          },
          "metadata": {
            "tags": []
          },
          "execution_count": 13
        }
      ]
    },
    {
      "cell_type": "markdown",
      "metadata": {
        "id": "6ezei_EsWq8E",
        "colab_type": "text"
      },
      "source": [
        "##1.12"
      ]
    },
    {
      "cell_type": "code",
      "metadata": {
        "id": "AIGbtwYra3Kf",
        "colab_type": "code",
        "outputId": "b34a7d4c-232e-4bc4-e7b0-93030cdd3257",
        "colab": {
          "base_uri": "https://localhost:8080/",
          "height": 34
        }
      },
      "source": [
        " 190 / 2"
      ],
      "execution_count": 0,
      "outputs": [
        {
          "output_type": "execute_result",
          "data": {
            "text/plain": [
              "95.0"
            ]
          },
          "metadata": {
            "tags": []
          },
          "execution_count": 14
        }
      ]
    },
    {
      "cell_type": "markdown",
      "metadata": {
        "id": "a4ByPFWikeSM",
        "colab_type": "text"
      },
      "source": [
        "##1.13"
      ]
    },
    {
      "cell_type": "code",
      "metadata": {
        "id": "W7XOrEszkSMV",
        "colab_type": "code",
        "outputId": "aa445eeb-8006-43e5-8677-3a4c26134613",
        "colab": {
          "base_uri": "https://localhost:8080/",
          "height": 35
        }
      },
      "source": [
        "149597870 / 299792"
      ],
      "execution_count": 0,
      "outputs": [
        {
          "output_type": "execute_result",
          "data": {
            "text/plain": [
              "499.00554384373163"
            ]
          },
          "metadata": {
            "tags": []
          },
          "execution_count": 1
        }
      ]
    },
    {
      "cell_type": "markdown",
      "metadata": {
        "id": "wNz3EINgbaLP",
        "colab_type": "text"
      },
      "source": [
        "##1.14"
      ]
    },
    {
      "cell_type": "code",
      "metadata": {
        "id": "wYaZeS3vbSoc",
        "colab_type": "code",
        "outputId": "09def1f7-2527-4bee-80f3-4f3810fcd14a",
        "colab": {
          "base_uri": "https://localhost:8080/",
          "height": 35
        }
      },
      "source": [
        "3 * 2 * 1"
      ],
      "execution_count": 0,
      "outputs": [
        {
          "output_type": "execute_result",
          "data": {
            "text/plain": [
              "6"
            ]
          },
          "metadata": {
            "tags": []
          },
          "execution_count": 33
        }
      ]
    },
    {
      "cell_type": "code",
      "metadata": {
        "id": "y72cVJvdgIHJ",
        "colab_type": "code",
        "outputId": "50f7eb56-07b8-4dc2-9596-8d0eb0dc07c1",
        "colab": {
          "base_uri": "https://localhost:8080/",
          "height": 35
        }
      },
      "source": [
        "5 * 4 * 3 * 2 * 1"
      ],
      "execution_count": 0,
      "outputs": [
        {
          "output_type": "execute_result",
          "data": {
            "text/plain": [
              "120"
            ]
          },
          "metadata": {
            "tags": []
          },
          "execution_count": 34
        }
      ]
    },
    {
      "cell_type": "code",
      "metadata": {
        "id": "BsHLEORtgPXr",
        "colab_type": "code",
        "outputId": "f741359b-9501-4c4a-e364-d4081b4d2686",
        "colab": {
          "base_uri": "https://localhost:8080/",
          "height": 35
        }
      },
      "source": [
        "12 * 11 * 10 * 9 * 8 * 7 * 6 * 5 * 4 * 3 * 2 * 1"
      ],
      "execution_count": 0,
      "outputs": [
        {
          "output_type": "execute_result",
          "data": {
            "text/plain": [
              "479001600"
            ]
          },
          "metadata": {
            "tags": []
          },
          "execution_count": 2
        }
      ]
    },
    {
      "cell_type": "code",
      "metadata": {
        "id": "BjsIt8Lykz-e",
        "colab_type": "code",
        "outputId": "81f9d540-e5c9-4b3f-8e16-2f47bac6bf98",
        "colab": {
          "base_uri": "https://localhost:8080/",
          "height": 35
        }
      },
      "source": [
        "20 * 19 * 18 * 17 * 16 * 15 * 14 * 13 * 12 * 11 * 10 * 9 * 8 * 7 * 6 * 5 * 4 * 3 * 2 * 1"
      ],
      "execution_count": 0,
      "outputs": [
        {
          "output_type": "execute_result",
          "data": {
            "text/plain": [
              "2432902008176640000"
            ]
          },
          "metadata": {
            "tags": []
          },
          "execution_count": 3
        }
      ]
    }
  ]
}