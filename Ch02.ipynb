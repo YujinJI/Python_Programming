{
  "nbformat": 4,
  "nbformat_minor": 0,
  "metadata": {
    "colab": {
      "name": "2장_연습문제.ipynb",
      "provenance": [],
      "collapsed_sections": [],
      "include_colab_link": true
    },
    "kernelspec": {
      "name": "python3",
      "display_name": "Python 3"
    }
  },
  "cells": [
    {
      "cell_type": "markdown",
      "metadata": {
        "id": "view-in-github",
        "colab_type": "text"
      },
      "source": [
        "<a href=\"https://colab.research.google.com/github/YujinJI/Python_Programming/blob/master/Ch02.ipynb\" target=\"_parent\"><img src=\"https://colab.research.google.com/assets/colab-badge.svg\" alt=\"Open In Colab\"/></a>"
      ]
    },
    {
      "cell_type": "markdown",
      "metadata": {
        "id": "WPFoowcQcoeD",
        "colab_type": "text"
      },
      "source": [
        "## 2.1 (섭씨온도를 화씨온도로 변환하기) 섭씨온도를 읽어서 화씨온도로 변환하고 그 결과를 화면에 출력하는 프로그램을 작성하시오. 변환 수식은 다음과 같다. \n",
        "### fahrenheit = (9 / 5) * celsius + 32"
      ]
    },
    {
      "cell_type": "code",
      "metadata": {
        "id": "jJ8UbHtfdJFC",
        "colab_type": "code",
        "outputId": "e85cd40b-75ec-456c-dd85-099793ada411",
        "colab": {
          "base_uri": "https://localhost:8080/",
          "height": 53
        }
      },
      "source": [
        "cel = int(input('섭씨로 온도를 입력하세요 :'))\n",
        "fah = (9 / 5) * cel + 32\n",
        "print('섭씨 {}도는 화씨 {}도 입니다.'.format(cel,fah))"
      ],
      "execution_count": 0,
      "outputs": [
        {
          "output_type": "stream",
          "text": [
            "섭씨로 온도를 입력하세요 :15\n",
            "섭씨 15도는 화씨 59.0도 입니다.\n"
          ],
          "name": "stdout"
        }
      ]
    },
    {
      "cell_type": "markdown",
      "metadata": {
        "id": "akqWwZpZeqB6",
        "colab_type": "text"
      },
      "source": [
        "## 2.2 (원통의 부피 계산하기) 원통의 반지름과 길이를 읽고 다음 수식을 사용하여 넓이와 부피를 계산하는 프로그램을 작성하시오.\n",
        "### area = radius * radius * 3.14\n",
        "### volume = area * length"
      ]
    },
    {
      "cell_type": "code",
      "metadata": {
        "id": "2gk6BM_5fNNK",
        "colab_type": "code",
        "outputId": "373b2317-3193-4098-dd5e-633c099b270e",
        "colab": {
          "base_uri": "https://localhost:8080/",
          "height": 71
        }
      },
      "source": [
        "r, l = input('원통의 반지름과 길이를 입력하세요 :').split(',')\n",
        "r = float(r)\n",
        "l = int(l)\n",
        "area = r * r * 3.14\n",
        "volume = area * l\n",
        "print('넓이는 {} 입니다.'.format(area))\n",
        "print('부피는 {} 입니다.'.format(volume))"
      ],
      "execution_count": 0,
      "outputs": [
        {
          "output_type": "stream",
          "text": [
            "원통의 반지름과 길이를 입력하세요 :5,24\n",
            "넓이는 78.5 입니다.\n",
            "부피는 1884.0 입니다.\n"
          ],
          "name": "stdout"
        }
      ]
    },
    {
      "cell_type": "markdown",
      "metadata": {
        "id": "WrHPLIgDhP0N",
        "colab_type": "text"
      },
      "source": [
        "## 2.3 (피트를 미터로 변환하기) 피트 숫자 값을 읽어서 미터 숫자 값으로 변환하고 그 결과를 화면에 출력하는 프로그램을 작성하시오. 1피트는 0.305미터이다."
      ]
    },
    {
      "cell_type": "code",
      "metadata": {
        "id": "-V4H_zi9hggc",
        "colab_type": "code",
        "outputId": "b852cb91-5d18-4291-e4b8-95251d1f7ffb",
        "colab": {
          "base_uri": "https://localhost:8080/",
          "height": 53
        }
      },
      "source": [
        "feet = float(input('피트 값 = '))\n",
        "meter = feet * 0.305\n",
        "print('{} 피트는 {} 미터입니다.'.format(feet,meter))"
      ],
      "execution_count": 0,
      "outputs": [
        {
          "output_type": "stream",
          "text": [
            "피트 값 = 35\n",
            "35.0 피트는 10.674999999999999 미터입니다.\n"
          ],
          "name": "stdout"
        }
      ]
    },
    {
      "cell_type": "markdown",
      "metadata": {
        "id": "s9_-duwxiS4C",
        "colab_type": "text"
      },
      "source": [
        "## 2.4 (파운드를 킬로그램으로 변환하기) 파운드를 킬로그램으로 변환하는 프로그램을 작성하시오. 사용자로부터 파운드 값을 입력받고 그 값을 킬로그램으로 변환하며 결과를 화면에 출력한다. 1파운드는 0.454킬로그램이다."
      ]
    },
    {
      "cell_type": "code",
      "metadata": {
        "id": "03ZJ6WSAif7j",
        "colab_type": "code",
        "outputId": "901e45be-ba16-44b2-817f-05b0ff31d9f3",
        "colab": {
          "base_uri": "https://localhost:8080/",
          "height": 53
        }
      },
      "source": [
        "pound = float(input('파운드 값 = '))\n",
        "kg = pound * 0.454\n",
        "print('{} 파운드는 {} 킬로그램입니다.'.format(pound,kg))"
      ],
      "execution_count": 0,
      "outputs": [
        {
          "output_type": "stream",
          "text": [
            "파운드 값 = 15\n",
            "15.0 파운드는 6.8100000000000005 킬로그램입니다.\n"
          ],
          "name": "stdout"
        }
      ]
    },
    {
      "cell_type": "markdown",
      "metadata": {
        "id": "6_78tZuAkaKT",
        "colab_type": "text"
      },
      "source": [
        "## 2.5 (금융 애플리케이션: 팁 계산하기) 소계와 팁 비율을 읽고 팁 금액과 총액을 계산하는 프로그램을 작성하시오. 예를들어, 소계로 10과 팁 비율로 15%를 입력하면, 팁 금액으로 1.5와 총액으로 11.5를 출력한다."
      ]
    },
    {
      "cell_type": "code",
      "metadata": {
        "id": "sb1Qvv7skoaa",
        "colab_type": "code",
        "outputId": "89f8e4a4-08f6-4c6d-88a6-eb7e4fedb413",
        "colab": {
          "base_uri": "https://localhost:8080/",
          "height": 52
        }
      },
      "source": [
        "s, tip = input('소계와 팁 비율을 입력하세요 :').split(',')\n",
        "s = float(s)\n",
        "tip = int(tip)\n",
        "tip = s * ((1 / 100) * tip)\n",
        "total = s + tip\n",
        "print('팁은 {0:.2f} 이고 총액은 {1:.2f} 입니다.'.format(tip,total))"
      ],
      "execution_count": 0,
      "outputs": [
        {
          "output_type": "stream",
          "text": [
            "소계와 팁 비율을 입력하세요 :15.69,15\n",
            "팁은 2.35 이고 총액은 18.04 입니다.\n"
          ],
          "name": "stdout"
        }
      ]
    },
    {
      "cell_type": "markdown",
      "metadata": {
        "id": "XYRQfff3mL4w",
        "colab_type": "text"
      },
      "source": [
        "## 2.6 (정수의 자릿수 합산하기) 0과 1000 사이의 정수를 읽어서 각 자릿수 합을 구하는 프로그램을 작성하시오. 예를 들어, 정수가 932라면 자릿수의 합은 14이다(힌트: 자릿수를 추출하기 위해 % 연산자를 사용하고 추출된 자릿수를 없애기 위해 // 연산자를 사용하시오. 예를 들어, 932 % 10 = 2 이고 932 // 10 = 93이다.)"
      ]
    },
    {
      "cell_type": "code",
      "metadata": {
        "id": "eapTg2iMmgju",
        "colab_type": "code",
        "outputId": "aba7950f-fe05-4d92-d3c0-4fddb33c568b",
        "colab": {
          "base_uri": "https://localhost:8080/",
          "height": 51
        }
      },
      "source": [
        "num = int(input('0과 1000사이의 숫자를 입력하세요 :'))\n",
        "num1 = num % 10\n",
        "num2 = (num % 100) // 10\n",
        "num3 = num // 100\n",
        "sum = num1 + num2 + num3\n",
        "print('각 자릿수의 합은 {} 입니다.'.format(sum))"
      ],
      "execution_count": 0,
      "outputs": [
        {
          "output_type": "stream",
          "text": [
            "0과 1000사이의 숫자를 입력하세요 :999\n",
            "각 자릿수의 합은 27 입니다.\n"
          ],
          "name": "stdout"
        }
      ]
    },
    {
      "cell_type": "markdown",
      "metadata": {
        "id": "hQx7iswZbzJL",
        "colab_type": "text"
      },
      "source": [
        "## 2.7 (년과 일수 계산하기) 분 값을 입력하고(예를 들어, 10억분), 그 값에 대한 년수와 일수를 출력하는 프로그램을 작성하시오. 단순 계산을 위해, 1년은 365일이라고 가정한다."
      ]
    },
    {
      "cell_type": "code",
      "metadata": {
        "id": "70w0ZRU7cZpw",
        "colab_type": "code",
        "outputId": "a09f129e-f4c4-470a-8bf7-742270028dcf",
        "colab": {
          "base_uri": "https://localhost:8080/",
          "height": 52
        }
      },
      "source": [
        "min = int(input('분에 대한 숫자를 입력하세요 :'))\n",
        "year = min / (365*24*60)\n",
        "day = min % (365*24*60) / (60*24)\n",
        "print(\"{}분은 총 {}년,{}일 입니다.\".format(min,year,day))\n"
      ],
      "execution_count": 0,
      "outputs": [
        {
          "output_type": "stream",
          "text": [
            "분에 대한 숫자를 입력하세요 :1000000000\n",
            "1000000000분은 총 1902.5875190258753년,214.44444444444446일 입니다.\n"
          ],
          "name": "stdout"
        }
      ]
    },
    {
      "cell_type": "markdown",
      "metadata": {
        "id": "wbIhaceYdmyL",
        "colab_type": "text"
      },
      "source": [
        "## 2.8 (과학 : 에너지 계산하기) 초기 온도에서 최종 온도까지 물을 가열하는 데 필요한 에너지 계산 프로그램을 작성하시오. 사용자로부터 킬로그램 단위의 물의 양과 초기 온도 및 최종 온도를 입력받는다. 에너지 계산을 위한 수식은 다음과 같다.\n",
        "### Q = M * (finalTemperature - initialTemperature) * 4184"
      ]
    },
    {
      "cell_type": "code",
      "metadata": {
        "id": "FR-uQ7WkeCFf",
        "colab_type": "code",
        "outputId": "cfd5d5dc-5e8f-42d3-a01c-3a9e128ebe00",
        "colab": {
          "base_uri": "https://localhost:8080/",
          "height": 85
        }
      },
      "source": [
        "M = float(input('킬로그램 단위로 물의 양을 입력하세요 :'))\n",
        "init = float(input('초기 온도를 입력하세요 :'))\n",
        "fin = float(input('최종 온도를 입력하세요 :'))\n",
        "Q = M * (fin - init) * 4184\n",
        "print('필요한 에너지는',Q,'줄입니다.')"
      ],
      "execution_count": 0,
      "outputs": [
        {
          "output_type": "stream",
          "text": [
            "킬로그램 단위로 물의 양을 입력하세요 :55.5\n",
            "초기 온도를 입력하세요 :3.5\n",
            "최종 온도를 입력하세요 :10.5\n",
            "필요한 에너지는 1625484.0 줄입니다.\n"
          ],
          "name": "stdout"
        }
      ]
    },
    {
      "cell_type": "markdown",
      "metadata": {
        "id": "TvYyT409gjMI",
        "colab_type": "text"
      },
      "source": [
        "## 2.9 (과학 : 체감온도) 바깥이 얼마나 추울까? 단순히 온도만으로는 답하기에 충분치 않다. 풍속, 상대 습도, 햇빛 등 다른 여러 요소들이 바깥 추위를 결정하는 데 중요한 역할을 한다. 2001년에 NWS(National Weather Service)는 온도와 풍속을 이용하여 추위를 측정할 수 있는 새로운 체감온도 계산법을 개발하였다. 수식은 다음과 같다.\n",
        "### t = 35.74 + 0.6215t - 35.75v + 0.4275tv"
      ]
    },
    {
      "cell_type": "code",
      "metadata": {
        "id": "Ozap9IZWkjEI",
        "colab_type": "code",
        "outputId": "701efae3-3716-4e62-abbe-49b5a759ee76",
        "colab": {
          "base_uri": "https://localhost:8080/",
          "height": 68
        }
      },
      "source": [
        "fah = float(input('화씨 -58도와 41도 사이의 온도를 입력하세요 :'))\n",
        "mph = int(input('풍속을 시간당 마일 단위로 입력하세요 :'))\n",
        "tem = 35.74 + (0.6215 * fah) - (35.75 * mph ** 0.16) + (0.4275 * fah  * mph ** 0.16)\n",
        "print('체감온도는 {} 입니다.'.format(tem))"
      ],
      "execution_count": 0,
      "outputs": [
        {
          "output_type": "stream",
          "text": [
            "화씨 -58도와 41도 사이의 온도를 입력하세요 :5.3\n",
            "풍속을 시간당 마일 단위로 입력하세요 :6\n",
            "체감온도는 -5.567068455881625 입니다.\n"
          ],
          "name": "stdout"
        }
      ]
    },
    {
      "cell_type": "markdown",
      "metadata": {
        "id": "r6A2E3wUvQor",
        "colab_type": "text"
      },
      "source": [
        "## 2.10 (물리 : 활주로 길이 계산하기) 비행기의 가속도 a와 착륙 속도 v가 주어지면, 다음 수식을 이용하여 비행기가 착륙하기 위해 필요한 활주로의 최소 길이를 계산할 수 있다. 길이 = v^2 / 2a. 사용자로부터 m/s 단위의 속도 v와 m/s^2 단위의 가속도 a를 입력받고 활주로의 최소 거리를 출력하는 프로그램을 작성하시오."
      ]
    },
    {
      "cell_type": "code",
      "metadata": {
        "id": "Dc3y6jSJv72R",
        "colab_type": "code",
        "outputId": "b7eb4300-e94f-48f1-c5a0-9286abd8a136",
        "colab": {
          "base_uri": "https://localhost:8080/",
          "height": 51
        }
      },
      "source": [
        "v,a = eval(input('속도와 가속도를 입력하세요: '))\n",
        "s = v**2 / (2 * a)\n",
        "print('이 비행기의 최소 활주로 길이는 {}입니다.'.format(s))\n"
      ],
      "execution_count": 0,
      "outputs": [
        {
          "output_type": "stream",
          "text": [
            "속도와 가속도를 입력하세요: 60,3.5\n",
            "이 비행기의 최소 활주로 길이는 514.2857142857143입니다.\n"
          ],
          "name": "stdout"
        }
      ]
    },
    {
      "cell_type": "markdown",
      "metadata": {
        "id": "7Ek9LFxPwCL8",
        "colab_type": "text"
      },
      "source": [
        "## 2.11 (금융 애플리케이션: 약정 금액) 어떤 자금을 고정 연이율을 갖는 적금에 넣고자 한다. 3년 후에 500만 원의 적금을 받기 위해서는 매월 어느 정도의 납입금을 적금 통장에 예금해야 하는가? 월납입금은 다음 수식에 의해 얻을 수 있다. 약정금액, 연이율(%), 약정 기간(년)을 입력받고 월납입금을 화면에 출력하는 프로그램을 작성하시오. "
      ]
    },
    {
      "cell_type": "code",
      "metadata": {
        "id": "sNyLitqDySI9",
        "colab_type": "code",
        "outputId": "a90fb84f-9b2b-4544-f933-e6a0892cf849",
        "colab": {
          "base_uri": "https://localhost:8080/",
          "height": 85
        }
      },
      "source": [
        "a = int(input('약정 금액을 입력하세요: '))\n",
        "year = float(input('연이율(%)를 입력하세요: '))\n",
        "year1 = int(input('약정 기간(년)'))\n",
        "month = a / (1 + (year/12)/100.0)**(year1*12)\n",
        "print('월납입금은 {} 입니다.'.format(month))"
      ],
      "execution_count": 0,
      "outputs": [
        {
          "output_type": "stream",
          "text": [
            "약정 금액을 입력하세요: 5000000\n",
            "연이율(%)를 입력하세요: 3.25\n",
            "약정 기간(년)3\n",
            "월납입금은 4536109.497422609 입니다.\n"
          ],
          "name": "stdout"
        }
      ]
    },
    {
      "cell_type": "markdown",
      "metadata": {
        "id": "7z8sWXPSySlI",
        "colab_type": "text"
      },
      "source": [
        "## 2.12 (표 출력하기) 다음 표를 출력하는 프로그램을 작성하시오."
      ]
    },
    {
      "cell_type": "code",
      "metadata": {
        "id": "DDdIh6qUyZeJ",
        "colab_type": "code",
        "outputId": "c22d9764-1262-43bc-f1da-6fa674011956",
        "colab": {
          "base_uri": "https://localhost:8080/",
          "height": 122
        }
      },
      "source": [
        "print(\"    a     b     a**b\")\n",
        "for i in range(1,6):\n",
        "    print(\"   \",i,\"   \",(i+1),\"   \",i**(i+1))"
      ],
      "execution_count": 0,
      "outputs": [
        {
          "output_type": "stream",
          "text": [
            "    a     b     a**b\n",
            "    1     2     1\n",
            "    2     3     8\n",
            "    3     4     81\n",
            "    4     5     1024\n",
            "    5     6     15625\n"
          ],
          "name": "stdout"
        }
      ]
    },
    {
      "cell_type": "markdown",
      "metadata": {
        "id": "qEjJd60RyZvf",
        "colab_type": "text"
      },
      "source": [
        "## 2.13 (숫자 분할하기) 사용자로부터 4자리 숫자를 입력받고, 그 숫자를 역순으로 출력하는 프로그램을 작성하시오."
      ]
    },
    {
      "cell_type": "code",
      "metadata": {
        "id": "hFhw1p4Sy2pn",
        "colab_type": "code",
        "outputId": "1c7ce1a0-267e-429b-f0a0-1350ff6cb22e",
        "colab": {
          "base_uri": "https://localhost:8080/",
          "height": 105
        }
      },
      "source": [
        "num = input(\"정수를 입력하세요\")\n",
        "for i in range(1,len(num)+1):\n",
        "    print(num[-i])"
      ],
      "execution_count": 0,
      "outputs": [
        {
          "output_type": "stream",
          "text": [
            "정수를 입력하세요3125\n",
            "5\n",
            "2\n",
            "1\n",
            "3\n"
          ],
          "name": "stdout"
        }
      ]
    },
    {
      "cell_type": "markdown",
      "metadata": {
        "id": "04RIUAGCy25m",
        "colab_type": "text"
      },
      "source": [
        "## 2.14 (기하: 삼각형의 넓이) 삼각형의 세 꼭짓점 좌표 (x1, y1),(x2, y2),(x3, y3)를 입력하고 삼각형의 넓이를 출력하는 프로그램을 작성하시오."
      ]
    },
    {
      "cell_type": "code",
      "metadata": {
        "id": "baHQHYUCzxHH",
        "colab_type": "code",
        "outputId": "a2ba0583-07fa-4714-ab61-36d7d8849239",
        "colab": {
          "base_uri": "https://localhost:8080/",
          "height": 52
        }
      },
      "source": [
        "x1, y1, x2, y2, x3, y3 = input('삼각형의 세 꼭짓점을 입력하세요: ').split(',')\n",
        "x1 = float(x1)\n",
        "y1 = float(y1)\n",
        "x2 = float(x2)\n",
        "y2 = int(y2)\n",
        "x3 = float(x3)\n",
        "y3 = float(y3)\n",
        "a = ((x2-x1)**2 + (y2-y1)**2)**0.5\n",
        "b = ((x3-x2)**2 + (y3-y2)**2)**0.5\n",
        "c = ((x3-x1)**2 + (y3-y1)**2)**0.5\n",
        "s = (a+b+c)/2\n",
        "answer = (s*((s-a)*(s-b)*(s-c)))**0.5\n",
        "print('삼각형의 넓이는',answer,'입니다')\n",
        "\n"
      ],
      "execution_count": 0,
      "outputs": [
        {
          "output_type": "stream",
          "text": [
            "삼각형의 세 꼭짓점을 입력하세요: 1.5,-3.4,4.6,5,9.5,-3.4\n",
            "삼각형의 넓이는 33.600000000000016 입니다\n"
          ],
          "name": "stdout"
        }
      ]
    },
    {
      "cell_type": "markdown",
      "metadata": {
        "id": "m4xeTyeczvxc",
        "colab_type": "text"
      },
      "source": [
        "## 2.15 (기하: 육각형의 넓이) 사용자로부터 육각형 한 변의 길이를 입력받고 육각형의 넓이를 출력하는 프로그램을 작성하시오."
      ]
    },
    {
      "cell_type": "code",
      "metadata": {
        "id": "5vp0BQAm31j6",
        "colab_type": "code",
        "outputId": "06d83419-1db0-43b9-a081-a0dc45979f82",
        "colab": {
          "base_uri": "https://localhost:8080/",
          "height": 51
        }
      },
      "source": [
        "s = float(input('한 변의 길이를 입력하세요: '))\n",
        "a = 3*3**(1/2)/2*s*s\n",
        "print('육각형의 넓이는 {}입니다.'.format(a))"
      ],
      "execution_count": 0,
      "outputs": [
        {
          "output_type": "stream",
          "text": [
            "한 변의 길이를 입력하세요: 5.5\n",
            "육각형의 넓이는 78.59180539343781입니다.\n"
          ],
          "name": "stdout"
        }
      ]
    },
    {
      "cell_type": "markdown",
      "metadata": {
        "id": "_4r5WxRa7YY5",
        "colab_type": "text"
      },
      "source": [
        "## 2.16 (물리: 가속도) 평균 가속도는 다음 수식에서 볼 수 있듯이 속도 변화량을 시간으로 나누어 계산된다. 사용자로부터 m/s단위의 시작 속도 v와 종료 속도 v, 시간 t를 입력받고, 평균 가속도를 화면에 출력하는 프로그램을 작성하시오."
      ]
    },
    {
      "cell_type": "code",
      "metadata": {
        "id": "B_8qrpVL76v8",
        "colab_type": "code",
        "outputId": "90bd330e-185b-4edc-c26b-84a8016abf75",
        "colab": {
          "base_uri": "https://localhost:8080/",
          "height": 51
        }
      },
      "source": [
        "v0, v1, t = eval(input('v0, v1, t의 값을 입력하세요: '))\n",
        "a = (v1 - v0) / t\n",
        "print('평균 가속도는 {} 입니다.'.format(a))"
      ],
      "execution_count": 0,
      "outputs": [
        {
          "output_type": "stream",
          "text": [
            "v0, v1, t의 값을 입력하세요: 5.5,50.9,4.5\n",
            "평균 가속도는 10.088888888888889 입니다.\n"
          ],
          "name": "stdout"
        }
      ]
    },
    {
      "cell_type": "markdown",
      "metadata": {
        "id": "2ssbUPVT313C",
        "colab_type": "text"
      },
      "source": [
        "## 2.17 (건강 애플리케이션: BMI 계산하기) 체질량 지수는 몸무게에 기초한 건강 지수이다. 킬로그램 단위의 몸무게 값을 미터 단위의 키 값으로 나누어 계산된다. 사용자로부터 파운드 단위의 몸무게와 인치 단위의 키를 입력받고 BMI를 출력하는 프로그램을 작성하시오.\n",
        "### 1파운드는 0.45359237킬로그램 이고 1인치는 0.0254미터이다."
      ]
    },
    {
      "cell_type": "code",
      "metadata": {
        "id": "9nT85Ef4_ErI",
        "colab_type": "code",
        "outputId": "e760f6ee-9177-408d-de29-c0b0d5522e97",
        "colab": {
          "base_uri": "https://localhost:8080/",
          "height": 68
        }
      },
      "source": [
        "pound = eval(input('몸무게를 파운드로 입력하세요: '))\n",
        "inch = eval(input('키를 인치로 입력하세요: '))\n",
        "kg = pound * 0.45359237\n",
        "k = inch * 0.0254\n",
        "bmi = kg / k**2\n",
        "print('BMI는 {}입니다.'.format(bmi))"
      ],
      "execution_count": 0,
      "outputs": [
        {
          "output_type": "stream",
          "text": [
            "몸무게를 파운드로 입력하세요: 95.5\n",
            "키를 인치로 입력하세요: 50\n",
            "BMI는 34.10871758661417입니다.\n"
          ],
          "name": "stdout"
        }
      ]
    },
    {
      "cell_type": "code",
      "metadata": {
        "id": "vqcrs7OsboAj",
        "colab_type": "code",
        "outputId": "030301cf-9ce3-4ff6-9f34-9fcf44767e6c",
        "colab": {
          "base_uri": "https://localhost:8080/",
          "height": 68
        }
      },
      "source": [
        "kg = eval(input('몸무게를 kg로 입력하세요: '))\n",
        "k = eval(input('키를 m로 입력하세요: '))\n",
        "bmi = kg / k**2\n",
        "print('BMI는 {}입니다.'.format(bmi))"
      ],
      "execution_count": 0,
      "outputs": [
        {
          "output_type": "stream",
          "text": [
            "몸무게를 kg로 입력하세요: 52\n",
            "키를 m로 입력하세요: 1.61\n",
            "BMI는 20.060954438486167입니다.\n"
          ],
          "name": "stdout"
        }
      ]
    },
    {
      "cell_type": "markdown",
      "metadata": {
        "id": "zVllhKCZApXT",
        "colab_type": "text"
      },
      "source": [
        "## 2.18"
      ]
    },
    {
      "cell_type": "code",
      "metadata": {
        "id": "LwOIrh9QFhIV",
        "colab_type": "code",
        "outputId": "0b082407-fa0d-4d9c-9d5a-995ae60cbc1c",
        "colab": {
          "base_uri": "https://localhost:8080/",
          "height": 52
        }
      },
      "source": [
        "import time\n",
        "currentTime = int(time.time())\n",
        "currentHour = (currentTime // 60 // 60) % 24\n",
        "currentminute = (currentTime // 60) % 60\n",
        "GMT = int(input(\"GMT 와 시간대 차이를 입력하세요\"))\n",
        "print(currentHour+GMT,currentminute)"
      ],
      "execution_count": 0,
      "outputs": [
        {
          "output_type": "stream",
          "text": [
            "GMT 와 시간대 차이를 입력하세요-5\n",
            "7 38\n"
          ],
          "name": "stdout"
        }
      ]
    },
    {
      "cell_type": "markdown",
      "metadata": {
        "id": "hAfOdFROYvmy",
        "colab_type": "text"
      },
      "source": [
        "## 2.19"
      ]
    },
    {
      "cell_type": "code",
      "metadata": {
        "id": "KqnlB5AuaVBh",
        "colab_type": "code",
        "outputId": "76cbafa4-8c21-4f8e-e5de-c92679c235eb",
        "colab": {
          "base_uri": "https://localhost:8080/",
          "height": 87
        }
      },
      "source": [
        "invest = int(input('투자금을 입력하세요:'))\n",
        "year_rate = float(input('연이율을 입력하세요'))\n",
        "year = int(input('년수를 입력하세요:'))\n",
        "answer = invest * (1+year_rate/1200)**(year*12)\n",
        "print(\"누적된 가치는{0:.2f}입니다.\".format(answer))"
      ],
      "execution_count": 0,
      "outputs": [
        {
          "output_type": "stream",
          "text": [
            "투자금을 입력하세요:1000000\n",
            "연이율을 입력하세요4.25\n",
            "년수를 입력하세요:1\n",
            "누적된 가치는1043337.72입니다.\n"
          ],
          "name": "stdout"
        }
      ]
    },
    {
      "cell_type": "markdown",
      "metadata": {
        "id": "GNlzfjkTdA1_",
        "colab_type": "text"
      },
      "source": [
        "## 2.20"
      ]
    },
    {
      "cell_type": "code",
      "metadata": {
        "id": "GchGvsqhdCSp",
        "colab_type": "code",
        "outputId": "f2b3fd6f-69e8-453b-acde-d5354bfc53b3",
        "colab": {
          "base_uri": "https://localhost:8080/",
          "height": 52
        }
      },
      "source": [
        "money,year = input('잔고와 연이율을 입력하시오').split(',')\n",
        "money = int(money)\n",
        "year = float(year)\n",
        "propit = money * (year/1200) * 1000\n",
        "print('이자는',propit,'입니다')"
      ],
      "execution_count": 0,
      "outputs": [
        {
          "output_type": "stream",
          "text": [
            "잔고와 연이율을 입력하시오1000,3.5\n",
            "이자는 2916.666666666667 입니다\n"
          ],
          "name": "stdout"
        }
      ]
    },
    {
      "cell_type": "markdown",
      "metadata": {
        "id": "1KJPuT2cdCjN",
        "colab_type": "text"
      },
      "source": [
        "## 2.21"
      ]
    },
    {
      "cell_type": "code",
      "metadata": {
        "id": "oFNuX0RmdL0o",
        "colab_type": "code",
        "outputId": "440c4205-eed8-4a83-ca7d-d825d1ccec65",
        "colab": {
          "base_uri": "https://localhost:8080/",
          "height": 52
        }
      },
      "source": [
        "month_save = int(input('월 저축액: '))\n",
        "answer = 0\n",
        "for i in range(6):\n",
        "    answer = (answer + month_save) * (1 + 0.00417)\n",
        "print('6개월 후 잔고는',answer,'입니다')"
      ],
      "execution_count": 0,
      "outputs": [
        {
          "output_type": "stream",
          "text": [
            "월 저축액: 10000\n",
            "6개월 후 잔고는 60881.81155768637 입니다\n"
          ],
          "name": "stdout"
        }
      ]
    },
    {
      "cell_type": "markdown",
      "metadata": {
        "id": "UquX-rmJdMJj",
        "colab_type": "text"
      },
      "source": [
        "## 2.22"
      ]
    },
    {
      "cell_type": "code",
      "metadata": {
        "id": "iYYlWi9ydNep",
        "colab_type": "code",
        "outputId": "760ffa30-be6f-4111-a771-ccfbaf5c0265",
        "colab": {
          "base_uri": "https://localhost:8080/",
          "height": 52
        }
      },
      "source": [
        "year = int(input('년 수를 입력하세요: '))\n",
        "people = 312032486\n",
        "born = 5*365*24*60*60 / 7\n",
        "death = 5*365*24*60*60 / 13\n",
        "foreginer = 5*365*24*60*60 / 45\n",
        "print(year,'후 인구는 ',people+born-death+foreginer,'명 입니다')"
      ],
      "execution_count": 0,
      "outputs": [
        {
          "output_type": "stream",
          "text": [
            "년 수를 입력하세요: 5\n",
            "5 후 인구는  325932969.5164835 명 입니다\n"
          ],
          "name": "stdout"
        }
      ]
    },
    {
      "cell_type": "markdown",
      "metadata": {
        "id": "6rOp-eXHHfGf",
        "colab_type": "text"
      },
      "source": [
        "## 2.23"
      ]
    },
    {
      "cell_type": "code",
      "metadata": {
        "id": "d_rrqddNNl1P",
        "colab_type": "code",
        "colab": {}
      },
      "source": [
        "import turtle\n",
        "t = turtle.Turtle()\n",
        "t.shape('triangle')\n",
        "\n",
        "radius = int(input('반지름을 입력하세요 :'))\n",
        "t.up()\n",
        "t.goto(-radius,radius)\n",
        "t.down()\n",
        "t.circle(radius)\n",
        "t.up()\n",
        "t.goto(radius,radius)\n",
        "t.down()\n",
        "t.circle(radius)\n",
        "t.up()\n",
        "t.goto(-radius,-radius)\n",
        "t.down()\n",
        "t.circle(radius)\n",
        "t.up()\n",
        "t.goto(radius,-radius)\n",
        "t.down()\n",
        "t.circle(radius)"
      ],
      "execution_count": 0,
      "outputs": []
    },
    {
      "cell_type": "markdown",
      "metadata": {
        "id": "zTJ45RxEOSPG",
        "colab_type": "text"
      },
      "source": [
        "## 2.24"
      ]
    },
    {
      "cell_type": "code",
      "metadata": {
        "id": "yBIo-gbAOTrK",
        "colab_type": "code",
        "colab": {}
      },
      "source": [
        "import turtle\n",
        "t = turtle.Turtle()\n",
        "t.shape('triangle')\n",
        "\n",
        "r = 50\n",
        "t.up()\n",
        "t.goto(-50,0)\n",
        "t.down()\n",
        "for i in range(1,7):\n",
        "    t.right(60)\n",
        "    t.forward(r)\n",
        "    \n",
        "t.up()\n",
        "t.goto(50,0)\n",
        "t.down()\n",
        "for i in range(1,7):\n",
        "    t.right(60)\n",
        "    t.forward(r)\n",
        "\n",
        "t.up()\n",
        "t.goto(-50,-100)\n",
        "t.down()\n",
        "for i in range(1,7):\n",
        "    t.right(60)\n",
        "    t.forward(r)\n",
        "\n",
        "t.up()\n",
        "t.goto(50,-100)\n",
        "t.down()\n",
        "for i in range(1,7):\n",
        "    t.right(60)\n",
        "    t.forward(r)"
      ],
      "execution_count": 0,
      "outputs": []
    },
    {
      "cell_type": "markdown",
      "metadata": {
        "id": "ZwHqTLM2OXo4",
        "colab_type": "text"
      },
      "source": [
        "## 2.25"
      ]
    },
    {
      "cell_type": "code",
      "metadata": {
        "id": "DBi9PCDgOZEE",
        "colab_type": "code",
        "colab": {}
      },
      "source": [
        "import turtle\n",
        "t = turtle.Turtle()\n",
        "x,y,width,length = input(\"중점x,y, 폭, 높이:\").split(',')\n",
        "x = int(x)\n",
        "y = int(y)\n",
        "width = int(width)\n",
        "length = int(length)\n",
        "\n",
        "t.penup()\n",
        "t.goto(x,y)\n",
        "\n",
        "t.forward(width/2)\n",
        "t.pendown()\n",
        "t.left(90)\n",
        "t.forward(length/2)\n",
        "t.left(90)\n",
        "t.forward(width)\n",
        "t.left(90)\n",
        "t.forward(length)\n",
        "t.left(90)\n",
        "t.forward(width)\n",
        "t.left(90)\n",
        "t.forward(length/2)"
      ],
      "execution_count": 0,
      "outputs": []
    },
    {
      "cell_type": "markdown",
      "metadata": {
        "id": "f-juLj1PRN_h",
        "colab_type": "text"
      },
      "source": [
        "## 2.26"
      ]
    },
    {
      "cell_type": "code",
      "metadata": {
        "id": "R1-FrRQYRPVV",
        "colab_type": "code",
        "colab": {}
      },
      "source": [
        "import turtle\n",
        "\n",
        "x,y = input(\"x와 y좌표를 입력:\").split(',')\n",
        "x = int(x)\n",
        "y = int(y)\n",
        "radius = int(input(\"반지름:\"))\n",
        "t = turtle.Turtle()\n",
        "\n",
        "t.penup()\n",
        "t.goto(x,y)\n",
        "t.pendown()\n",
        "t.write(3.14*radius*radius)\n",
        "t.circle(radius)"
      ],
      "execution_count": 0,
      "outputs": []
    },
    {
      "cell_type": "markdown",
      "metadata": {
        "id": "DknlodTAPSLR",
        "colab_type": "text"
      },
      "source": [
        "알고리즘 세미나 실습"
      ]
    },
    {
      "cell_type": "code",
      "metadata": {
        "id": "Vqgk_1F5PUWZ",
        "colab_type": "code",
        "outputId": "e2a75191-5603-4ee7-9347-2b0fd708eada",
        "colab": {
          "base_uri": "https://localhost:8080/",
          "height": 52
        }
      },
      "source": [
        "a = list(map(int, input().split(',')))\n",
        "list(filter(lambda x: x % 5 == 0, a))\n"
      ],
      "execution_count": 0,
      "outputs": [
        {
          "output_type": "stream",
          "text": [
            "1,2,5,10,12,14,15,20\n"
          ],
          "name": "stdout"
        },
        {
          "output_type": "execute_result",
          "data": {
            "text/plain": [
              "[5, 10, 15, 20]"
            ]
          },
          "metadata": {
            "tags": []
          },
          "execution_count": 3
        }
      ]
    }
  ]
}