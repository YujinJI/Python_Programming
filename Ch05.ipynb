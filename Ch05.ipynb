{
  "nbformat": 4,
  "nbformat_minor": 0,
  "metadata": {
    "colab": {
      "name": "5장 연습문제.ipynb",
      "provenance": [],
      "collapsed_sections": [],
      "include_colab_link": true
    },
    "kernelspec": {
      "name": "python3",
      "display_name": "Python 3"
    }
  },
  "cells": [
    {
      "cell_type": "markdown",
      "metadata": {
        "id": "view-in-github",
        "colab_type": "text"
      },
      "source": [
        "<a href=\"https://colab.research.google.com/github/YujinJI/Python_Programming/blob/master/Ch05.ipynb\" target=\"_parent\"><img src=\"https://colab.research.google.com/assets/colab-badge.svg\" alt=\"Open In Colab\"/></a>"
      ]
    },
    {
      "cell_type": "markdown",
      "metadata": {
        "id": "S8i0GVpTy2-A",
        "colab_type": "text"
      },
      "source": [
        "5.1"
      ]
    },
    {
      "cell_type": "code",
      "metadata": {
        "id": "sYNu-F78y5nH",
        "colab_type": "code",
        "outputId": "7644c46d-879f-4c26-ed06-c5d03fe1c63d",
        "colab": {
          "base_uri": "https://localhost:8080/",
          "height": 170
        }
      },
      "source": [
        "plu = 0\n",
        "mi = 0\n",
        "sum = 0\n",
        "avg = 0\n",
        "num = int(input('정수를 입력하세요. 입력값이 0이면 종료됩니다: '))\n",
        "if num == 0:\n",
        "  print('아무 숫자도 입력하지 않았습니다.')\n",
        "\n",
        "while num != 0:\n",
        "  num = int(input('정수를 입력하세요. 입력값이 0이면 종료됩니다: '))\n",
        "  if num > 0:\n",
        "    plu += 1\n",
        "  if num < 0:\n",
        "    mi += 1\n",
        "  sum += num\n",
        "  avg = sum / (plu + mi)\n",
        "print('양수의 개수는 {}개 입니다.'.format(plu))\n",
        "print('음수의 개수는 {}개 입니다.'.format(mi))\n",
        "print('총합은 {}입니다.'.format(sum))\n",
        "print('평균은 {}입니다.'.format(avg))\n"
      ],
      "execution_count": 0,
      "outputs": [
        {
          "output_type": "stream",
          "text": [
            "정수를 입력하세요. 입력값이 0이면 종료됩니다: 4\n",
            "정수를 입력하세요. 입력값이 0이면 종료됩니다: 7\n",
            "정수를 입력하세요. 입력값이 0이면 종료됩니다: -3\n",
            "정수를 입력하세요. 입력값이 0이면 종료됩니다: 3\n",
            "정수를 입력하세요. 입력값이 0이면 종료됩니다: 0\n",
            "양수의 개수는 2개 입니다.\n",
            "음수의 개수는 1개 입니다.\n",
            "총합은 7입니다.\n",
            "평균은 2.3333333333333335입니다.\n"
          ],
          "name": "stdout"
        }
      ]
    },
    {
      "cell_type": "code",
      "metadata": {
        "id": "tlHkognt6wyp",
        "colab_type": "code",
        "outputId": "dccd3e4f-ae70-44a9-b1c1-5e7cc885749d",
        "colab": {
          "base_uri": "https://localhost:8080/",
          "height": 170
        }
      },
      "source": [
        "plu = 0\n",
        "mi = 0\n",
        "sum = 0\n",
        "avg = 0\n",
        "num = int(input('정수를 입력하세요. 입력값이 0이면 종료됩니다: '))\n",
        "if num > 0:\n",
        "    plu += 1\n",
        "if num < 0:\n",
        "    mi += 1\n",
        "if num == 0:\n",
        "  print('아무 숫자도 입력하지 않았습니다.')\n",
        "\n",
        "while num != 0:\n",
        "  num = int(input('정수를 입력하세요. 입력값이 0이면 종료됩니다: '))\n",
        "  if num > 0:\n",
        "    plu += 1\n",
        "  if num < 0:\n",
        "    mi += 1\n",
        "  sum += num\n",
        "  avg = sum / (plu + mi)\n",
        "print('양수의 개수는 {}개 입니다.'.format(plu))\n",
        "print('음수의 개수는 {}개 입니다.'.format(mi))\n",
        "print('총합은 {}입니다.'.format(sum))\n",
        "print('평균은 {}입니다.'.format(avg))"
      ],
      "execution_count": 0,
      "outputs": [
        {
          "output_type": "stream",
          "text": [
            "정수를 입력하세요. 입력값이 0이면 종료됩니다: 1\n",
            "정수를 입력하세요. 입력값이 0이면 종료됩니다: 2\n",
            "정수를 입력하세요. 입력값이 0이면 종료됩니다: 3\n",
            "정수를 입력하세요. 입력값이 0이면 종료됩니다: -3\n",
            "정수를 입력하세요. 입력값이 0이면 종료됩니다: 0\n",
            "양수의 개수는 3개 입니다.\n",
            "음수의 개수는 1개 입니다.\n",
            "총합은 3입니다.\n",
            "평균은 0.75입니다.\n"
          ],
          "name": "stdout"
        }
      ]
    },
    {
      "cell_type": "markdown",
      "metadata": {
        "id": "AR_BDEIH9fW8",
        "colab_type": "text"
      },
      "source": [
        "5.2"
      ]
    },
    {
      "cell_type": "code",
      "metadata": {
        "id": "K83f8gYt30Bv",
        "colab_type": "code",
        "outputId": "d6de10f6-4fdf-489a-bbfc-250b33e3a14c",
        "colab": {
          "base_uri": "https://localhost:8080/",
          "height": 422
        }
      },
      "source": [
        "import random\n",
        "import time\n",
        "correctCount = 0\n",
        "count = 0\n",
        "NUMBER_OF_QUESTIONS = 10\n",
        "\n",
        "startTime = time.time()\n",
        "\n",
        "while count < NUMBER_OF_QUESTIONS:\n",
        "  num1 = random.randint(1,100)\n",
        "  num2 = random.randint(1,100)\n",
        "    \n",
        "  answer = eval(input('{} + {} 는 얼마입니까?'.format(num1,num2)))\n",
        "  \n",
        "  if num1 + num2 == answer:\n",
        "    print('정답입니다!')\n",
        "    correctCount += 1\n",
        "  else:\n",
        "    print('틀렸습니다.\\n {} + {} 는, {}입니다.'.format(num1,num2,num1+num2))\n",
        "  \n",
        "  count += 1\n",
        "\n",
        "endTime = time.time()\n",
        "testTime = int(endTime - startTime)\n",
        "print('정답의 개수는 {}개 중 {}개입니다.\\n수행시간은 {}초 입니다.'.format(NUMBER_OF_QUESTIONS,correctCount,testTime))"
      ],
      "execution_count": 0,
      "outputs": [
        {
          "output_type": "stream",
          "text": [
            "79 + 59 는 얼마입니까?138\n",
            "정답입니다!\n",
            "77 + 40 는 얼마입니까?117\n",
            "정답입니다!\n",
            "59 + 19 는 얼마입니까?82\n",
            "틀렸습니다.\n",
            " 59 + 19 는, 78입니다.\n",
            "57 + 31 는 얼마입니까?88\n",
            "정답입니다!\n",
            "5 + 64 는 얼마입니까?69\n",
            "정답입니다!\n",
            "8 + 40 는 얼마입니까?48\n",
            "정답입니다!\n",
            "60 + 45 는 얼마입니까?105\n",
            "정답입니다!\n",
            "73 + 17 는 얼마입니까?90\n",
            "정답입니다!\n",
            "3 + 52 는 얼마입니까?55\n",
            "정답입니다!\n",
            "12 + 95 는 얼마입니까?107\n",
            "정답입니다!\n",
            "정답의 개수는 10개 중 9개입니다.\n",
            "수행시간은 28초 입니다.\n"
          ],
          "name": "stdout"
        }
      ]
    },
    {
      "cell_type": "markdown",
      "metadata": {
        "id": "0Cw8NiwXAwYY",
        "colab_type": "text"
      },
      "source": [
        "5.3"
      ]
    },
    {
      "cell_type": "code",
      "metadata": {
        "id": "eqDyzzy7AxOr",
        "colab_type": "code",
        "outputId": "4f85a062-9ff3-4abc-c63f-ed9ddfec0293",
        "colab": {
          "base_uri": "https://localhost:8080/",
          "height": 102
        }
      },
      "source": [
        "kg = 0\n",
        "print('킬로그램        파운드')\n",
        "for i in range(4):\n",
        "  kg = kg + 1\n",
        "  pound = kg * 2.2\n",
        "  print('{}             {}'.format(kg,pound))"
      ],
      "execution_count": 0,
      "outputs": [
        {
          "output_type": "stream",
          "text": [
            "킬로그램        파운드\n",
            "1             2.2\n",
            "2             4.4\n",
            "3             6.6000000000000005\n",
            "4             8.8\n"
          ],
          "name": "stdout"
        }
      ]
    },
    {
      "cell_type": "markdown",
      "metadata": {
        "id": "fIpTPzcFChKE",
        "colab_type": "text"
      },
      "source": [
        "5.4"
      ]
    },
    {
      "cell_type": "code",
      "metadata": {
        "id": "4zc-hY6PCiGX",
        "colab_type": "code",
        "outputId": "c357da45-4043-4b80-8de8-d97edb562e83",
        "colab": {
          "base_uri": "https://localhost:8080/",
          "height": 102
        }
      },
      "source": [
        "mile = 0\n",
        "print('마일        킬로미터')\n",
        "for i in range(4):\n",
        "  mile = mile + 1\n",
        "  km = mile * 1.609\n",
        "  print('{}          {}'.format(mile,km))"
      ],
      "execution_count": 0,
      "outputs": [
        {
          "output_type": "stream",
          "text": [
            "마일        킬로미터\n",
            "1          1.609\n",
            "2          3.218\n",
            "3          4.827\n",
            "4          6.436\n"
          ],
          "name": "stdout"
        }
      ]
    },
    {
      "cell_type": "markdown",
      "metadata": {
        "id": "35YPwY3KC1nK",
        "colab_type": "text"
      },
      "source": [
        "5.5"
      ]
    },
    {
      "cell_type": "code",
      "metadata": {
        "id": "fpSI4B1LC2ts",
        "colab_type": "code",
        "outputId": "55979969-3708-4534-d51e-0bc508f51930",
        "colab": {
          "base_uri": "https://localhost:8080/",
          "height": 102
        }
      },
      "source": [
        "kg = 0\n",
        "pound1 = 0\n",
        "print('킬로그램        파운드 ㅣ 파운드       킬로그램')\n",
        "for i in range(4):\n",
        "  kg = kg + 1\n",
        "  pound = kg * 2.2\n",
        "  pound1 += 1\n",
        "  kg1 = pound1 * 0.45\n",
        "  print('{0:1.2f}{1:14.2f} ㅣ {2:1.2f}{3:12.2f}'.format(kg,pound,pound1,kg1))\n",
        "  \n"
      ],
      "execution_count": 0,
      "outputs": [
        {
          "output_type": "stream",
          "text": [
            "킬로그램        파운드 ㅣ 파운드       킬로그램\n",
            "1.00          2.20 ㅣ 1.00        0.45\n",
            "2.00          4.40 ㅣ 2.00        0.90\n",
            "3.00          6.60 ㅣ 3.00        1.35\n",
            "4.00          8.80 ㅣ 4.00        1.80\n"
          ],
          "name": "stdout"
        }
      ]
    },
    {
      "cell_type": "markdown",
      "metadata": {
        "id": "w1-b0scG7-N-",
        "colab_type": "text"
      },
      "source": [
        "5.6"
      ]
    },
    {
      "cell_type": "code",
      "metadata": {
        "id": "jIrMKtcJ7_CK",
        "colab_type": "code",
        "outputId": "5dd8d06e-97bf-4f13-f720-eb4569f23cb9",
        "colab": {
          "base_uri": "https://localhost:8080/",
          "height": 102
        }
      },
      "source": [
        "mile = 0\n",
        "km1 = 0\n",
        "print('마일         킬로미터 ㅣ 킬로미터       마일')\n",
        "for i in range(4):\n",
        "  mile += 1\n",
        "  km = mile * 1.609\n",
        "  km1 += 1\n",
        "  mile1 = km1 * 0.621\n",
        "  print('{0:1.2f}{1:12.2f}  ㅣ {2:1.2f}{3:13.2f}'.format(mile,km,km1,mile1))"
      ],
      "execution_count": 0,
      "outputs": [
        {
          "output_type": "stream",
          "text": [
            "마일         킬로미터 ㅣ 킬로미터       마일\n",
            "1.00        1.61  ㅣ 1.00         0.62\n",
            "2.00        3.22  ㅣ 2.00         1.24\n",
            "3.00        4.83  ㅣ 3.00         1.86\n",
            "4.00        6.44  ㅣ 4.00         2.48\n"
          ],
          "name": "stdout"
        }
      ]
    },
    {
      "cell_type": "markdown",
      "metadata": {
        "id": "ZG1SXr8O9fSS",
        "colab_type": "text"
      },
      "source": [
        "5.7"
      ]
    },
    {
      "cell_type": "code",
      "metadata": {
        "id": "0xo15-AO9gJ9",
        "colab_type": "code",
        "outputId": "2e21285a-63ec-4fdd-a952-40369d9af666",
        "colab": {
          "base_uri": "https://localhost:8080/",
          "height": 663
        }
      },
      "source": [
        "import math\n",
        "a = -10\n",
        "print('각도         sin            cos')\n",
        "for i in range(0,370,10):\n",
        "  i = math.radians(i)\n",
        "  value = math.sin(i)\n",
        "  value1 = math.cos(i)\n",
        "  a += 10\n",
        "  print(a,      '{0:15.4f}{1:15.4f}'.format(value,value1))"
      ],
      "execution_count": 0,
      "outputs": [
        {
          "output_type": "stream",
          "text": [
            "각도         sin            cos\n",
            "0          0.0000         1.0000\n",
            "10          0.1736         0.9848\n",
            "20          0.3420         0.9397\n",
            "30          0.5000         0.8660\n",
            "40          0.6428         0.7660\n",
            "50          0.7660         0.6428\n",
            "60          0.8660         0.5000\n",
            "70          0.9397         0.3420\n",
            "80          0.9848         0.1736\n",
            "90          1.0000         0.0000\n",
            "100          0.9848        -0.1736\n",
            "110          0.9397        -0.3420\n",
            "120          0.8660        -0.5000\n",
            "130          0.7660        -0.6428\n",
            "140          0.6428        -0.7660\n",
            "150          0.5000        -0.8660\n",
            "160          0.3420        -0.9397\n",
            "170          0.1736        -0.9848\n",
            "180          0.0000        -1.0000\n",
            "190         -0.1736        -0.9848\n",
            "200         -0.3420        -0.9397\n",
            "210         -0.5000        -0.8660\n",
            "220         -0.6428        -0.7660\n",
            "230         -0.7660        -0.6428\n",
            "240         -0.8660        -0.5000\n",
            "250         -0.9397        -0.3420\n",
            "260         -0.9848        -0.1736\n",
            "270         -1.0000        -0.0000\n",
            "280         -0.9848         0.1736\n",
            "290         -0.9397         0.3420\n",
            "300         -0.8660         0.5000\n",
            "310         -0.7660         0.6428\n",
            "320         -0.6428         0.7660\n",
            "330         -0.5000         0.8660\n",
            "340         -0.3420         0.9397\n",
            "350         -0.1736         0.9848\n",
            "360         -0.0000         1.0000\n"
          ],
          "name": "stdout"
        }
      ]
    },
    {
      "cell_type": "markdown",
      "metadata": {
        "id": "asaVoOEhLLlf",
        "colab_type": "text"
      },
      "source": [
        "5.8"
      ]
    },
    {
      "cell_type": "code",
      "metadata": {
        "id": "5ZuQSJBBLNOa",
        "colab_type": "code",
        "outputId": "3cdf7255-cf2b-4f8c-cd71-93d943deca9e",
        "colab": {
          "base_uri": "https://localhost:8080/",
          "height": 391
        }
      },
      "source": [
        "import math\n",
        "print('숫자     제곱근')\n",
        "for i in range(0,21,1):\n",
        "  print(i, '{0:12.4f}'.format(math.sqrt(i)))"
      ],
      "execution_count": 0,
      "outputs": [
        {
          "output_type": "stream",
          "text": [
            "숫자     제곱근\n",
            "0       0.0000\n",
            "1       1.0000\n",
            "2       1.4142\n",
            "3       1.7321\n",
            "4       2.0000\n",
            "5       2.2361\n",
            "6       2.4495\n",
            "7       2.6458\n",
            "8       2.8284\n",
            "9       3.0000\n",
            "10       3.1623\n",
            "11       3.3166\n",
            "12       3.4641\n",
            "13       3.6056\n",
            "14       3.7417\n",
            "15       3.8730\n",
            "16       4.0000\n",
            "17       4.1231\n",
            "18       4.2426\n",
            "19       4.3589\n",
            "20       4.4721\n"
          ],
          "name": "stdout"
        }
      ]
    },
    {
      "cell_type": "markdown",
      "metadata": {
        "id": "vTHYlk9SL-5u",
        "colab_type": "text"
      },
      "source": [
        "5.9"
      ]
    },
    {
      "cell_type": "code",
      "metadata": {
        "id": "G336hOdZL_4F",
        "colab_type": "code",
        "outputId": "524a2095-13e9-4f15-e58d-6e0eae1bca04",
        "colab": {
          "base_uri": "https://localhost:8080/",
          "height": 34
        }
      },
      "source": [
        "tuition = 1000000\n",
        "increase = 0\n",
        "for i in range(10):\n",
        "  increase = tuition * 0.05\n",
        "  tuition = increase + tuition\n",
        "print('10년 후 등록금 = {0:1.0f}'.format(tuition))"
      ],
      "execution_count": 0,
      "outputs": [
        {
          "output_type": "stream",
          "text": [
            "10년 후 등록금 = 1628895\n"
          ],
          "name": "stdout"
        }
      ]
    },
    {
      "cell_type": "code",
      "metadata": {
        "id": "-Q9ut9JOUt41",
        "colab_type": "code",
        "outputId": "7b0f3f87-8ea1-4a0c-a1a6-a66c4caf5ebb",
        "colab": {
          "base_uri": "https://localhost:8080/",
          "height": 34
        }
      },
      "source": [
        "tuition = 1000000\n",
        "increase = 0\n",
        "s = 0\n",
        "for i in range(10):\n",
        "  increase = tuition * 0.05\n",
        "  tuition = increase + tuition\n",
        "  s += tuition\n",
        "print('10년 동안 등록금 = {0:1.0f}'.format(s))"
      ],
      "execution_count": 0,
      "outputs": [
        {
          "output_type": "stream",
          "text": [
            "10년 동안 등록금 = 13206787\n"
          ],
          "name": "stdout"
        }
      ]
    },
    {
      "cell_type": "markdown",
      "metadata": {
        "id": "gB52wtJ7oY0E",
        "colab_type": "text"
      },
      "source": [
        "5.10"
      ]
    },
    {
      "cell_type": "code",
      "metadata": {
        "id": "Kcb3l1GfoZth",
        "colab_type": "code",
        "colab": {}
      },
      "source": [
        ""
      ],
      "execution_count": 0,
      "outputs": []
    },
    {
      "cell_type": "markdown",
      "metadata": {
        "id": "vCcDWOkhogPB",
        "colab_type": "text"
      },
      "source": [
        "5.11"
      ]
    },
    {
      "cell_type": "code",
      "metadata": {
        "id": "FzOyjzsNohFs",
        "colab_type": "code",
        "outputId": "43bbe430-622a-42eb-8b50-35925483c38b",
        "colab": {
          "base_uri": "https://localhost:8080/",
          "height": 85
        }
      },
      "source": [
        "max1 = 0\n",
        "\n",
        "num = int(input(\"학생수를 입력하세요: \"))\n",
        "for i in range(1,num+1):\n",
        "  score = int(input(\"학생{} 점수를 입력하세요 :\".format(i)))\n",
        "  max1 = score\n",
        "if max1 > score:\n",
        "  print(\"최고점수는 {}\".format(max1))\n",
        "  \n",
        "  "
      ],
      "execution_count": 0,
      "outputs": [
        {
          "output_type": "stream",
          "text": [
            "학생수를 입력하세요: 3\n",
            "학생1 점수를 입력하세요 :11\n",
            "학생2 점수를 입력하세요 :33\n",
            "학생3 점수를 입력하세요 :22\n"
          ],
          "name": "stdout"
        }
      ]
    },
    {
      "cell_type": "markdown",
      "metadata": {
        "id": "SeC-3sxz2Kln",
        "colab_type": "text"
      },
      "source": [
        "5.12"
      ]
    },
    {
      "cell_type": "code",
      "metadata": {
        "id": "eBqKqI652LVa",
        "colab_type": "code",
        "outputId": "271667ea-509a-4bdf-9bf7-b5fbdbc182ea",
        "colab": {
          "base_uri": "https://localhost:8080/",
          "height": 34
        }
      },
      "source": [
        "for i in range(100,201,1):\n",
        "  if (i % 5 == 0) or (i % 6 == 0) or (i % 30 == 0):\n",
        "    print(i,end=\" \")"
      ],
      "execution_count": 0,
      "outputs": [
        {
          "output_type": "stream",
          "text": [
            "100 102 105 108 110 114 115 120 125 126 130 132 135 138 140 144 145 150 155 156 160 162 165 168 170 174 175 180 185 186 190 192 195 198 200 "
          ],
          "name": "stdout"
        }
      ]
    },
    {
      "cell_type": "markdown",
      "metadata": {
        "id": "t0pPZcQB5eWi",
        "colab_type": "text"
      },
      "source": [
        "5.13"
      ]
    },
    {
      "cell_type": "code",
      "metadata": {
        "id": "qclJEOds5frb",
        "colab_type": "code",
        "outputId": "5b5fc5c3-7ed4-482e-b61a-2f44fd897937",
        "colab": {
          "base_uri": "https://localhost:8080/",
          "height": 34
        }
      },
      "source": [
        "for i in range(100,201,1):\n",
        "  if i % 5 == 0 or i % 6 == 0:\n",
        "    print(i,end=\" \")"
      ],
      "execution_count": 0,
      "outputs": [
        {
          "output_type": "stream",
          "text": [
            "100 102 105 108 110 114 115 120 125 126 130 132 135 138 140 144 145 150 155 156 160 162 165 168 170 174 175 180 185 186 190 192 195 198 200 "
          ],
          "name": "stdout"
        }
      ]
    }
  ]
}