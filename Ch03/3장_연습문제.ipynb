{
  "nbformat": 4,
  "nbformat_minor": 0,
  "metadata": {
    "colab": {
      "name": "3장_연습문제_권찬진, 지유진",
      "provenance": [],
      "collapsed_sections": [],
      "include_colab_link": true
    },
    "kernelspec": {
      "name": "python3",
      "display_name": "Python 3"
    }
  },
  "cells": [
    {
      "cell_type": "markdown",
      "metadata": {
        "id": "view-in-github",
        "colab_type": "text"
      },
      "source": [
        "<a href=\"https://colab.research.google.com/github/KwonChanJin/Python_Programing/blob/master/3%EC%9E%A5_%EC%97%B0%EC%8A%B5%EB%AC%B8%EC%A0%9C_%EA%B6%8C%EC%B0%AC%EC%A7%84%2C_%EC%A7%80%EC%9C%A0%EC%A7%84.ipynb\" target=\"_parent\"><img src=\"https://colab.research.google.com/assets/colab-badge.svg\" alt=\"Open In Colab\"/></a>"
      ]
    },
    {
      "cell_type": "markdown",
      "metadata": {
        "id": "gc9Tbn9lL7cm",
        "colab_type": "text"
      },
      "source": [
        "3.1"
      ]
    },
    {
      "cell_type": "code",
      "metadata": {
        "id": "Y4oG-rbfL8k3",
        "colab_type": "code",
        "outputId": "4dc37acb-46b5-46a5-c134-27d460f5a7ad",
        "colab": {
          "base_uri": "https://localhost:8080/",
          "height": 55
        }
      },
      "source": [
        "r = float(input('중심에서 꼭짓점까지의 길이를 입력하세요 :'))\n",
        "p = 2 * r * 0.58\n",
        "a = 3 * 3**(1/2) / 2 * p **2\n",
        "print('오각형의 넓이는', a, '입니다.')"
      ],
      "execution_count": 0,
      "outputs": [
        {
          "output_type": "stream",
          "text": [
            "중심에서 꼭짓점까지의 길이를 입력하세요 :5.5\n",
            "오각형의 넓이는 105.75313333740992 입니다.\n"
          ],
          "name": "stdout"
        }
      ]
    },
    {
      "cell_type": "markdown",
      "metadata": {
        "id": "g9s7FZF1OLQN",
        "colab_type": "text"
      },
      "source": [
        "3.2"
      ]
    },
    {
      "cell_type": "code",
      "metadata": {
        "id": "XA80HWbaOMCt",
        "colab_type": "code",
        "outputId": "e523d7ad-658a-4011-95de-c52047eaec7e",
        "colab": {
          "base_uri": "https://localhost:8080/",
          "height": 72
        }
      },
      "source": [
        "import math\n",
        "x1,y1 = input(\"첫번째 점을 60분법 각으로 입력\").split(',')\n",
        "x2,y2 = input(\"두번째 점을 60분법 각으로 입력\").split(',')\n",
        "x1 = float(x1)\n",
        "y1 = float(y1)\n",
        "x2 = float(x2)\n",
        "y2 = float(y2)\n",
        "\n",
        "x1 = math.radians(x1)\n",
        "x2 = math.radians(x2)\n",
        "y1 = math.radians(y1)\n",
        "y2 = math.radians(y2)\n",
        "\n",
        "r = 6370.01\n",
        "distance =r*math.acos(math.sin(x1)*math.sin(x2) \\\n",
        "          + math.cos(x1)*math.cos(x2)*math.cos(y1-y2))\n",
        "print(distance, \"km입니다.\")\n"
      ],
      "execution_count": 0,
      "outputs": [
        {
          "output_type": "stream",
          "text": [
            "첫번째 점을 60분법 각으로 입력39.55,-116.25\n",
            "두번째 점을 60분법 각으로 입력41.5,87.37\n",
            "10690.113638146982 km입니다.\n"
          ],
          "name": "stdout"
        }
      ]
    },
    {
      "cell_type": "markdown",
      "metadata": {
        "id": "8IU5QVGxpddl",
        "colab_type": "text"
      },
      "source": [
        "3.3"
      ]
    },
    {
      "cell_type": "code",
      "metadata": {
        "id": "xbKaZJm3pegK",
        "colab_type": "code",
        "colab": {}
      },
      "source": [
        ""
      ],
      "execution_count": 0,
      "outputs": []
    },
    {
      "cell_type": "markdown",
      "metadata": {
        "id": "kvZ7q1eSqRmV",
        "colab_type": "text"
      },
      "source": [
        "3.4"
      ]
    },
    {
      "cell_type": "code",
      "metadata": {
        "id": "c9f9eFz7qSqi",
        "colab_type": "code",
        "outputId": "fab73084-b7a6-4dc9-bd1d-41514284b793",
        "colab": {
          "base_uri": "https://localhost:8080/",
          "height": 53
        }
      },
      "source": [
        "r = float(input('한 변의 길이를 입력하세요 :'))\n",
        "s = (5 * r**2) / (4 * 0.72)\n",
        "print('오각형의 넓이는', s, '입니다')"
      ],
      "execution_count": 0,
      "outputs": [
        {
          "output_type": "stream",
          "text": [
            "한 변의 길이를 입력하세요 :5.5\n",
            "오각형의 넓이는 52.517361111111114 입니다\n"
          ],
          "name": "stdout"
        }
      ]
    },
    {
      "cell_type": "markdown",
      "metadata": {
        "id": "NXyTGkmTrI6t",
        "colab_type": "text"
      },
      "source": [
        "3.5"
      ]
    },
    {
      "cell_type": "code",
      "metadata": {
        "id": "KUNoN011rJ_Y",
        "colab_type": "code",
        "outputId": "ed1be539-b0e5-42d0-c760-f60e10ee4b25",
        "colab": {
          "base_uri": "https://localhost:8080/",
          "height": 68
        }
      },
      "source": [
        "l = int(input('변의 개수를 입력하세요: '))\n",
        "r = float(input('변의 길이를 입력하세요: '))\n",
        "s = (l * r**2) / (4 * 0.72)\n",
        "print('다각형의 넓이는 {}입니다.'.format(s))"
      ],
      "execution_count": 0,
      "outputs": [
        {
          "output_type": "stream",
          "text": [
            "변의 개수를 입력하세요 :5\n",
            "변의 길이를 입력하세요 :6.5\n",
            "다각형의 넓이는 73.35069444444444입니다.\n"
          ],
          "name": "stdout"
        }
      ]
    },
    {
      "cell_type": "markdown",
      "metadata": {
        "id": "vmKva7tzrnd7",
        "colab_type": "text"
      },
      "source": [
        "3.6"
      ]
    },
    {
      "cell_type": "code",
      "metadata": {
        "id": "_nScdjt2roec",
        "colab_type": "code",
        "outputId": "615423eb-5431-4bc5-825b-71a284d7a685",
        "colab": {
          "base_uri": "https://localhost:8080/",
          "height": 55
        }
      },
      "source": [
        "c = int(input('ASCII 코드를 입력하세요 :'))\n",
        "\n",
        "print('문자는 {}입니다.'.format(chr(c)))"
      ],
      "execution_count": 0,
      "outputs": [
        {
          "output_type": "stream",
          "text": [
            "ASCII 코드를 입력하세요 :69\n",
            "문자는 E입니다.\n"
          ],
          "name": "stdout"
        }
      ]
    },
    {
      "cell_type": "markdown",
      "metadata": {
        "id": "-rRxirqFQbOv",
        "colab_type": "text"
      },
      "source": [
        "3.7"
      ]
    },
    {
      "cell_type": "code",
      "metadata": {
        "id": "pIAfCGeNQcVJ",
        "colab_type": "code",
        "outputId": "5e65da85-c2a9-45b9-f58f-42993e7e3784",
        "colab": {
          "base_uri": "https://localhost:8080/",
          "height": 34
        }
      },
      "source": [
        "import time\n",
        "time = time.time()\n",
        "print(chr(int(time)%26 + 65))\n"
      ],
      "execution_count": 0,
      "outputs": [
        {
          "output_type": "stream",
          "text": [
            "P\n"
          ],
          "name": "stdout"
        }
      ]
    },
    {
      "cell_type": "markdown",
      "metadata": {
        "id": "eZRm5koIQc5U",
        "colab_type": "text"
      },
      "source": [
        "3.8"
      ]
    },
    {
      "cell_type": "code",
      "metadata": {
        "id": "n1aG-E7-QeAy",
        "colab_type": "code",
        "outputId": "b2130228-e6c8-4287-f9f6-1381316dcc39",
        "colab": {
          "base_uri": "https://localhost:8080/",
          "height": 255
        }
      },
      "source": [
        "name = input('사원이름을 입력하세요 :')\n",
        "time = int(input('주당 근무시간을 입력하세요 :'))\n",
        "pay = int(input('시간당 급여를 입력하세요 :'))\n",
        "a = float(input('원천징수세율을 입력하세요 :'))\n",
        "b = float(input('지방세율을 입력하세요 :'))\n",
        "salary = time * pay\n",
        "print(\"사원 이름: \", name)\n",
        "print(\"주당 근무시간: \", time)\n",
        "print(\"임금: \", pay)\n",
        "print(\"총 급여: \", salary)\n",
        "print(\"공제:\")\n",
        "c = salary * a\n",
        "d = salary * b\n",
        "print(\"   원천 징수세(20.0%):\", c)\n",
        "print(\"   주민세(9.0%):\", d)\n",
        "print(\"   총 공제:\", c + d)\n",
        "print(\"공제 후 급여:\", salary - c - d)\n"
      ],
      "execution_count": 0,
      "outputs": [
        {
          "output_type": "stream",
          "text": [
            "사원이름을 입력하세요 :정용제\n",
            "주당 근무시간을 입력하세요 :40\n",
            "시간당 급여를 입력하세요 :9075\n",
            "원천징수세율을 입력하세요 :0.20\n",
            "지방세율을 입력하세요 :0.09\n",
            "사원 이름:  정용제\n",
            "주당 근무시간:  40\n",
            "임금:  9075\n",
            "총 급여:  363000\n",
            "공제:\n",
            "   원천 징수세(20.0%): 72600.0\n",
            "   주민세(9.0%): 32670.0\n",
            "   총 공제: 105270.0\n",
            "공제 후 급여: 257730.0\n"
          ],
          "name": "stdout"
        }
      ]
    },
    {
      "cell_type": "markdown",
      "metadata": {
        "id": "mIExml2oWUFg",
        "colab_type": "text"
      },
      "source": [
        "3.9"
      ]
    },
    {
      "cell_type": "code",
      "metadata": {
        "id": "zVptnHf3WVOS",
        "colab_type": "code",
        "outputId": "1e0bfc10-c7f3-49da-89ac-6fc703114e99",
        "colab": {
          "base_uri": "https://localhost:8080/",
          "height": 35
        }
      },
      "source": [
        "print(chr(ord(\"\\u03b1\")),end=\"\")\n",
        "print(chr(ord(\"\\u03b2\")),end=\"\")\n",
        "print(chr(ord(\"\\u03b3\")),end=\"\")\n",
        "print(chr(ord(\"\\u03b4\")),end=\"\")\n",
        "print(chr(ord(\"\\u03b5\")),end=\"\")\n",
        "print(chr(ord(\"\\u03b6\")),end=\"\")\n",
        "print(chr(ord(\"\\u03b7\")),end=\"\")\n",
        "print(chr(ord(\"\\u03b8\")),end=\"\")"
      ],
      "execution_count": 0,
      "outputs": [
        {
          "output_type": "stream",
          "text": [
            "αβγδεζηθ"
          ],
          "name": "stdout"
        }
      ]
    },
    {
      "cell_type": "markdown",
      "metadata": {
        "id": "sY7l5v1VXIv-",
        "colab_type": "text"
      },
      "source": [
        "3.10"
      ]
    },
    {
      "cell_type": "code",
      "metadata": {
        "id": "-8Zt3d3zXJjo",
        "colab_type": "code",
        "outputId": "56537baf-c44f-4846-fcf5-6cfbb2af4915",
        "colab": {
          "base_uri": "https://localhost:8080/",
          "height": 102
        }
      },
      "source": [
        "num = int(input('정수를 입력하세요 :'))\n",
        "while num != 0:\n",
        "  print(num%10)\n",
        "  num = num // 10"
      ],
      "execution_count": 0,
      "outputs": [
        {
          "output_type": "stream",
          "text": [
            "정수를 입력하세요 :1234\n",
            "4\n",
            "3\n",
            "2\n",
            "1\n"
          ],
          "name": "stdout"
        }
      ]
    },
    {
      "cell_type": "markdown",
      "metadata": {
        "id": "7FDs5nfslEQp",
        "colab_type": "text"
      },
      "source": [
        "3.11"
      ]
    },
    {
      "cell_type": "code",
      "metadata": {
        "id": "qdynWAJhlE8M",
        "colab_type": "code",
        "outputId": "e1975236-87fc-4b5f-c12d-ba35fdcd4c00",
        "colab": {
          "base_uri": "https://localhost:8080/",
          "height": 375
        }
      },
      "source": [
        "import turtle\n",
        "t = turtle.Turtle()\n",
        "t.shape('triangle')\n",
        "r = int(input('한 변의 길이를 입력하세요 :'))\n",
        "for i in range(5):\n",
        "    t.fd(r)\n",
        "    t.left(145)"
      ],
      "execution_count": 0,
      "outputs": [
        {
          "output_type": "error",
          "ename": "TclError",
          "evalue": "ignored",
          "traceback": [
            "\u001b[0;31m---------------------------------------------------------------------------\u001b[0m",
            "\u001b[0;31mTclError\u001b[0m                                  Traceback (most recent call last)",
            "\u001b[0;32m<ipython-input-21-e94c778c5c0b>\u001b[0m in \u001b[0;36m<module>\u001b[0;34m()\u001b[0m\n\u001b[1;32m      1\u001b[0m \u001b[0;32mimport\u001b[0m \u001b[0mturtle\u001b[0m\u001b[0;34m\u001b[0m\u001b[0;34m\u001b[0m\u001b[0m\n\u001b[0;32m----> 2\u001b[0;31m \u001b[0mt\u001b[0m \u001b[0;34m=\u001b[0m \u001b[0mturtle\u001b[0m\u001b[0;34m.\u001b[0m\u001b[0mTurtle\u001b[0m\u001b[0;34m(\u001b[0m\u001b[0;34m)\u001b[0m\u001b[0;34m\u001b[0m\u001b[0;34m\u001b[0m\u001b[0m\n\u001b[0m\u001b[1;32m      3\u001b[0m \u001b[0mt\u001b[0m\u001b[0;34m.\u001b[0m\u001b[0mshape\u001b[0m\u001b[0;34m(\u001b[0m\u001b[0;34m'triangle'\u001b[0m\u001b[0;34m)\u001b[0m\u001b[0;34m\u001b[0m\u001b[0;34m\u001b[0m\u001b[0m\n\u001b[1;32m      4\u001b[0m \u001b[0mr\u001b[0m \u001b[0;34m=\u001b[0m \u001b[0mint\u001b[0m\u001b[0;34m(\u001b[0m\u001b[0minput\u001b[0m\u001b[0;34m(\u001b[0m\u001b[0;34m'한 변의 길이를 입력하세요 :'\u001b[0m\u001b[0;34m)\u001b[0m\u001b[0;34m)\u001b[0m\u001b[0;34m\u001b[0m\u001b[0;34m\u001b[0m\u001b[0m\n\u001b[1;32m      5\u001b[0m \u001b[0;32mfor\u001b[0m \u001b[0mi\u001b[0m \u001b[0;32min\u001b[0m \u001b[0mrange\u001b[0m\u001b[0;34m(\u001b[0m\u001b[0;36m5\u001b[0m\u001b[0;34m)\u001b[0m\u001b[0;34m:\u001b[0m\u001b[0;34m\u001b[0m\u001b[0;34m\u001b[0m\u001b[0m\n",
            "\u001b[0;32m/usr/lib/python3.6/turtle.py\u001b[0m in \u001b[0;36m__init__\u001b[0;34m(self, shape, undobuffersize, visible)\u001b[0m\n\u001b[1;32m   3810\u001b[0m                  visible=_CFG[\"visible\"]):\n\u001b[1;32m   3811\u001b[0m         \u001b[0;32mif\u001b[0m \u001b[0mTurtle\u001b[0m\u001b[0;34m.\u001b[0m\u001b[0m_screen\u001b[0m \u001b[0;32mis\u001b[0m \u001b[0;32mNone\u001b[0m\u001b[0;34m:\u001b[0m\u001b[0;34m\u001b[0m\u001b[0;34m\u001b[0m\u001b[0m\n\u001b[0;32m-> 3812\u001b[0;31m             \u001b[0mTurtle\u001b[0m\u001b[0;34m.\u001b[0m\u001b[0m_screen\u001b[0m \u001b[0;34m=\u001b[0m \u001b[0mScreen\u001b[0m\u001b[0;34m(\u001b[0m\u001b[0;34m)\u001b[0m\u001b[0;34m\u001b[0m\u001b[0;34m\u001b[0m\u001b[0m\n\u001b[0m\u001b[1;32m   3813\u001b[0m         RawTurtle.__init__(self, Turtle._screen,\n\u001b[1;32m   3814\u001b[0m                            \u001b[0mshape\u001b[0m\u001b[0;34m=\u001b[0m\u001b[0mshape\u001b[0m\u001b[0;34m,\u001b[0m\u001b[0;34m\u001b[0m\u001b[0;34m\u001b[0m\u001b[0m\n",
            "\u001b[0;32m/usr/lib/python3.6/turtle.py\u001b[0m in \u001b[0;36mScreen\u001b[0;34m()\u001b[0m\n\u001b[1;32m   3660\u001b[0m     else return the existing one.\"\"\"\n\u001b[1;32m   3661\u001b[0m     \u001b[0;32mif\u001b[0m \u001b[0mTurtle\u001b[0m\u001b[0;34m.\u001b[0m\u001b[0m_screen\u001b[0m \u001b[0;32mis\u001b[0m \u001b[0;32mNone\u001b[0m\u001b[0;34m:\u001b[0m\u001b[0;34m\u001b[0m\u001b[0;34m\u001b[0m\u001b[0m\n\u001b[0;32m-> 3662\u001b[0;31m         \u001b[0mTurtle\u001b[0m\u001b[0;34m.\u001b[0m\u001b[0m_screen\u001b[0m \u001b[0;34m=\u001b[0m \u001b[0m_Screen\u001b[0m\u001b[0;34m(\u001b[0m\u001b[0;34m)\u001b[0m\u001b[0;34m\u001b[0m\u001b[0;34m\u001b[0m\u001b[0m\n\u001b[0m\u001b[1;32m   3663\u001b[0m     \u001b[0;32mreturn\u001b[0m \u001b[0mTurtle\u001b[0m\u001b[0;34m.\u001b[0m\u001b[0m_screen\u001b[0m\u001b[0;34m\u001b[0m\u001b[0;34m\u001b[0m\u001b[0m\n\u001b[1;32m   3664\u001b[0m \u001b[0;34m\u001b[0m\u001b[0m\n",
            "\u001b[0;32m/usr/lib/python3.6/turtle.py\u001b[0m in \u001b[0;36m__init__\u001b[0;34m(self)\u001b[0m\n\u001b[1;32m   3676\u001b[0m         \u001b[0;31m# preserved (perhaps by passing it as an optional parameter)\u001b[0m\u001b[0;34m\u001b[0m\u001b[0;34m\u001b[0m\u001b[0;34m\u001b[0m\u001b[0m\n\u001b[1;32m   3677\u001b[0m         \u001b[0;32mif\u001b[0m \u001b[0m_Screen\u001b[0m\u001b[0;34m.\u001b[0m\u001b[0m_root\u001b[0m \u001b[0;32mis\u001b[0m \u001b[0;32mNone\u001b[0m\u001b[0;34m:\u001b[0m\u001b[0;34m\u001b[0m\u001b[0;34m\u001b[0m\u001b[0m\n\u001b[0;32m-> 3678\u001b[0;31m             \u001b[0m_Screen\u001b[0m\u001b[0;34m.\u001b[0m\u001b[0m_root\u001b[0m \u001b[0;34m=\u001b[0m \u001b[0mself\u001b[0m\u001b[0;34m.\u001b[0m\u001b[0m_root\u001b[0m \u001b[0;34m=\u001b[0m \u001b[0m_Root\u001b[0m\u001b[0;34m(\u001b[0m\u001b[0;34m)\u001b[0m\u001b[0;34m\u001b[0m\u001b[0;34m\u001b[0m\u001b[0m\n\u001b[0m\u001b[1;32m   3679\u001b[0m             \u001b[0mself\u001b[0m\u001b[0;34m.\u001b[0m\u001b[0m_root\u001b[0m\u001b[0;34m.\u001b[0m\u001b[0mtitle\u001b[0m\u001b[0;34m(\u001b[0m\u001b[0m_Screen\u001b[0m\u001b[0;34m.\u001b[0m\u001b[0m_title\u001b[0m\u001b[0;34m)\u001b[0m\u001b[0;34m\u001b[0m\u001b[0;34m\u001b[0m\u001b[0m\n\u001b[1;32m   3680\u001b[0m             \u001b[0mself\u001b[0m\u001b[0;34m.\u001b[0m\u001b[0m_root\u001b[0m\u001b[0;34m.\u001b[0m\u001b[0mondestroy\u001b[0m\u001b[0;34m(\u001b[0m\u001b[0mself\u001b[0m\u001b[0;34m.\u001b[0m\u001b[0m_destroy\u001b[0m\u001b[0;34m)\u001b[0m\u001b[0;34m\u001b[0m\u001b[0;34m\u001b[0m\u001b[0m\n",
            "\u001b[0;32m/usr/lib/python3.6/turtle.py\u001b[0m in \u001b[0;36m__init__\u001b[0;34m(self)\u001b[0m\n\u001b[1;32m    432\u001b[0m     \u001b[0;34m\"\"\"Root class for Screen based on Tkinter.\"\"\"\u001b[0m\u001b[0;34m\u001b[0m\u001b[0;34m\u001b[0m\u001b[0m\n\u001b[1;32m    433\u001b[0m     \u001b[0;32mdef\u001b[0m \u001b[0m__init__\u001b[0m\u001b[0;34m(\u001b[0m\u001b[0mself\u001b[0m\u001b[0;34m)\u001b[0m\u001b[0;34m:\u001b[0m\u001b[0;34m\u001b[0m\u001b[0;34m\u001b[0m\u001b[0m\n\u001b[0;32m--> 434\u001b[0;31m         \u001b[0mTK\u001b[0m\u001b[0;34m.\u001b[0m\u001b[0mTk\u001b[0m\u001b[0;34m.\u001b[0m\u001b[0m__init__\u001b[0m\u001b[0;34m(\u001b[0m\u001b[0mself\u001b[0m\u001b[0;34m)\u001b[0m\u001b[0;34m\u001b[0m\u001b[0;34m\u001b[0m\u001b[0m\n\u001b[0m\u001b[1;32m    435\u001b[0m \u001b[0;34m\u001b[0m\u001b[0m\n\u001b[1;32m    436\u001b[0m     \u001b[0;32mdef\u001b[0m \u001b[0msetupcanvas\u001b[0m\u001b[0;34m(\u001b[0m\u001b[0mself\u001b[0m\u001b[0;34m,\u001b[0m \u001b[0mwidth\u001b[0m\u001b[0;34m,\u001b[0m \u001b[0mheight\u001b[0m\u001b[0;34m,\u001b[0m \u001b[0mcwidth\u001b[0m\u001b[0;34m,\u001b[0m \u001b[0mcheight\u001b[0m\u001b[0;34m)\u001b[0m\u001b[0;34m:\u001b[0m\u001b[0;34m\u001b[0m\u001b[0;34m\u001b[0m\u001b[0m\n",
            "\u001b[0;32m/usr/lib/python3.6/tkinter/__init__.py\u001b[0m in \u001b[0;36m__init__\u001b[0;34m(self, screenName, baseName, className, useTk, sync, use)\u001b[0m\n\u001b[1;32m   2021\u001b[0m                 \u001b[0mbaseName\u001b[0m \u001b[0;34m=\u001b[0m \u001b[0mbaseName\u001b[0m \u001b[0;34m+\u001b[0m \u001b[0mext\u001b[0m\u001b[0;34m\u001b[0m\u001b[0;34m\u001b[0m\u001b[0m\n\u001b[1;32m   2022\u001b[0m         \u001b[0minteractive\u001b[0m \u001b[0;34m=\u001b[0m \u001b[0;36m0\u001b[0m\u001b[0;34m\u001b[0m\u001b[0;34m\u001b[0m\u001b[0m\n\u001b[0;32m-> 2023\u001b[0;31m         \u001b[0mself\u001b[0m\u001b[0;34m.\u001b[0m\u001b[0mtk\u001b[0m \u001b[0;34m=\u001b[0m \u001b[0m_tkinter\u001b[0m\u001b[0;34m.\u001b[0m\u001b[0mcreate\u001b[0m\u001b[0;34m(\u001b[0m\u001b[0mscreenName\u001b[0m\u001b[0;34m,\u001b[0m \u001b[0mbaseName\u001b[0m\u001b[0;34m,\u001b[0m \u001b[0mclassName\u001b[0m\u001b[0;34m,\u001b[0m \u001b[0minteractive\u001b[0m\u001b[0;34m,\u001b[0m \u001b[0mwantobjects\u001b[0m\u001b[0;34m,\u001b[0m \u001b[0museTk\u001b[0m\u001b[0;34m,\u001b[0m \u001b[0msync\u001b[0m\u001b[0;34m,\u001b[0m \u001b[0muse\u001b[0m\u001b[0;34m)\u001b[0m\u001b[0;34m\u001b[0m\u001b[0;34m\u001b[0m\u001b[0m\n\u001b[0m\u001b[1;32m   2024\u001b[0m         \u001b[0;32mif\u001b[0m \u001b[0museTk\u001b[0m\u001b[0;34m:\u001b[0m\u001b[0;34m\u001b[0m\u001b[0;34m\u001b[0m\u001b[0m\n\u001b[1;32m   2025\u001b[0m             \u001b[0mself\u001b[0m\u001b[0;34m.\u001b[0m\u001b[0m_loadtk\u001b[0m\u001b[0;34m(\u001b[0m\u001b[0;34m)\u001b[0m\u001b[0;34m\u001b[0m\u001b[0;34m\u001b[0m\u001b[0m\n",
            "\u001b[0;31mTclError\u001b[0m: no display name and no $DISPLAY environment variable"
          ]
        }
      ]
    },
    {
      "cell_type": "markdown",
      "metadata": {
        "id": "VjnbpSGMlF1b",
        "colab_type": "text"
      },
      "source": [
        "3.12"
      ]
    },
    {
      "cell_type": "code",
      "metadata": {
        "id": "cU34MW8GlGix",
        "colab_type": "code",
        "outputId": "39d3f447-204d-4558-89ec-d04c45854e81",
        "colab": {
          "base_uri": "https://localhost:8080/",
          "height": 375
        }
      },
      "source": [
        "import turtle\n",
        "t = turtle.Turtle()\n",
        "\n",
        "t.begin_fill()\n",
        "t.color('red')\n",
        "for i in range(6):\n",
        "    t.fd(50)\n",
        "    t.left(60)\n",
        "t.end_fill()\n",
        "t.up()\n",
        "t.goto(5,25)\n",
        "\n",
        "t.color('white')\n",
        "t.write('정지',font = ('맑은고딕',25))"
      ],
      "execution_count": 0,
      "outputs": [
        {
          "output_type": "error",
          "ename": "TclError",
          "evalue": "ignored",
          "traceback": [
            "\u001b[0;31m---------------------------------------------------------------------------\u001b[0m",
            "\u001b[0;31mTclError\u001b[0m                                  Traceback (most recent call last)",
            "\u001b[0;32m<ipython-input-22-0a113a2a02a3>\u001b[0m in \u001b[0;36m<module>\u001b[0;34m()\u001b[0m\n\u001b[1;32m      1\u001b[0m \u001b[0;32mimport\u001b[0m \u001b[0mturtle\u001b[0m\u001b[0;34m\u001b[0m\u001b[0;34m\u001b[0m\u001b[0m\n\u001b[0;32m----> 2\u001b[0;31m \u001b[0mt\u001b[0m \u001b[0;34m=\u001b[0m \u001b[0mturtle\u001b[0m\u001b[0;34m.\u001b[0m\u001b[0mTurtle\u001b[0m\u001b[0;34m(\u001b[0m\u001b[0;34m)\u001b[0m\u001b[0;34m\u001b[0m\u001b[0;34m\u001b[0m\u001b[0m\n\u001b[0m\u001b[1;32m      3\u001b[0m \u001b[0;34m\u001b[0m\u001b[0m\n\u001b[1;32m      4\u001b[0m \u001b[0mt\u001b[0m\u001b[0;34m.\u001b[0m\u001b[0mbegin_fill\u001b[0m\u001b[0;34m(\u001b[0m\u001b[0;34m)\u001b[0m\u001b[0;34m\u001b[0m\u001b[0;34m\u001b[0m\u001b[0m\n\u001b[1;32m      5\u001b[0m \u001b[0mt\u001b[0m\u001b[0;34m.\u001b[0m\u001b[0mcolor\u001b[0m\u001b[0;34m(\u001b[0m\u001b[0;34m'red'\u001b[0m\u001b[0;34m)\u001b[0m\u001b[0;34m\u001b[0m\u001b[0;34m\u001b[0m\u001b[0m\n",
            "\u001b[0;32m/usr/lib/python3.6/turtle.py\u001b[0m in \u001b[0;36m__init__\u001b[0;34m(self, shape, undobuffersize, visible)\u001b[0m\n\u001b[1;32m   3810\u001b[0m                  visible=_CFG[\"visible\"]):\n\u001b[1;32m   3811\u001b[0m         \u001b[0;32mif\u001b[0m \u001b[0mTurtle\u001b[0m\u001b[0;34m.\u001b[0m\u001b[0m_screen\u001b[0m \u001b[0;32mis\u001b[0m \u001b[0;32mNone\u001b[0m\u001b[0;34m:\u001b[0m\u001b[0;34m\u001b[0m\u001b[0;34m\u001b[0m\u001b[0m\n\u001b[0;32m-> 3812\u001b[0;31m             \u001b[0mTurtle\u001b[0m\u001b[0;34m.\u001b[0m\u001b[0m_screen\u001b[0m \u001b[0;34m=\u001b[0m \u001b[0mScreen\u001b[0m\u001b[0;34m(\u001b[0m\u001b[0;34m)\u001b[0m\u001b[0;34m\u001b[0m\u001b[0;34m\u001b[0m\u001b[0m\n\u001b[0m\u001b[1;32m   3813\u001b[0m         RawTurtle.__init__(self, Turtle._screen,\n\u001b[1;32m   3814\u001b[0m                            \u001b[0mshape\u001b[0m\u001b[0;34m=\u001b[0m\u001b[0mshape\u001b[0m\u001b[0;34m,\u001b[0m\u001b[0;34m\u001b[0m\u001b[0;34m\u001b[0m\u001b[0m\n",
            "\u001b[0;32m/usr/lib/python3.6/turtle.py\u001b[0m in \u001b[0;36mScreen\u001b[0;34m()\u001b[0m\n\u001b[1;32m   3660\u001b[0m     else return the existing one.\"\"\"\n\u001b[1;32m   3661\u001b[0m     \u001b[0;32mif\u001b[0m \u001b[0mTurtle\u001b[0m\u001b[0;34m.\u001b[0m\u001b[0m_screen\u001b[0m \u001b[0;32mis\u001b[0m \u001b[0;32mNone\u001b[0m\u001b[0;34m:\u001b[0m\u001b[0;34m\u001b[0m\u001b[0;34m\u001b[0m\u001b[0m\n\u001b[0;32m-> 3662\u001b[0;31m         \u001b[0mTurtle\u001b[0m\u001b[0;34m.\u001b[0m\u001b[0m_screen\u001b[0m \u001b[0;34m=\u001b[0m \u001b[0m_Screen\u001b[0m\u001b[0;34m(\u001b[0m\u001b[0;34m)\u001b[0m\u001b[0;34m\u001b[0m\u001b[0;34m\u001b[0m\u001b[0m\n\u001b[0m\u001b[1;32m   3663\u001b[0m     \u001b[0;32mreturn\u001b[0m \u001b[0mTurtle\u001b[0m\u001b[0;34m.\u001b[0m\u001b[0m_screen\u001b[0m\u001b[0;34m\u001b[0m\u001b[0;34m\u001b[0m\u001b[0m\n\u001b[1;32m   3664\u001b[0m \u001b[0;34m\u001b[0m\u001b[0m\n",
            "\u001b[0;32m/usr/lib/python3.6/turtle.py\u001b[0m in \u001b[0;36m__init__\u001b[0;34m(self)\u001b[0m\n\u001b[1;32m   3676\u001b[0m         \u001b[0;31m# preserved (perhaps by passing it as an optional parameter)\u001b[0m\u001b[0;34m\u001b[0m\u001b[0;34m\u001b[0m\u001b[0;34m\u001b[0m\u001b[0m\n\u001b[1;32m   3677\u001b[0m         \u001b[0;32mif\u001b[0m \u001b[0m_Screen\u001b[0m\u001b[0;34m.\u001b[0m\u001b[0m_root\u001b[0m \u001b[0;32mis\u001b[0m \u001b[0;32mNone\u001b[0m\u001b[0;34m:\u001b[0m\u001b[0;34m\u001b[0m\u001b[0;34m\u001b[0m\u001b[0m\n\u001b[0;32m-> 3678\u001b[0;31m             \u001b[0m_Screen\u001b[0m\u001b[0;34m.\u001b[0m\u001b[0m_root\u001b[0m \u001b[0;34m=\u001b[0m \u001b[0mself\u001b[0m\u001b[0;34m.\u001b[0m\u001b[0m_root\u001b[0m \u001b[0;34m=\u001b[0m \u001b[0m_Root\u001b[0m\u001b[0;34m(\u001b[0m\u001b[0;34m)\u001b[0m\u001b[0;34m\u001b[0m\u001b[0;34m\u001b[0m\u001b[0m\n\u001b[0m\u001b[1;32m   3679\u001b[0m             \u001b[0mself\u001b[0m\u001b[0;34m.\u001b[0m\u001b[0m_root\u001b[0m\u001b[0;34m.\u001b[0m\u001b[0mtitle\u001b[0m\u001b[0;34m(\u001b[0m\u001b[0m_Screen\u001b[0m\u001b[0;34m.\u001b[0m\u001b[0m_title\u001b[0m\u001b[0;34m)\u001b[0m\u001b[0;34m\u001b[0m\u001b[0;34m\u001b[0m\u001b[0m\n\u001b[1;32m   3680\u001b[0m             \u001b[0mself\u001b[0m\u001b[0;34m.\u001b[0m\u001b[0m_root\u001b[0m\u001b[0;34m.\u001b[0m\u001b[0mondestroy\u001b[0m\u001b[0;34m(\u001b[0m\u001b[0mself\u001b[0m\u001b[0;34m.\u001b[0m\u001b[0m_destroy\u001b[0m\u001b[0;34m)\u001b[0m\u001b[0;34m\u001b[0m\u001b[0;34m\u001b[0m\u001b[0m\n",
            "\u001b[0;32m/usr/lib/python3.6/turtle.py\u001b[0m in \u001b[0;36m__init__\u001b[0;34m(self)\u001b[0m\n\u001b[1;32m    432\u001b[0m     \u001b[0;34m\"\"\"Root class for Screen based on Tkinter.\"\"\"\u001b[0m\u001b[0;34m\u001b[0m\u001b[0;34m\u001b[0m\u001b[0m\n\u001b[1;32m    433\u001b[0m     \u001b[0;32mdef\u001b[0m \u001b[0m__init__\u001b[0m\u001b[0;34m(\u001b[0m\u001b[0mself\u001b[0m\u001b[0;34m)\u001b[0m\u001b[0;34m:\u001b[0m\u001b[0;34m\u001b[0m\u001b[0;34m\u001b[0m\u001b[0m\n\u001b[0;32m--> 434\u001b[0;31m         \u001b[0mTK\u001b[0m\u001b[0;34m.\u001b[0m\u001b[0mTk\u001b[0m\u001b[0;34m.\u001b[0m\u001b[0m__init__\u001b[0m\u001b[0;34m(\u001b[0m\u001b[0mself\u001b[0m\u001b[0;34m)\u001b[0m\u001b[0;34m\u001b[0m\u001b[0;34m\u001b[0m\u001b[0m\n\u001b[0m\u001b[1;32m    435\u001b[0m \u001b[0;34m\u001b[0m\u001b[0m\n\u001b[1;32m    436\u001b[0m     \u001b[0;32mdef\u001b[0m \u001b[0msetupcanvas\u001b[0m\u001b[0;34m(\u001b[0m\u001b[0mself\u001b[0m\u001b[0;34m,\u001b[0m \u001b[0mwidth\u001b[0m\u001b[0;34m,\u001b[0m \u001b[0mheight\u001b[0m\u001b[0;34m,\u001b[0m \u001b[0mcwidth\u001b[0m\u001b[0;34m,\u001b[0m \u001b[0mcheight\u001b[0m\u001b[0;34m)\u001b[0m\u001b[0;34m:\u001b[0m\u001b[0;34m\u001b[0m\u001b[0;34m\u001b[0m\u001b[0m\n",
            "\u001b[0;32m/usr/lib/python3.6/tkinter/__init__.py\u001b[0m in \u001b[0;36m__init__\u001b[0;34m(self, screenName, baseName, className, useTk, sync, use)\u001b[0m\n\u001b[1;32m   2021\u001b[0m                 \u001b[0mbaseName\u001b[0m \u001b[0;34m=\u001b[0m \u001b[0mbaseName\u001b[0m \u001b[0;34m+\u001b[0m \u001b[0mext\u001b[0m\u001b[0;34m\u001b[0m\u001b[0;34m\u001b[0m\u001b[0m\n\u001b[1;32m   2022\u001b[0m         \u001b[0minteractive\u001b[0m \u001b[0;34m=\u001b[0m \u001b[0;36m0\u001b[0m\u001b[0;34m\u001b[0m\u001b[0;34m\u001b[0m\u001b[0m\n\u001b[0;32m-> 2023\u001b[0;31m         \u001b[0mself\u001b[0m\u001b[0;34m.\u001b[0m\u001b[0mtk\u001b[0m \u001b[0;34m=\u001b[0m \u001b[0m_tkinter\u001b[0m\u001b[0;34m.\u001b[0m\u001b[0mcreate\u001b[0m\u001b[0;34m(\u001b[0m\u001b[0mscreenName\u001b[0m\u001b[0;34m,\u001b[0m \u001b[0mbaseName\u001b[0m\u001b[0;34m,\u001b[0m \u001b[0mclassName\u001b[0m\u001b[0;34m,\u001b[0m \u001b[0minteractive\u001b[0m\u001b[0;34m,\u001b[0m \u001b[0mwantobjects\u001b[0m\u001b[0;34m,\u001b[0m \u001b[0museTk\u001b[0m\u001b[0;34m,\u001b[0m \u001b[0msync\u001b[0m\u001b[0;34m,\u001b[0m \u001b[0muse\u001b[0m\u001b[0;34m)\u001b[0m\u001b[0;34m\u001b[0m\u001b[0;34m\u001b[0m\u001b[0m\n\u001b[0m\u001b[1;32m   2024\u001b[0m         \u001b[0;32mif\u001b[0m \u001b[0museTk\u001b[0m\u001b[0;34m:\u001b[0m\u001b[0;34m\u001b[0m\u001b[0;34m\u001b[0m\u001b[0m\n\u001b[1;32m   2025\u001b[0m             \u001b[0mself\u001b[0m\u001b[0;34m.\u001b[0m\u001b[0m_loadtk\u001b[0m\u001b[0;34m(\u001b[0m\u001b[0;34m)\u001b[0m\u001b[0;34m\u001b[0m\u001b[0;34m\u001b[0m\u001b[0m\n",
            "\u001b[0;31mTclError\u001b[0m: no display name and no $DISPLAY environment variable"
          ]
        }
      ]
    },
    {
      "cell_type": "markdown",
      "metadata": {
        "id": "Qb0YetJ87POK",
        "colab_type": "text"
      },
      "source": [
        "3.13"
      ]
    },
    {
      "cell_type": "code",
      "metadata": {
        "id": "14DaZb1f7RPx",
        "colab_type": "code",
        "colab": {}
      },
      "source": [
        "import turtle\n",
        "t = turtle.Turtle()\n",
        "\n",
        "t.pensize(10)\n",
        "\n",
        "t.color('blue')\n",
        "t.up()\n",
        "t.goto(-200,50)\n",
        "t.down()\n",
        "t.circle(100)\n",
        "\n",
        "t.color('black')\n",
        "t.up()\n",
        "t.goto(0,50)\n",
        "t.down()\n",
        "t.circle(100)\n",
        "\n",
        "t.color('red')\n",
        "t.up()\n",
        "t.goto(200,50)\n",
        "t.down()\n",
        "t.circle(100)\n",
        "\n",
        "t.color('yellow')\n",
        "t.up()\n",
        "t.goto(-100,-50)\n",
        "t.down()\n",
        "t.circle(100)\n",
        "\n",
        "t.color('green')\n",
        "t.up()\n",
        "t.goto(100,-50)\n",
        "t.down()\n",
        "t.circle(100)"
      ],
      "execution_count": 0,
      "outputs": []
    },
    {
      "cell_type": "markdown",
      "metadata": {
        "id": "ZGCi8Yfl7XwI",
        "colab_type": "text"
      },
      "source": [
        "3.14"
      ]
    },
    {
      "cell_type": "code",
      "metadata": {
        "id": "Hq_fVB3E7cuh",
        "colab_type": "code",
        "colab": {}
      },
      "source": [
        "import turtle\n",
        "t = turtle.Turtle()\n",
        "\n",
        "t.circle(100)\n",
        "t.up()\n",
        "t.goto(-50,100)\n",
        "t.down()\n",
        "t.circle(15)\n",
        "t.up()\n",
        "t.goto(50,100)\n",
        "t.down()\n",
        "t.circle(15)\n",
        "t.up()\n",
        "t.goto(-15,60)\n",
        "t.down()\n",
        "for i in range(3):\n",
        "    t.fd(30)\n",
        "    t.left(120)\n",
        "t.up()\n",
        "t.goto(-25,30)\n",
        "t.down()\n",
        "t.right(20)\n",
        "t.fd(30)\n",
        "t.left(60)\n",
        "t.fd(30)"
      ],
      "execution_count": 0,
      "outputs": []
    },
    {
      "cell_type": "markdown",
      "metadata": {
        "id": "sIc44A0W7g_-",
        "colab_type": "text"
      },
      "source": [
        "3.15"
      ]
    },
    {
      "cell_type": "code",
      "metadata": {
        "id": "AArrmn4J7iO8",
        "colab_type": "code",
        "colab": {}
      },
      "source": [
        "import turtle\n",
        "t = turtle.Turtle()\n",
        "\n",
        "t.up()\n",
        "t.goto(-200,0)\n",
        "t.down()\n",
        "t.begin_fill()\n",
        "t.color('red')\n",
        "for i in range(3):\n",
        "    t.fd(50)\n",
        "    t.left(120)\n",
        "t.end_fill()\n",
        "\n",
        "t.up()\n",
        "t.goto(-100,50)\n",
        "t.down()\n",
        "t.begin_fill()\n",
        "t.color('blue')\n",
        "for i in range(4):\n",
        "    t.fd(50)\n",
        "    t.right(90)\n",
        "t.end_fill()\n",
        "\n",
        "t.up()\n",
        "t.goto(0,0)\n",
        "t.down()\n",
        "t.begin_fill()\n",
        "t.color('green')\n",
        "for i in range(5):\n",
        "    t.fd(40)\n",
        "    t.left(72)\n",
        "t.end_fill()\n",
        "\n",
        "t.up()\n",
        "t.goto(100,0)\n",
        "t.down()\n",
        "t.begin_fill()\n",
        "t.color('yellow')\n",
        "for i in range(6):\n",
        "    t.fd(35)\n",
        "    t.left(60)\n",
        "t.end_fill()\n",
        "\n",
        "t.up()\n",
        "t.goto(200,0)\n",
        "t.down()\n",
        "t.begin_fill()\n",
        "t.color('purple')\n",
        "for i in range(8):\n",
        "    t.fd(25)\n",
        "    t.left(45)\n",
        "t.end_fill()"
      ],
      "execution_count": 0,
      "outputs": []
    },
    {
      "cell_type": "markdown",
      "metadata": {
        "id": "65b5Kh2U-nRB",
        "colab_type": "text"
      },
      "source": [
        "3.16"
      ]
    },
    {
      "cell_type": "code",
      "metadata": {
        "id": "jCKj1YZf-oEm",
        "colab_type": "code",
        "colab": {}
      },
      "source": [
        "import turtle\n",
        "t = turtle.Turtle()\n",
        "\n",
        "p1, p11 = input('첫번째 점: ').split(',')\n",
        "p1 = int(p1)\n",
        "p11 = int(p11)\n",
        "p2, p22 = input('두번째 점:').split(',')\n",
        "p2 = int(p2)\n",
        "p22 = int(p22)\n",
        "p3, p33 = input('세번째 점:').split(',')\n",
        "p3 = int(p3)\n",
        "p33 = int(p33)\n",
        "\n",
        "t.up()\n",
        "t.goto(p1,p11)\n",
        "t.down()\n",
        "t.write('p1({},{})'.format(p1,p11))\n",
        "t.goto(p2,p22)\n",
        "t.write('p2({},{})'.format(p2,p22))\n",
        "t.goto(p3,p33)\n",
        "t.write('p3({},{})'.format(p3,p33))\n",
        "t.goto(p1,p11)\n",
        "t.up()\n",
        "t.goto(-100,0)\n",
        "a = ((p2-p1)**2 + (p22-p11)**2)**0.5\n",
        "b = ((p3-p2)**2 + (p33-p22)**2)**0.5\n",
        "c = ((p3-p1)**2 + (p33-p11)**2)**0.5\n",
        "s = (a+b+c)/2\n",
        "S = (s*((s-a)*(s-b)*(s-c)))**0.5\n",
        "t.write('삼각형의 면적은 {}입니다.'.format(S))\n"
      ],
      "execution_count": 0,
      "outputs": []
    },
    {
      "cell_type": "markdown",
      "metadata": {
        "id": "cdkxHrw9-oP2",
        "colab_type": "text"
      },
      "source": [
        "3.17"
      ]
    },
    {
      "cell_type": "code",
      "metadata": {
        "id": "WSLV76lF-pG0",
        "colab_type": "code",
        "colab": {}
      },
      "source": [
        "import turtle\n",
        "import math\n",
        "t = turtle.Turtle()\n",
        "\n",
        "x1,y1,x2,y2,x3,y3 = input('세 점을 입력하세요 :').split(',')\n",
        "x1 = int(x1)\n",
        "y1 = int(y1)\n",
        "x2 = int(x2)\n",
        "y2 = int(y2)\n",
        "x3 = int(x3)\n",
        "y3 = int(y3)\n",
        "\n",
        "a = math.sqrt((x2-x3)**2 + (y2-y3)**2)\n",
        "b = math.sqrt((x1-x3)**2 + (y1-y3)**2)\n",
        "c = math.sqrt((x1-x2)**2 + (y1-y2)**2)\n",
        "A = math.degrees(math.acos((a*a-b*b-c*c) / (-2*b*c)))\n",
        "B = math.degrees(math.acos((b*b-a*a-c*c) / (-2*a*c)))\n",
        "C = math.degrees(math.acos((c*c-b*b-a*a) / (-2*a*b)))\n",
        "\n",
        "t.up()\n",
        "t.goto(x1,y1)\n",
        "t.down()\n",
        "t.write('p1({})'.format(round(A*100)/100.0))\n",
        "t.goto(x2,y2)\n",
        "t.write('p2({})'.format(round(B*100)/100.0))\n",
        "t.goto(x3,y3)\n",
        "t.write('p3({})'.format(round(C*100)/100.0))\n",
        "t.goto(x1,y1)"
      ],
      "execution_count": 0,
      "outputs": []
    },
    {
      "cell_type": "markdown",
      "metadata": {
        "id": "FVhLaj9H-pQ-",
        "colab_type": "text"
      },
      "source": [
        "3.18"
      ]
    },
    {
      "cell_type": "code",
      "metadata": {
        "id": "_xTsiA0r-qU8",
        "colab_type": "code",
        "colab": {}
      },
      "source": [
        "import turtle\n",
        "t = turtle.Turtle()\n",
        "\n",
        "x1, y1 = input('점을 입력하세요 :').split(',')\n",
        "x1 = int(x1)\n",
        "y1 = int(y1)\n",
        "x2, y2 = input('점을 입력하세요 :').split(',')\n",
        "x2 = int(x2)\n",
        "y2 = int(y2)\n",
        "\n",
        "\n",
        "t.up()\n",
        "t.goto(x1,y1)\n",
        "t.write('({},{})'.format(x1,y1))\n",
        "t.down()\n",
        "t.goto(x2,y2)\n",
        "\n",
        "t.write('({},{})'.format(x2,y2))"
      ],
      "execution_count": 0,
      "outputs": []
    }
  ]
}