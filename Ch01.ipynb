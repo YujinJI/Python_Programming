{
  "nbformat": 4,
  "nbformat_minor": 0,
  "metadata": {
    "colab": {
      "name": "1장_연습문제_지유진.ipynb",
      "provenance": [],
      "collapsed_sections": [],
      "include_colab_link": true
    },
    "kernelspec": {
      "name": "python3",
      "display_name": "Python 3"
    }
  },
  "cells": [
    {
      "cell_type": "markdown",
      "metadata": {
        "id": "view-in-github",
        "colab_type": "text"
      },
      "source": [
        "<a href=\"https://colab.research.google.com/github/YujinJI/Python_Programming/blob/master/Ch01.ipynb\" target=\"_parent\"><img src=\"https://colab.research.google.com/assets/colab-badge.svg\" alt=\"Open In Colab\"/></a>"
      ]
    },
    {
      "cell_type": "markdown",
      "metadata": {
        "id": "9aU0nyEUA34G",
        "colab_type": "text"
      },
      "source": [
        "## 1.1 자신의 컴퓨터에 파이썬을 설치하자. 그리고 파이썬 인터프리터의 버전을 윈도우 명령 처리기 혹은 유닉스 터미널에서 확인해보자. 어떤 명령을 통해 확인 가능할까?( 힌트 : python -h 로 파이썬 명령어의 옵션을 통해 확인해 보자)"
      ]
    },
    {
      "cell_type": "code",
      "metadata": {
        "id": "dK4MAUQgJ2GH",
        "colab_type": "code",
        "outputId": "0d7a57db-3038-4f8f-b67a-34bad5b3c0a7",
        "colab": {
          "base_uri": "https://localhost:8080/",
          "height": 34
        }
      },
      "source": [
        "!python --version"
      ],
      "execution_count": 0,
      "outputs": [
        {
          "output_type": "stream",
          "text": [
            "Python 3.6.8\n"
          ],
          "name": "stdout"
        }
      ]
    },
    {
      "cell_type": "markdown",
      "metadata": {
        "id": "VKQRMpcPBO26",
        "colab_type": "text"
      },
      "source": [
        "## 1.2 ‘Welcome to Python!!’ 을 5줄에 걸쳐 출력하는 코드를 만들어 보자. 이 코드를 포함한 파일을 welcome5.py라고 정하고 파이썬 인터프리터에서 수행시켜 보시오"
      ]
    },
    {
      "cell_type": "code",
      "metadata": {
        "id": "9fYajxTiBR7c",
        "colab_type": "code",
        "outputId": "ee7be1ab-0cc9-4bc7-e5ef-c02c5d10e337",
        "colab": {
          "base_uri": "https://localhost:8080/",
          "height": 102
        }
      },
      "source": [
        "print('Welcome to Python!!')\n",
        "print('Welcome to Python!!')\n",
        "print('Welcome to Python!!')\n",
        "print('Welcome to Python!!')\n",
        "print('Welcome to Python!!')"
      ],
      "execution_count": 0,
      "outputs": [
        {
          "output_type": "stream",
          "text": [
            "Welcome to Python!!\n",
            "Welcome to Python!!\n",
            "Welcome to Python!!\n",
            "Welcome to Python!!\n",
            "Welcome to Python!!\n"
          ],
          "name": "stdout"
        }
      ]
    },
    {
      "cell_type": "markdown",
      "metadata": {
        "id": "M6I6Jyq8BZ0J",
        "colab_type": "text"
      },
      "source": [
        "## 1.3 다음과 같은 출력이 되도록 intro.py라는 프로그램을 작성한 후 파이썬 인터프리터에서 수행시켜 보시오."
      ]
    },
    {
      "cell_type": "code",
      "metadata": {
        "id": "hfKm5jd0Bclf",
        "colab_type": "code",
        "outputId": "daa83e59-12c8-4994-ab88-c0dcc36aa3dc",
        "colab": {
          "base_uri": "https://localhost:8080/",
          "height": 102
        }
      },
      "source": [
        "print('*****************************')\n",
        "print('안녕하세요')\n",
        "print('저는 지유진입니다')\n",
        "print('창원대학교 정보통신공학과 1학년입니다')\n",
        "print('*****************************')"
      ],
      "execution_count": 0,
      "outputs": [
        {
          "output_type": "stream",
          "text": [
            "*****************************\n",
            "안녕하세요\n",
            "저는 지유진입니다\n",
            "창원대학교 정보통신공학과 1학년입니다\n",
            "*****************************\n"
          ],
          "name": "stdout"
        }
      ]
    },
    {
      "cell_type": "markdown",
      "metadata": {
        "id": "n5cySdVCByB0",
        "colab_type": "text"
      },
      "source": [
        "## 1.4 다음과 같은 출력이 되도록 triangle.py라는 프로그램을 작성한 후 파이썬 인터프리터에서 수행시켜 보시오."
      ]
    },
    {
      "cell_type": "code",
      "metadata": {
        "id": "dpfrSAI3B1AM",
        "colab_type": "code",
        "outputId": "045fd72b-cede-47e3-f7ad-2e405b652058",
        "colab": {
          "base_uri": "https://localhost:8080/",
          "height": 85
        }
      },
      "source": [
        "print('    *')\n",
        "print('   ***')\n",
        "print('  *****')\n",
        "print(' *******')"
      ],
      "execution_count": 0,
      "outputs": [
        {
          "output_type": "stream",
          "text": [
            "    *\n",
            "   ***\n",
            "  *****\n",
            " *******\n"
          ],
          "name": "stdout"
        }
      ]
    },
    {
      "cell_type": "markdown",
      "metadata": {
        "id": "IhHTmKPYCIyZ",
        "colab_type": "text"
      },
      "source": [
        "## 1.5 다음과 같은 출력이 되도록 rev_triangle.py라는 프로그램을 작성한 후 파이썬 인터프리터에서 수행시켜 보시오."
      ]
    },
    {
      "cell_type": "code",
      "metadata": {
        "id": "7WBCpomMCK7g",
        "colab_type": "code",
        "outputId": "4cdc37b3-793b-4d7a-f3d4-64698adab31d",
        "colab": {
          "base_uri": "https://localhost:8080/",
          "height": 102
        }
      },
      "source": [
        "print('*******')\n",
        "print(' *****')\n",
        "print(' *****')\n",
        "print('  ***')\n",
        "print('   *')"
      ],
      "execution_count": 0,
      "outputs": [
        {
          "output_type": "stream",
          "text": [
            "*******\n",
            " *****\n",
            " *****\n",
            "  ***\n",
            "   *\n"
          ],
          "name": "stdout"
        }
      ]
    },
    {
      "cell_type": "markdown",
      "metadata": {
        "id": "VkIZ4XOwCbod",
        "colab_type": "text"
      },
      "source": [
        "## 1.6 파이썬 대화창을 이용하여 다음과 같은 수식 계산을 해 보도록 하자.\n",
        "### 1) 400 - 200\n",
        "### 2) 45 * 89\n",
        "### 3) 32 / 8"
      ]
    },
    {
      "cell_type": "code",
      "metadata": {
        "id": "uUrjgmhGCjgG",
        "colab_type": "code",
        "outputId": "8ee9cd9a-a1ae-4aa3-f331-442c202d3cb9",
        "colab": {
          "base_uri": "https://localhost:8080/",
          "height": 34
        }
      },
      "source": [
        "400 - 200"
      ],
      "execution_count": 0,
      "outputs": [
        {
          "output_type": "execute_result",
          "data": {
            "text/plain": [
              "200"
            ]
          },
          "metadata": {
            "tags": []
          },
          "execution_count": 8
        }
      ]
    },
    {
      "cell_type": "code",
      "metadata": {
        "id": "nr2ubwbZCn46",
        "colab_type": "code",
        "outputId": "42987c1a-8bb9-4376-c55b-9ca72ce8c1ed",
        "colab": {
          "base_uri": "https://localhost:8080/",
          "height": 34
        }
      },
      "source": [
        "45 * 89"
      ],
      "execution_count": 0,
      "outputs": [
        {
          "output_type": "execute_result",
          "data": {
            "text/plain": [
              "4005"
            ]
          },
          "metadata": {
            "tags": []
          },
          "execution_count": 9
        }
      ]
    },
    {
      "cell_type": "code",
      "metadata": {
        "id": "AbJ_6PAxCtB5",
        "colab_type": "code",
        "outputId": "890dc8d6-da6a-42d1-8c48-496b6f0daba9",
        "colab": {
          "base_uri": "https://localhost:8080/",
          "height": 34
        }
      },
      "source": [
        "32 / 8"
      ],
      "execution_count": 0,
      "outputs": [
        {
          "output_type": "execute_result",
          "data": {
            "text/plain": [
              "4.0"
            ]
          },
          "metadata": {
            "tags": []
          },
          "execution_count": 10
        }
      ]
    },
    {
      "cell_type": "markdown",
      "metadata": {
        "id": "yE_c4yOfCvoe",
        "colab_type": "text"
      },
      "source": [
        "## 1.7 파이썬 대화창을 이용하여 다음과 같은 수식 계산을 해 보도록 하자.\n"
      ]
    },
    {
      "cell_type": "markdown",
      "metadata": {
        "id": "zv7YLq8VDSA0",
        "colab_type": "text"
      },
      "source": [
        "### 1) 1에서 10까지 자연수의 합"
      ]
    },
    {
      "cell_type": "code",
      "metadata": {
        "id": "y9Szi9g4DThz",
        "colab_type": "code",
        "outputId": "03ffb56c-fb2d-41c4-92c4-347183886011",
        "colab": {
          "base_uri": "https://localhost:8080/",
          "height": 34
        }
      },
      "source": [
        "1 + 2 + 3 + 4 + 5 + 6 + 7 + 8 + 9 + 10"
      ],
      "execution_count": 0,
      "outputs": [
        {
          "output_type": "execute_result",
          "data": {
            "text/plain": [
              "55"
            ]
          },
          "metadata": {
            "tags": []
          },
          "execution_count": 12
        }
      ]
    },
    {
      "cell_type": "markdown",
      "metadata": {
        "id": "_cgjBBq_DcQE",
        "colab_type": "text"
      },
      "source": [
        "### 2) 반지름의 길이가 5인 원의 둘레(원주율 파이는 3.14로 두고 계산할 것)"
      ]
    },
    {
      "cell_type": "code",
      "metadata": {
        "id": "6GHN86w_DdYB",
        "colab_type": "code",
        "outputId": "82156192-3c06-4bf5-daea-84b4961d337f",
        "colab": {
          "base_uri": "https://localhost:8080/",
          "height": 34
        }
      },
      "source": [
        "2 * 3.14 * 5"
      ],
      "execution_count": 0,
      "outputs": [
        {
          "output_type": "execute_result",
          "data": {
            "text/plain": [
              "31.400000000000002"
            ]
          },
          "metadata": {
            "tags": []
          },
          "execution_count": 13
        }
      ]
    },
    {
      "cell_type": "markdown",
      "metadata": {
        "id": "w0pj2ovHEsfG",
        "colab_type": "text"
      },
      "source": [
        "### 3) 한 변의 길이가 25인 정사각형의 둘레"
      ]
    },
    {
      "cell_type": "code",
      "metadata": {
        "id": "z5OfE1YqEtdA",
        "colab_type": "code",
        "outputId": "9674a8ba-e6d9-497f-d0fa-eb537239baeb",
        "colab": {
          "base_uri": "https://localhost:8080/",
          "height": 34
        }
      },
      "source": [
        "25 * 4"
      ],
      "execution_count": 0,
      "outputs": [
        {
          "output_type": "execute_result",
          "data": {
            "text/plain": [
              "100"
            ]
          },
          "metadata": {
            "tags": []
          },
          "execution_count": 1
        }
      ]
    },
    {
      "cell_type": "markdown",
      "metadata": {
        "id": "x9IVh5FxE1gs",
        "colab_type": "text"
      },
      "source": [
        "### 4) 한 변의 길이가 25인 정사각형의 면적"
      ]
    },
    {
      "cell_type": "code",
      "metadata": {
        "id": "ZJHKkkqJE2dU",
        "colab_type": "code",
        "outputId": "0db49c84-c544-4ceb-e6be-5b9bc185b234",
        "colab": {
          "base_uri": "https://localhost:8080/",
          "height": 34
        }
      },
      "source": [
        "25 * 25"
      ],
      "execution_count": 0,
      "outputs": [
        {
          "output_type": "execute_result",
          "data": {
            "text/plain": [
              "625"
            ]
          },
          "metadata": {
            "tags": []
          },
          "execution_count": 16
        }
      ]
    },
    {
      "cell_type": "markdown",
      "metadata": {
        "id": "IAOljZfYE9K6",
        "colab_type": "text"
      },
      "source": [
        "### 5) 높이가 10이고 밑변이 30인 직사각형의 둘레"
      ]
    },
    {
      "cell_type": "code",
      "metadata": {
        "id": "AHnDJXZ2E-RS",
        "colab_type": "code",
        "outputId": "368d77dd-1db1-4c52-ef17-757833d00e55",
        "colab": {
          "base_uri": "https://localhost:8080/",
          "height": 34
        }
      },
      "source": [
        "(10 * 2) + (30 * 2)"
      ],
      "execution_count": 0,
      "outputs": [
        {
          "output_type": "execute_result",
          "data": {
            "text/plain": [
              "80"
            ]
          },
          "metadata": {
            "tags": []
          },
          "execution_count": 17
        }
      ]
    },
    {
      "cell_type": "markdown",
      "metadata": {
        "id": "qhvi32GiFFV5",
        "colab_type": "text"
      },
      "source": [
        "### 6) 높이가 10이고 밑변이 30인 직사각형의 면적"
      ]
    },
    {
      "cell_type": "code",
      "metadata": {
        "id": "HT6xzy22FGQq",
        "colab_type": "code",
        "outputId": "367caf78-3cc6-4566-d326-e89ca0e65a22",
        "colab": {
          "base_uri": "https://localhost:8080/",
          "height": 34
        }
      },
      "source": [
        "10 * 30"
      ],
      "execution_count": 0,
      "outputs": [
        {
          "output_type": "execute_result",
          "data": {
            "text/plain": [
              "300"
            ]
          },
          "metadata": {
            "tags": []
          },
          "execution_count": 18
        }
      ]
    },
    {
      "cell_type": "markdown",
      "metadata": {
        "id": "0BSXhfYqFM0X",
        "colab_type": "text"
      },
      "source": [
        "## 1.8 자동차를 이용하여 시속 80km의 속력으로 1시간 30분을 달렸을 때 총 주행거리를 계산하여라.(단 거리는 (속력) * (시간)으로 구한다)"
      ]
    },
    {
      "cell_type": "code",
      "metadata": {
        "id": "FTncTcvAFSh-",
        "colab_type": "code",
        "outputId": "597552f4-aca6-4eb4-fef9-5dc90ca445b4",
        "colab": {
          "base_uri": "https://localhost:8080/",
          "height": 34
        }
      },
      "source": [
        "80 * 1.5"
      ],
      "execution_count": 0,
      "outputs": [
        {
          "output_type": "execute_result",
          "data": {
            "text/plain": [
              "120.0"
            ]
          },
          "metadata": {
            "tags": []
          },
          "execution_count": 19
        }
      ]
    },
    {
      "cell_type": "markdown",
      "metadata": {
        "id": "RCNkN0ocHct-",
        "colab_type": "text"
      },
      "source": [
        "## 1.9 자동차를 이용하여 2시간동안 190km를 이동하였다. 평균 속력을 계산하여라."
      ]
    },
    {
      "cell_type": "code",
      "metadata": {
        "id": "F_4joYGAHhNm",
        "colab_type": "code",
        "outputId": "59e00d88-ac0a-43f5-d30c-a2c57d241a49",
        "colab": {
          "base_uri": "https://localhost:8080/",
          "height": 34
        }
      },
      "source": [
        "190 / 2"
      ],
      "execution_count": 0,
      "outputs": [
        {
          "output_type": "execute_result",
          "data": {
            "text/plain": [
              "95.0"
            ]
          },
          "metadata": {
            "tags": []
          },
          "execution_count": 20
        }
      ]
    },
    {
      "cell_type": "markdown",
      "metadata": {
        "id": "1bbBlh_PHm_8",
        "colab_type": "text"
      },
      "source": [
        "## 1.10 태양과 지구의 평균 거리는 빛의 속도로 149,597,870.7 km로 정의되어 있다. 빛이 1초에 299,792 km를 이동한다고 가정할 때 태양에서 출발한 빛이 지구에 도착하는 시간을 초단위로 계산하여라.\n"
      ]
    },
    {
      "cell_type": "code",
      "metadata": {
        "id": "Q52JhvP3NBwI",
        "colab_type": "code",
        "outputId": "85fcc8b0-0599-403b-b9b7-f59d861627be",
        "colab": {
          "base_uri": "https://localhost:8080/",
          "height": 34
        }
      },
      "source": [
        "149597870.7/299792"
      ],
      "execution_count": 0,
      "outputs": [
        {
          "output_type": "execute_result",
          "data": {
            "text/plain": [
              "499.00554617868386"
            ]
          },
          "metadata": {
            "tags": []
          },
          "execution_count": 3
        }
      ]
    }
  ]
}