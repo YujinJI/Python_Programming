{
  "nbformat": 4,
  "nbformat_minor": 0,
  "metadata": {
    "colab": {
      "name": "3장풀이-지유진.ipynb의 사본",
      "provenance": [],
      "collapsed_sections": [],
      "include_colab_link": true
    },
    "kernelspec": {
      "name": "python3",
      "display_name": "Python 3"
    }
  },
  "cells": [
    {
      "cell_type": "markdown",
      "metadata": {
        "id": "view-in-github",
        "colab_type": "text"
      },
      "source": [
        "<a href=\"https://colab.research.google.com/github/YujinJI/Python_Programming/blob/master/Ch03.ipynb\" target=\"_parent\"><img src=\"https://colab.research.google.com/assets/colab-badge.svg\" alt=\"Open In Colab\"/></a>"
      ]
    },
    {
      "cell_type": "markdown",
      "metadata": {
        "id": "EjlQolc3BwBp",
        "colab_type": "text"
      },
      "source": [
        "## 3.1 키가 140cm 미만이면 탈 수 없는 놀이기구가 있다. 다음과 같이 사용자로부터 키를 입력받아 이 놀이기구에 탈 수 있는지 없는지를 판단하여 출력하는 프로그램을 작성하시오.\n"
      ]
    },
    {
      "cell_type": "code",
      "metadata": {
        "id": "Vet0l7kfB4yJ",
        "colab_type": "code",
        "outputId": "11b83ba6-1d77-42ca-9f64-11e6023f6927",
        "colab": {
          "base_uri": "https://localhost:8080/",
          "height": 52
        }
      },
      "source": [
        "height = int(input('키를 입력하시오(단위 cm) :'))\n",
        "if height < 140:\n",
        "  print('놀이기구를 탈 수 없습니다')\n",
        "else:\n",
        "  print('놀이기구를 탈 수 있습니다')"
      ],
      "execution_count": 0,
      "outputs": [
        {
          "output_type": "stream",
          "text": [
            "키를 입력하시오(단위 cm) :160\n",
            "놀이기구를 탈 수 있습니다\n"
          ],
          "name": "stdout"
        }
      ]
    },
    {
      "cell_type": "markdown",
      "metadata": {
        "id": "nUFMOaSHazk4",
        "colab_type": "text"
      },
      "source": [
        "## 3.2  나이가 19세 미만이고 키가 140를 초과하면 탈 수 있는 놀이기구가 있다. 다음과 같이 사용자로부터 나이와 키를 입력받아 이 놀이기구에 탈 수 있는지 없는지를 판단하여 출력하는 프로그램을 작성하시오. 이때 조건식에 반드시 and 가 들어가도록 프로그래밍 하시오. \n"
      ]
    },
    {
      "cell_type": "code",
      "metadata": {
        "id": "JdMEAE7SbLya",
        "colab_type": "code",
        "outputId": "fc4028aa-67cc-4f31-eccc-54f5bb7c4ad2",
        "colab": {
          "base_uri": "https://localhost:8080/",
          "height": 70
        }
      },
      "source": [
        "age = int(input('나이를 입력하시오 :'))\n",
        "height = int(input('키를 입력하시오(단위 cm) :'))\n",
        "if age < 19 and height > 140:\n",
        "  print('입장할 수 있습니다')\n",
        "else:\n",
        "  print('입장할 수 없습니다')"
      ],
      "execution_count": 0,
      "outputs": [
        {
          "output_type": "stream",
          "text": [
            "나이를 입력하시오 :23\n",
            "키를 입력하시오(단위 cm) :160\n",
            "입장할 수 없습니다\n"
          ],
          "name": "stdout"
        }
      ]
    },
    {
      "cell_type": "markdown",
      "metadata": {
        "id": "bS4U-XNodV7Q",
        "colab_type": "text"
      },
      "source": [
        "## 3.3 다음과 같이 사용자로부터 나이를 입력받아 20살 이상이면 “Adult\", 10살 이상 20살 미 만이면 \"Youth\", 10살 미만이면 \"Kid\"를 출력하는 프로그램을 if - elif - else 를 사용하여 작성하시오( _ 부분이 사용자가 입력한 부분입니다 ) "
      ]
    },
    {
      "cell_type": "code",
      "metadata": {
        "id": "_1fw56iTdfFQ",
        "colab_type": "code",
        "outputId": "37e8dc01-8a62-404a-c3cd-7210ed1b1906",
        "colab": {
          "base_uri": "https://localhost:8080/",
          "height": 52
        }
      },
      "source": [
        "age = int(input('나이를 입력하시오 :'))\n",
        "if age >= 20:\n",
        "  print('Adult')\n",
        "elif age > 10 and age < 20:\n",
        "  print('Youth')\n",
        "else:\n",
        "  print('Kid')"
      ],
      "execution_count": 0,
      "outputs": [
        {
          "output_type": "stream",
          "text": [
            "나이를 입력하시오 :18\n",
            "Youth\n"
          ],
          "name": "stdout"
        }
      ]
    },
    {
      "cell_type": "markdown",
      "metadata": {
        "id": "7Uo543ujex1h",
        "colab_type": "text"
      },
      "source": [
        "## 3.4 다음과 같이 사용자로부터 2개의 임의의 정수를 입력으로 받아서 가장 작은 수부터 큰 수까지 나열하는 프로그램을 if-else문을 사용하여 작성하시오. "
      ]
    },
    {
      "cell_type": "code",
      "metadata": {
        "id": "GAWZ_meJe87w",
        "colab_type": "code",
        "outputId": "9218fdba-cdca-468d-8eca-1f8d3b79a4bd",
        "colab": {
          "base_uri": "https://localhost:8080/",
          "height": 52
        }
      },
      "source": [
        "num1, num2 = input('두 정수를 입력하시오 : ').split()\n",
        "num1 = int(num1)\n",
        "num2 = int(num2)\n",
        "\n",
        "if num1 > num2:\n",
        "    print(num2,num1)\n",
        "else:\n",
        "    print(num1,num2)"
      ],
      "execution_count": 0,
      "outputs": [
        {
          "output_type": "stream",
          "text": [
            "두 정수를 입력하시오 : 99 12\n",
            "12 99\n"
          ],
          "name": "stdout"
        }
      ]
    },
    {
      "cell_type": "markdown",
      "metadata": {
        "id": "tX1xxqqfhhp-",
        "colab_type": "text"
      },
      "source": [
        "## 3.5 다음과 같이 사용자로부터 3개의 임의의 정수를 입력으로 받아서 가장 작은 수부터 큰 수까지 나열하는 프로그램을 if-else문을 사용하여 작성하시오. "
      ]
    },
    {
      "cell_type": "code",
      "metadata": {
        "id": "u5W2aW1fhsqn",
        "colab_type": "code",
        "outputId": "67fd901d-4ccc-4dc3-a4ef-5deaeebeb161",
        "colab": {
          "base_uri": "https://localhost:8080/",
          "height": 52
        }
      },
      "source": [
        "a, b, c = input('세 정수를 입력하시오 : ').split()\n",
        "a = int(a)\n",
        "b = int(b)\n",
        "c = int(c)\n",
        "\n",
        "if a > b and a > c and b > c:\n",
        "    print(c,b,a)\n",
        "elif a > b and a > c and c > b:\n",
        "    print(b,c,a)\n",
        "elif b > a and b > c and a > c:\n",
        "    print(c,a,b)\n",
        "elif b > a and b > c and c > a:\n",
        "    print(a,c,b)\n",
        "elif c > a and c > b and a > b:\n",
        "    print(b,a,c)\n",
        "else:\n",
        "    print(a,b,c)"
      ],
      "execution_count": 0,
      "outputs": [
        {
          "output_type": "stream",
          "text": [
            "세 정수를 입력하시오 : 9 12 4\n",
            "4 9 12\n"
          ],
          "name": "stdout"
        }
      ]
    },
    {
      "cell_type": "markdown",
      "metadata": {
        "id": "Wx_k4tw4jbP_",
        "colab_type": "text"
      },
      "source": [
        "## 3.6 사용자로부터 점수를 입력받은 다음 게임 사용자의 게임점수(game_score)가 1000점 이상이면 ‘고수입니다’를 출력하고 1000점 미만이면 ‘입문자입니다’를 출력하는 프로그램을 if-else문을 이용하여 작성하시오. "
      ]
    },
    {
      "cell_type": "code",
      "metadata": {
        "id": "gsZelSXvjeck",
        "colab_type": "code",
        "outputId": "9112de27-8592-4594-fd0d-97265f4623b1",
        "colab": {
          "base_uri": "https://localhost:8080/",
          "height": 52
        }
      },
      "source": [
        "game_score = int(input('게임점수를 입력하시오 : '))\n",
        "if game_score >= 1000:\n",
        "  print('고수입니다')\n",
        "else:\n",
        "  print('입문자입니다')\n",
        "  "
      ],
      "execution_count": 0,
      "outputs": [
        {
          "output_type": "stream",
          "text": [
            "게임점수를 입력하시오 : 990\n",
            "입문자입니다\n"
          ],
          "name": "stdout"
        }
      ]
    },
    {
      "cell_type": "markdown",
      "metadata": {
        "id": "c23pwv1Kj4W9",
        "colab_type": "text"
      },
      "source": [
        "## 3.7 사용자로부터 x, y 좌표를 가진 한 점을 입력으로 받아서 이 점이 1,2,3,4 분면의 어디에 속하는지를 알려주는 프로그램을 작성하시오. 사분면의 위치는 다음 그림과 같다.\n"
      ]
    },
    {
      "cell_type": "code",
      "metadata": {
        "id": "Scc3MVHHj8uj",
        "colab_type": "code",
        "outputId": "b0469b69-28a9-4045-f391-42197a20a196",
        "colab": {
          "base_uri": "https://localhost:8080/",
          "height": 52
        }
      },
      "source": [
        "x, y = input('점의 좌표 x, y를 입력하시오 : ').split()\n",
        "x = int(x)\n",
        "y = int(y)\n",
        "\n",
        "if x > 0 and y > 0:\n",
        "  print('1사분면에 있음')\n",
        "elif x > 0 and y < 0:\n",
        "  print('4사분면에 있음')\n",
        "elif x < 0 and y > 0:\n",
        "  print('2사분면에 있음')\n",
        "else:\n",
        "  print('3사분면에 있음')"
      ],
      "execution_count": 0,
      "outputs": [
        {
          "output_type": "stream",
          "text": [
            "점의 좌표 x, y를 입력하시오 : 2 4\n",
            "1사분면에 있음\n"
          ],
          "name": "stdout"
        }
      ]
    },
    {
      "cell_type": "markdown",
      "metadata": {
        "id": "A_R5YlEfnbzV",
        "colab_type": "text"
      },
      "source": [
        "## 3.8 하나의 정수를 입력으로 받아서 이 정수가 2로 나누어지는지, 3으로 나누어지는지, 혹 은 두 정수 모두로도 나누어지는 알려주는 프로그램을 다음과 같이 작성하시오."
      ]
    },
    {
      "cell_type": "code",
      "metadata": {
        "id": "nZDxpd5nnf_F",
        "colab_type": "code",
        "outputId": "2cb938f5-b699-4566-c966-344d62ca6ddd",
        "colab": {
          "base_uri": "https://localhost:8080/",
          "height": 87
        }
      },
      "source": [
        "num = int(input('정수를 입력하시오 : '))\n",
        "if num % 2 != 0:\n",
        "  print(num,'(는)은 2(으)로 나누어지지 않습니다.')\n",
        "if num % 2 == 0:\n",
        "  print(num,'(는)은 2(으)로 나누어집니다.')\n",
        "if num % 3 != 0:\n",
        "  print(num,'(는)은 3(으)로 나누어지지 않습니다.')\n",
        "if num % 3 == 0:\n",
        "  print(num,'(는)은 3(으)로 나누어집니다.')\n",
        "if num % 2 != 0 or num % 3 != 0:\n",
        "  print(num,'는(은) 2와(과) 3 모두로 나누어지지 않습니다')\n",
        "if num % 2 == 0 and num % 3 == 0:\n",
        "  print(num,'는(은) 2와(과) 3 모두로 나누어집니다.')"
      ],
      "execution_count": 0,
      "outputs": [
        {
          "output_type": "stream",
          "text": [
            "정수를 입력하시오 : 15\n",
            "15 (는)은 2(으)로 나누어지지 않습니다.\n",
            "15 (는)은 3(으)로 나누어집니다.\n",
            "15 는(은) 2와(과) 3 모두로 나누어지지 않습니다\n"
          ],
          "name": "stdout"
        }
      ]
    },
    {
      "cell_type": "markdown",
      "metadata": {
        "id": "IbUg42SDpt39",
        "colab_type": "text"
      },
      "source": [
        "## 3.9 사용자로부터 2개의 정수를 a, b를 입력으로 받은 다음 a가 b의 배수인지 아닌지를 판단하여 출력하는 다음과 같은 프로그램을 작성하시오."
      ]
    },
    {
      "cell_type": "code",
      "metadata": {
        "id": "VY_LG7e7pz8I",
        "colab_type": "code",
        "outputId": "99f0b3d2-e369-42cd-ae42-35f64d345062",
        "colab": {
          "base_uri": "https://localhost:8080/",
          "height": 52
        }
      },
      "source": [
        "a, b = input('두 정수를 입력하시오 : ').split()\n",
        "a = int(a)\n",
        "b = int(b)\n",
        "\n",
        "if a % b == 0:\n",
        "  print('{} 는(은) {} 의 배수입니다'.format(a,b))\n",
        "else:\n",
        "  print('{} 는(은) {} 의 배수가 아닙니다'.format(a,b))\n",
        "\n"
      ],
      "execution_count": 0,
      "outputs": [
        {
          "output_type": "stream",
          "text": [
            "두 정수를 입력하시오 : 15 5\n",
            "15 는(은) 5 의 배수입니다\n"
          ],
          "name": "stdout"
        }
      ]
    },
    {
      "cell_type": "markdown",
      "metadata": {
        "id": "aVb_06vmss53",
        "colab_type": "text"
      },
      "source": [
        "## 3.10 1에서 10사이의 복권번호 중에서 3개의 숫자를 모두 맞히면 ‘1억원’, 2개를 맞히면 ‘1 천만원’, 1개를 맞히면 ‘1만원’, 모두 틀리면 ‘다음 기회에...’을 출력하는 복권 시스템이 있다 고 가정하자. 사용자로부터 3개의 정수를 받은 다음 상금을 알려주는 프로그램을 다음과 같 이 작성하시오.(단 이번 회차 복권 당첨 번호가 2, 3, 9라고 가정하자) "
      ]
    },
    {
      "cell_type": "code",
      "metadata": {
        "id": "vdKdBAEmsw7A",
        "colab_type": "code",
        "outputId": "f6181285-7e34-4851-91cd-5a36fd647037",
        "colab": {
          "base_uri": "https://localhost:8080/",
          "height": 52
        }
      },
      "source": [
        "lotto = 239\n",
        "n = 0\n",
        "a, b, c = input('세 복권번호를 입력하시오 : ').split()\n",
        "a = int(a)\n",
        "b = int(b)\n",
        "c = int(c)\n",
        "\n",
        "if a == 2 or a == 3 or a == 9:\n",
        "  n += 1\n",
        "if b == 2 or b == 3 or b == 9:\n",
        "  n += 1\n",
        "if c == 2 or c == 3 or c == 9:\n",
        "  n += 1\n",
        "if n == 0:\n",
        "  print('다음기회에...')\n",
        "elif n == 1:\n",
        "  print('상금 1만원')\n",
        "elif n == 2:\n",
        "  print('상금 1천만원')\n",
        "else:\n",
        "  print('상금 1억원')\n",
        "  "
      ],
      "execution_count": 0,
      "outputs": [
        {
          "output_type": "stream",
          "text": [
            "세 복권번호를 입력하시오 : 1 2 9\n",
            "상금 1천만원\n"
          ],
          "name": "stdout"
        }
      ]
    },
    {
      "cell_type": "markdown",
      "metadata": {
        "id": "omUt_KbZy6vS",
        "colab_type": "text"
      },
      "source": [
        "## 3.11 중심이 원점 (0,0)에 있고 반지름이 10인 원이 있다고 가정하자. 사용자로부터 x와 y 좌표를 입력받은 후, 입력받은 점의 좌표 (x, y)가 원의 내부에 있으면 ‘원의 내부에 있음’, 원의 외부에 있으면 ‘원의 외부에 있음’을 출력하는 다음과 같은 프로그램을 작성하시오.(힌 트 : 어떤 점이 원점과의 거리가 10보다 클 경우 원의 외부에 있으며, 10보다 작거나 같을 경우 원의 내부에 있다고 판단할 수 있다. 점 (x, y)와 원점과의 거리는 x*x + y*y 이 다)\n"
      ]
    },
    {
      "cell_type": "code",
      "metadata": {
        "id": "xgB2X36VzG5i",
        "colab_type": "code",
        "outputId": "13346ced-89cb-4fa7-931b-6e891be4b2aa",
        "colab": {
          "base_uri": "https://localhost:8080/",
          "height": 52
        }
      },
      "source": [
        "x, y = input('점의 좌표 x, y를 입력하시오 : ').split()\n",
        "x = int(x)\n",
        "y = int(y)\n",
        "\n",
        "r = (x*x + y*y) ** 0.5\n",
        "\n",
        "if r > -5 and r < 5:\n",
        "  print('원의 내부에 있음')\n",
        "else:\n",
        "  print('원의 외부에 있음')"
      ],
      "execution_count": 0,
      "outputs": [
        {
          "output_type": "stream",
          "text": [
            "점의 좌표 x, y를 입력하시오 : 7 9\n",
            "원의 외부에 있음\n"
          ],
          "name": "stdout"
        }
      ]
    },
    {
      "cell_type": "markdown",
      "metadata": {
        "id": "3WxIiavjFDnY",
        "colab_type": "text"
      },
      "source": [
        "## 3.12 3.9번 문제에서 원의 중심이 원점에 있는 경우를 가정하였다. 이제 원의 중심이 (3, 4)이고 원의 반지름이 10인 경우에 대하여 고려해보자. 다음과 같이 사용자로부터 x와 y좌 표를 입력받은 후, 입력받은 점의 좌표 (x, y)가 원의 내부에 있으면 ‘원의 내부에 있음’, 원의 외부에 있으면 ‘원의 외부에 있음’을 출력하는 다음과 같은 프로그램을 작성하시오.(힌 트 : 어떤 점이 (3, 4)와의 거리가 10보다 클 경우 원의 외부에 있으며, 10보다 작거나 같 을 경우 원의 내부에 있다고 판단할 수 있다. 사용자가 입력한 점 (x, y)와 원의 중심 (3, 4)과의 거리는 (x-3) + (y-4)2 이다) "
      ]
    },
    {
      "cell_type": "code",
      "metadata": {
        "id": "L3YUeBOMFJpU",
        "colab_type": "code",
        "outputId": "4d375df1-6b18-4e82-c934-15178a0a7d16",
        "colab": {
          "base_uri": "https://localhost:8080/",
          "height": 52
        }
      },
      "source": [
        "x, y = input('점의 좌표 x, y를 입력하시오 : ').split()\n",
        "x = int(x)\n",
        "y = int(y)\n",
        "\n",
        "r = ((x-3)**2 + (y-4)**2) ** 0.5\n",
        "\n",
        "if r > -10 and r < 10:\n",
        "  print('원의 내부에 있음')\n",
        "else:\n",
        "  print('원의 외부에 있음')"
      ],
      "execution_count": 0,
      "outputs": [
        {
          "output_type": "stream",
          "text": [
            "점의 좌표 x, y를 입력하시오 : -9 -5\n",
            "원의 외부에 있음\n"
          ],
          "name": "stdout"
        }
      ]
    },
    {
      "cell_type": "markdown",
      "metadata": {
        "id": "QbbNTl2yIOWp",
        "colab_type": "text"
      },
      "source": [
        "## 3.13 사용자로부터 알파벳 문자 하나를 입력 받아서 a, e, i, o, u일 경우 ‘모음입니다’를 이 외의 문자일 경우 ‘자음입니다’를 출력하시오. "
      ]
    },
    {
      "cell_type": "code",
      "metadata": {
        "id": "xXu3Av5_IR8b",
        "colab_type": "code",
        "outputId": "2ed9acbe-2b8e-4266-f823-2fdab0a44879",
        "colab": {
          "base_uri": "https://localhost:8080/",
          "height": 52
        }
      },
      "source": [
        "a = input('알파벳을 입력하시오 : ')\n",
        "if a == 'a' or a == 'e' or a == 'i' or a == 'o' or a == 'u':\n",
        "  print('{} (은)는 모음입니다'.format(a))\n",
        "else:\n",
        "  print('{} (은)는 자음입니다'.format(a))"
      ],
      "execution_count": 0,
      "outputs": [
        {
          "output_type": "stream",
          "text": [
            "알파벳을 입력하시오 : a\n",
            "a (은)는 모음입니다\n"
          ],
          "name": "stdout"
        }
      ]
    },
    {
      "cell_type": "markdown",
      "metadata": {
        "id": "1NYjrbhLJF-z",
        "colab_type": "text"
      },
      "source": [
        "## 3.14 다음과 같이 구구단의 2절을 출력하는 프로그램을 for문과 while문을 사용하여 각각 작성하여라. "
      ]
    },
    {
      "cell_type": "code",
      "metadata": {
        "id": "MTGjR8j2JJ6_",
        "colab_type": "code",
        "outputId": "40c8728b-4925-4b8d-e60d-c4b3fe692227",
        "colab": {
          "base_uri": "https://localhost:8080/",
          "height": 175
        }
      },
      "source": [
        "for i in range(1,10):\n",
        "  print('{} * {} = {}'.format(2,i,2*i))\n",
        "  i += 1"
      ],
      "execution_count": 0,
      "outputs": [
        {
          "output_type": "stream",
          "text": [
            "2 * 1 = 2\n",
            "2 * 2 = 4\n",
            "2 * 3 = 6\n",
            "2 * 4 = 8\n",
            "2 * 5 = 10\n",
            "2 * 6 = 12\n",
            "2 * 7 = 14\n",
            "2 * 8 = 16\n",
            "2 * 9 = 18\n"
          ],
          "name": "stdout"
        }
      ]
    },
    {
      "cell_type": "code",
      "metadata": {
        "id": "0wMnVb0vL6LP",
        "colab_type": "code",
        "outputId": "e06563b9-65b9-4c5f-af22-c63d5f02d7d9",
        "colab": {
          "base_uri": "https://localhost:8080/",
          "height": 175
        }
      },
      "source": [
        "i = 1\n",
        "while True:\n",
        "  print('{} * {} = {}'.format(2,i,2*i))\n",
        "  i = i + 1\n",
        "  if i > 9:\n",
        "    break;"
      ],
      "execution_count": 0,
      "outputs": [
        {
          "output_type": "stream",
          "text": [
            "2 * 1 = 2\n",
            "2 * 2 = 4\n",
            "2 * 3 = 6\n",
            "2 * 4 = 8\n",
            "2 * 5 = 10\n",
            "2 * 6 = 12\n",
            "2 * 7 = 14\n",
            "2 * 8 = 16\n",
            "2 * 9 = 18\n"
          ],
          "name": "stdout"
        }
      ]
    },
    {
      "cell_type": "markdown",
      "metadata": {
        "id": "ePmzOAkxLQNF",
        "colab_type": "text"
      },
      "source": [
        "## 3.15 다음과 같이 사용자로부터 1에서 9사이의 숫자를 입력받아 입력받은 숫자의 절에 해 당하는 구구단을 출력하는 프로그램을 for문과 while문을 사용하여 각각 작성하여라. 만일 1에서 9이외의 숫자가 입력되면 ‘1에서 9까지의 수를 다시 입력하세요:’라는 안내문을 출력 하여라."
      ]
    },
    {
      "cell_type": "code",
      "metadata": {
        "id": "BedXxSdyLWl_",
        "colab_type": "code",
        "outputId": "7709eec0-70bd-48f6-e45b-a2380d9a5a09",
        "colab": {
          "base_uri": "https://localhost:8080/",
          "height": 210
        }
      },
      "source": [
        "num = int(input('1에서 9까지의 수를 입력하시오 : '))\n",
        "if num > 9:\n",
        "  num = int(input('1에서 9까지의 수를 다시 입력하시오 : '))\n",
        "\n",
        "for i in range(1,10):\n",
        "  print('{} * {} = {}'.format(num,i,num*i))\n",
        "  i += 1"
      ],
      "execution_count": 0,
      "outputs": [
        {
          "output_type": "stream",
          "text": [
            "1에서 9까지의 수를 입력하시오 : 11\n",
            "1에서 9까지의 수를 다시 입력하시오 : 2\n",
            "2 * 1 = 2\n",
            "2 * 2 = 4\n",
            "2 * 3 = 6\n",
            "2 * 4 = 8\n",
            "2 * 5 = 10\n",
            "2 * 6 = 12\n",
            "2 * 7 = 14\n",
            "2 * 8 = 16\n",
            "2 * 9 = 18\n"
          ],
          "name": "stdout"
        }
      ]
    },
    {
      "cell_type": "markdown",
      "metadata": {
        "id": "Q0fB70NhNmfT",
        "colab_type": "text"
      },
      "source": [
        "## 3.16 다음의 프로그램은 어떤 결과 값을 출력하는가? 출력결과를 미리 예측한 후 타이핑하여 그 결과가 맞는지 확인해 보도록 하자."
      ]
    },
    {
      "cell_type": "code",
      "metadata": {
        "id": "Q79N1khANpGC",
        "colab_type": "code",
        "outputId": "1662bfaa-4766-4086-b323-f2406fd4556b",
        "colab": {
          "base_uri": "https://localhost:8080/",
          "height": 175
        }
      },
      "source": [
        "for i in range(3):\n",
        "  print('python')\n",
        "  print('is')\n",
        "  print('FUN!')\n",
        "  "
      ],
      "execution_count": 0,
      "outputs": [
        {
          "output_type": "stream",
          "text": [
            "python\n",
            "is\n",
            "FUN!\n",
            "python\n",
            "is\n",
            "FUN!\n",
            "python\n",
            "is\n",
            "FUN!\n"
          ],
          "name": "stdout"
        }
      ]
    },
    {
      "cell_type": "code",
      "metadata": {
        "id": "3NQKjwWeNypv",
        "colab_type": "code",
        "outputId": "bd69906d-6617-422a-9d09-b9d9f7ff7d5b",
        "colab": {
          "base_uri": "https://localhost:8080/",
          "height": 140
        }
      },
      "source": [
        "for i in range(3):\n",
        "  print('python')\n",
        "  print('is')\n",
        "print('FUN!')"
      ],
      "execution_count": 0,
      "outputs": [
        {
          "output_type": "stream",
          "text": [
            "python\n",
            "is\n",
            "python\n",
            "is\n",
            "python\n",
            "is\n",
            "FUN!\n"
          ],
          "name": "stdout"
        }
      ]
    },
    {
      "cell_type": "code",
      "metadata": {
        "id": "4E7ye7iyN_tR",
        "colab_type": "code",
        "outputId": "56e5529f-9f98-485c-a9eb-8af9e52874fb",
        "colab": {
          "base_uri": "https://localhost:8080/",
          "height": 105
        }
      },
      "source": [
        "for i in range(3):\n",
        "  print('python')\n",
        "print('is')\n",
        "print('FUN!')"
      ],
      "execution_count": 0,
      "outputs": [
        {
          "output_type": "stream",
          "text": [
            "python\n",
            "python\n",
            "python\n",
            "is\n",
            "FUN!\n"
          ],
          "name": "stdout"
        }
      ]
    },
    {
      "cell_type": "markdown",
      "metadata": {
        "id": "FE-Br9SUOFzq",
        "colab_type": "text"
      },
      "source": [
        "## 3.17 맛나 식당의 메뉴 주문 프로그램을 개발하고자 한다. 이를 위하여 사용자에게 다음과 같 은 메뉴를 보여주고 이 중에서 하나를 선택하도록 하자. 이때 메뉴에 없는 숫자가 입력되면 ‘메뉴를 다시 입력하세요: ’가 출력되도록 한 후 다시 입력을 받도록 하자. "
      ]
    },
    {
      "cell_type": "code",
      "metadata": {
        "id": "hKQRlY7EOIW4",
        "colab_type": "code",
        "outputId": "761c4694-e3af-4016-a880-065a65ff9046",
        "colab": {
          "base_uri": "https://localhost:8080/",
          "height": 140
        }
      },
      "source": [
        "print('맛나 식당에 오신것을 환영합니다. 메뉴는 다음과 같습니다')\n",
        "print('1)햄버거\\n2)치킨\\n3)피자')\n",
        "menu = int(input('1에서 3까지의 메뉴를 선택하세요 : '))\n",
        "if menu > 3:\n",
        "  menu = int(input('메뉴를 다시 입력하세요 : '))\n",
        "  if menu == 1:\n",
        "    print('햄버거를 선택하였습니다.')\n",
        "  elif menu == 2:\n",
        "    print('치킨을 선택하였습니다.')\n",
        "  else:\n",
        "    print('피자를 선택하였습니다')"
      ],
      "execution_count": 0,
      "outputs": [
        {
          "output_type": "stream",
          "text": [
            "맛나 식당에 오신것을 환영합니다. 메뉴는 다음과 같습니다\n",
            "1)햄버거\n",
            "2)치킨\n",
            "3)피자\n",
            "1에서 3까지의 메뉴를 선택하세요 : 5\n",
            "메뉴를 다시 입력하세요 : 2\n",
            "치킨을 선택하였습니다.\n"
          ],
          "name": "stdout"
        }
      ]
    },
    {
      "cell_type": "markdown",
      "metadata": {
        "id": "QiL7owTbPQZO",
        "colab_type": "text"
      },
      "source": [
        "## 3.18 맛나 식당의 메뉴 주문 프로그램을 개발하고자 한다. 이를 위하여 사용자에게 다음과 같은 메뉴를 보여주고 이 중에서 하나를 선택하도록 하자. 이때 메뉴에 없는 알파벳이 입력되면 ‘메뉴를 다시 입력하세요: ’가 출력되도록 한 후 다시 입력을 받도록 하자. "
      ]
    },
    {
      "cell_type": "code",
      "metadata": {
        "id": "ZIjSdQV4PU5x",
        "colab_type": "code",
        "outputId": "df760618-b682-4397-b731-d8e1768924db",
        "colab": {
          "base_uri": "https://localhost:8080/",
          "height": 140
        }
      },
      "source": [
        "print('맛나 식당에 오신것을 환영합니다. 메뉴는 다음과 같습니다')\n",
        "print('-햄버거(입력b)')\n",
        "print('-치킨(입력c)')\n",
        "print('-피자(입력p)')\n",
        "menu = input('메뉴를 선택하세요(알파벳 b, c, p 입력) : ')\n",
        "if menu != 'b' and menu != 'c' and menu != 'p':\n",
        "  menu = input('메뉴를 다시 입력하세요(알파벳 b, c, p 입력) : ')\n",
        "  if menu == 'a':\n",
        "    print('햄버거를 선택하였습니다.')\n",
        "  elif menu == 'c':\n",
        "    print('치킨을 선택하였습니다.')\n",
        "  else:\n",
        "    print('피자를 선택하였습니다')"
      ],
      "execution_count": 0,
      "outputs": [
        {
          "output_type": "stream",
          "text": [
            "맛나 식당에 오신것을 환영합니다. 메뉴는 다음과 같습니다\n",
            "-햄버거(입력b)\n",
            "-치킨(입력c)\n",
            "-피자(입력p)\n",
            "메뉴를 선택하세요(알파벳 b, c, p 입력) : x\n",
            "메뉴를 다시 입력하세요(알파벳 b, c, p 입력) : c\n",
            "치킨을 선택하였습니다.\n"
          ],
          "name": "stdout"
        }
      ]
    },
    {
      "cell_type": "markdown",
      "metadata": {
        "id": "VoBN5LzyQRaQ",
        "colab_type": "text"
      },
      "source": [
        "## 3.19 이중 for문을 사용하여 숫자를 입력 받아 다음과 같은 삼각형을 출력하는 프로그램을 작성하시오. 이때 아래 결과와 같이 입력하는 숫자가 5가 입력되면 높이가 5이고 제일 마 지막 줄의 별이 5개가 나타나도록 하시오.\n"
      ]
    },
    {
      "cell_type": "code",
      "metadata": {
        "id": "84k2bdX2QU2B",
        "colab_type": "code",
        "outputId": "1d9d6fe5-9b9b-4a9c-a3d3-dcc8415df3d7",
        "colab": {
          "base_uri": "https://localhost:8080/",
          "height": 122
        }
      },
      "source": [
        "num = int(input('숫자를 입력하세요 : '))\n",
        "\n",
        "for i in range(1,num+1):     \n",
        "  print (' '*(num-i) + '*'*i)\n",
        " \n",
        "  "
      ],
      "execution_count": 0,
      "outputs": [
        {
          "output_type": "stream",
          "text": [
            "숫자를 입력하세요 : 5\n",
            "    *\n",
            "   **\n",
            "  ***\n",
            " ****\n",
            "*****\n"
          ],
          "name": "stdout"
        }
      ]
    },
    {
      "cell_type": "code",
      "metadata": {
        "id": "ZKTTGCbWVAwn",
        "colab_type": "code",
        "colab": {}
      },
      "source": [
        "num = int(input('숫자를 입력하세요 : '))fx dv"
      ],
      "execution_count": 0,
      "outputs": []
    },
    {
      "cell_type": "markdown",
      "metadata": {
        "id": "cBYflxA6QdXw",
        "colab_type": "text"
      },
      "source": [
        "## 3.20 소수란 양의 자연수 중에서 1과 자기 자신이외의 약수를 가지지 않는 수를 말한다. 사용 자로부터 양의 정수 n을 입력받은 후 이 숫자가 소수인지 아닌지를 판별하는 프로그램을 작 성하시오. "
      ]
    },
    {
      "cell_type": "code",
      "metadata": {
        "id": "nq5WqAD2Q_fw",
        "colab_type": "code",
        "outputId": "0275d753-669f-4868-e567-29c2575603e8",
        "colab": {
          "base_uri": "https://localhost:8080/",
          "height": 52
        }
      },
      "source": [
        "num = int(input('숫자를 입력하세요 : '))\n",
        "for i in range(2,num):\n",
        "  if num % i == 0:\n",
        "    print(num,'은 소수가 아닙니다')\n",
        "    break\n",
        "  elif num - i == 1:\n",
        "    print(num,'은 소수입니다')\n"
      ],
      "execution_count": 0,
      "outputs": [
        {
          "output_type": "stream",
          "text": [
            "숫자를 입력하세요 : 13\n",
            "13 은 소수입니다\n"
          ],
          "name": "stdout"
        }
      ]
    },
    {
      "cell_type": "markdown",
      "metadata": {
        "id": "1oQgkbSOQeV0",
        "colab_type": "text"
      },
      "source": [
        "## 3.21 1이 아닌 양의 자연수 중에서 소수가 아닌 수를 합성수라고 한다. 이전 문제에서 사용한 소수를 판별하는 알고리즘을 사용하여 2에서 12까지의 수 중에서 다음과 같이 소수와 합성수 를 출력하여라. "
      ]
    },
    {
      "cell_type": "code",
      "metadata": {
        "id": "x-OTKCsqY5ZR",
        "colab_type": "code",
        "outputId": "a84b42bd-26dc-4519-adb4-c7ab020976be",
        "colab": {
          "base_uri": "https://localhost:8080/",
          "height": 193
        }
      },
      "source": [
        "for i in range(2,12):\n",
        "  chk = True\n",
        "  for j in range(2,i):\n",
        "    if i % j == 0:\n",
        "      chk = False\n",
        "      break\n",
        "  if chk:\n",
        "    print('소수 :',i)\n",
        "  else:\n",
        "    print('합성수 :',i)\n",
        "      \n",
        " "
      ],
      "execution_count": 0,
      "outputs": [
        {
          "output_type": "stream",
          "text": [
            "소수 : 2\n",
            "소수 : 3\n",
            "합성수 : 4\n",
            "소수 : 5\n",
            "합성수 : 6\n",
            "소수 : 7\n",
            "합성수 : 8\n",
            "합성수 : 9\n",
            "합성수 : 10\n",
            "소수 : 11\n"
          ],
          "name": "stdout"
        }
      ]
    },
    {
      "cell_type": "markdown",
      "metadata": {
        "id": "T9GL0_9SQgbl",
        "colab_type": "text"
      },
      "source": [
        "## 3.22 사용자로부터 양의 정수 n을 입력받은 후 12+22+32+...+n2을 구하는 프로그램을 작성하 시오."
      ]
    },
    {
      "cell_type": "code",
      "metadata": {
        "id": "mKQd94dTcuA4",
        "colab_type": "code",
        "outputId": "f689c89c-a5be-4490-9764-03cc578b497f",
        "colab": {
          "base_uri": "https://localhost:8080/",
          "height": 52
        }
      },
      "source": [
        "sum = 0\n",
        "num = int(input('숫자를 입력하세요 :'))\n",
        "for i in range(1,num+1):\n",
        "  sum = sum + i**2\n",
        "print('결과는 {} 입니다'.format(sum))\n"
      ],
      "execution_count": 0,
      "outputs": [
        {
          "output_type": "stream",
          "text": [
            "숫자를 입력하세요 :5\n",
            "결과는 55 입니다\n"
          ],
          "name": "stdout"
        }
      ]
    },
    {
      "cell_type": "markdown",
      "metadata": {
        "id": "jfapP5ojQijp",
        "colab_type": "text"
      },
      "source": [
        "## 3.23 사용자로부터 양의 정수 n을 입력받은 후 (1/1)2+(1/2)2+(1/3)2+...+(1/n)2을 구하는 프로 그램을 작성하시오. "
      ]
    },
    {
      "cell_type": "code",
      "metadata": {
        "id": "i3ckhVPHeKWI",
        "colab_type": "code",
        "outputId": "7ed85e49-4562-4504-b753-3aeda3afcb73",
        "colab": {
          "base_uri": "https://localhost:8080/",
          "height": 52
        }
      },
      "source": [
        "sum = 0\n",
        "num = int(input('숫자를 입력하세요 : '))\n",
        "for i in range(1,num+1):\n",
        "  sum = sum + (1/i)**2\n",
        "print('결과는 {} 입니다'.format(sum))"
      ],
      "execution_count": 0,
      "outputs": [
        {
          "output_type": "stream",
          "text": [
            "숫자를 입력하세요 : 5\n",
            "결과는 1.4636111111111112 입니다\n"
          ],
          "name": "stdout"
        }
      ]
    }
  ]
}