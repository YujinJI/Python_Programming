{
  "nbformat": 4,
  "nbformat_minor": 0,
  "metadata": {
    "colab": {
      "name": "4장_연습문제.ipynb",
      "provenance": [],
      "collapsed_sections": [],
      "include_colab_link": true
    },
    "kernelspec": {
      "name": "python3",
      "display_name": "Python 3"
    }
  },
  "cells": [
    {
      "cell_type": "markdown",
      "metadata": {
        "id": "view-in-github",
        "colab_type": "text"
      },
      "source": [
        "<a href=\"https://colab.research.google.com/github/YujinJI/Python_Programming/blob/master/Ch04.ipynb\" target=\"_parent\"><img src=\"https://colab.research.google.com/assets/colab-badge.svg\" alt=\"Open In Colab\"/></a>"
      ]
    },
    {
      "cell_type": "markdown",
      "metadata": {
        "id": "9wBX4Tl-cPDF",
        "colab_type": "text"
      },
      "source": [
        "4.1"
      ]
    },
    {
      "cell_type": "code",
      "metadata": {
        "id": "pdm3ldC7cRvi",
        "colab_type": "code",
        "outputId": "96d632f6-00cf-4997-da11-fcbd4dbc7d2d",
        "colab": {
          "base_uri": "https://localhost:8080/",
          "height": 52
        }
      },
      "source": [
        "a, b, c = eval(input('a, b, c를 입력하세요 :'))\n",
        "r1 = ((-1 * b) + (b**2 - 4*a*c)**0.5) / 2*a\n",
        "r2 = ((-1 * b) - (b**2 - 4*a*c)**0.5) / 2*a\n",
        "pan = b**2 - (4*a*c)\n",
        "if pan > 0:\n",
        "  print('실근은 {0:}이고 {1:}입니다.'.format(r1,r2))\n",
        "if pan == 0:\n",
        "  print('실근은 {}입니다.'.format(r1))\n",
        "elif pan < 0:\n",
        "  print('이 방정식은 실근이 존재하지 않습니다.')"
      ],
      "execution_count": 0,
      "outputs": [
        {
          "output_type": "stream",
          "text": [
            "a, b, c를 입력하세요 :1.0,3,1\n",
            "실근은 -0.3819660112501051이고 -2.618033988749895입니다.\n"
          ],
          "name": "stdout"
        }
      ]
    },
    {
      "cell_type": "markdown",
      "metadata": {
        "id": "PakK7EUpcR7_",
        "colab_type": "text"
      },
      "source": [
        "4.2"
      ]
    },
    {
      "cell_type": "code",
      "metadata": {
        "id": "H8ePrmMScSpM",
        "colab_type": "code",
        "outputId": "492d294d-0464-42e8-841d-bbb3d3ee38a8",
        "colab": {
          "base_uri": "https://localhost:8080/",
          "height": 52
        }
      },
      "source": [
        "import random\n",
        "\n",
        "num1 = random.randint(0,9)\n",
        "num2 = random.randint(0,9)\n",
        "num3 = random.randint(0,9)\n",
        "\n",
        "answer = int(input('{0:}+{1:}+{2:}은 얼마입니까? :'.format(num1,num2,num3)))\n",
        "print('{0:}+{1:}+{2:}={3:}'.format(num1,num2,num3,answer))"
      ],
      "execution_count": 0,
      "outputs": [
        {
          "output_type": "stream",
          "text": [
            "0+1+8은 얼마입니까? :9\n",
            "0+1+8=9\n"
          ],
          "name": "stdout"
        }
      ]
    },
    {
      "cell_type": "markdown",
      "metadata": {
        "id": "eEh_xFuhcSv8",
        "colab_type": "text"
      },
      "source": [
        "4.3"
      ]
    },
    {
      "cell_type": "code",
      "metadata": {
        "id": "TiZlDkzacTau",
        "colab_type": "code",
        "outputId": "c9813597-07a0-45c1-86cc-c9004287edd0",
        "colab": {
          "base_uri": "https://localhost:8080/",
          "height": 134
        }
      },
      "source": [
        "a,b,c,d,e,f = eval(input('a,b,c,d,e,f 값을 입력하세요 :'))\n",
        "(a*x) + (b*y) = e\n",
        "(c*x) + (d*y) = f\n",
        "x = ((e*d) - (b*f)) / ((a*x) - (b*c))\n",
        "y = ((a*f) - (e*c)) / ((a*d) - (b*c))\n",
        "\n",
        "if (a*d) - (b*c) == 0:\n",
        "  print('이 방정식은 해가 없습니다.')\n",
        "else:\n",
        "  print('x는{0:}이고, y는{1:}입니다.'.format(x,y))"
      ],
      "execution_count": 0,
      "outputs": [
        {
          "output_type": "error",
          "ename": "SyntaxError",
          "evalue": "ignored",
          "traceback": [
            "\u001b[0;36m  File \u001b[0;32m\"<ipython-input-4-c696c27e1f84>\"\u001b[0;36m, line \u001b[0;32m2\u001b[0m\n\u001b[0;31m    (a*x) + (b*y) = e\u001b[0m\n\u001b[0m                     ^\u001b[0m\n\u001b[0;31mSyntaxError\u001b[0m\u001b[0;31m:\u001b[0m can't assign to operator\n"
          ]
        }
      ]
    },
    {
      "cell_type": "markdown",
      "metadata": {
        "id": "wnz7g8xtcThK",
        "colab_type": "text"
      },
      "source": [
        "4.4"
      ]
    },
    {
      "cell_type": "code",
      "metadata": {
        "id": "3Y0lYivrcUMC",
        "colab_type": "code",
        "outputId": "5f4949e9-bfc5-4bba-a63d-2a3e0cfbb8c6",
        "colab": {
          "base_uri": "https://localhost:8080/",
          "height": 52
        }
      },
      "source": [
        "import random\n",
        "\n",
        "num1 = random.randint(0,9)\n",
        "num2 = random.randint(0,9)\n",
        "num3 = random.randint(0,9)\n",
        "\n",
        "answer = int(input('{0:}+{1:}+{2:}은 얼마입니까? :'.format(num1,num2,num3)))\n",
        "print('{0:}+{1:}+{2:}={3:}은'.format(num1,num2,num3,answer),num1 + num2 + num3 == answer)"
      ],
      "execution_count": 0,
      "outputs": [
        {
          "output_type": "stream",
          "text": [
            "2+3+5은 얼마입니까? :10\n",
            "2+3+5=10은 True\n"
          ],
          "name": "stdout"
        }
      ]
    },
    {
      "cell_type": "markdown",
      "metadata": {
        "id": "vS-xP5h8cUS2",
        "colab_type": "text"
      },
      "source": [
        "4.5"
      ]
    },
    {
      "cell_type": "code",
      "metadata": {
        "id": "pYuvnO6XcU8f",
        "colab_type": "code",
        "outputId": "15631f7a-14d5-4aa5-e7cc-d6692ce5030e",
        "colab": {
          "base_uri": "https://localhost:8080/",
          "height": 87
        }
      },
      "source": [
        "day = int(input('오늘의 날짜를 입력하세요 :'))\n",
        "plus = int(input('오늘부터 경과한 일수를 입력하세요 :'))\n",
        "day_total = day + plus\n",
        "if day % 7 == 1:\n",
        "  print('오늘은 월요일 이고')\n",
        "elif day % 7 == 2:\n",
        "  print('오늘은 화요일 이고')\n",
        "elif day % 7 == 3:\n",
        "  print('오늘은 수요일 이고')\n",
        "elif day % 7 == 4:\n",
        "  print('오늘은 목요일 이고')\n",
        "elif day % 7 == 5:\n",
        "  print('오늘은 금요일 이고')\n",
        "elif day % 7 == 6:\n",
        "  print('오늘은 토요일 이고')\n",
        "elif day % 7 == 0:\n",
        "  print('오늘은 일요일 이고')\n",
        "if day_total % 7 == 1:\n",
        "  print('미래의 요일은 월요일 입니다.')\n",
        "elif day_total % 7 == 2:\n",
        "  print('미래의 요일은 화요일 입니다.')\n",
        "elif day_total % 7 == 3:\n",
        "  print('미래의 요일은 수요일 입니다.')\n",
        "elif day_total % 7 == 4:\n",
        "  print('미래의 요일은 목요일 입니다.')\n",
        "elif day_total % 7 == 5:\n",
        "  print('미래의 요일은 금요일 입니다.')\n",
        "elif day_total % 7 == 6:\n",
        "  print('미래의 요일은 토요일 입니다.')\n",
        "elif day_total % 7 == 0:\n",
        "  print('미래의 요일은 일요일 입니다.')"
      ],
      "execution_count": 0,
      "outputs": [
        {
          "output_type": "stream",
          "text": [
            "오늘의 날짜를 입력하세요 :1\n",
            "오늘부터 경과한 일수를 입력하세요 :3\n",
            "오늘은 월요일 이고\n",
            "미래의 요일은 목요일 입니다.\n"
          ],
          "name": "stdout"
        }
      ]
    },
    {
      "cell_type": "markdown",
      "metadata": {
        "id": "KbQa3Kp1cVDc",
        "colab_type": "text"
      },
      "source": [
        "4.6"
      ]
    },
    {
      "cell_type": "code",
      "metadata": {
        "id": "cA-Y4j76cVuO",
        "colab_type": "code",
        "outputId": "b5933ff5-f082-40af-aa38-8e856af556ff",
        "colab": {
          "base_uri": "https://localhost:8080/",
          "height": 105
        }
      },
      "source": [
        "weight = int(input('몸무게(파운드)를 입력하세요 :'))\n",
        "height_inch = int(input('키(인치)를 입력하세요 :'))\n",
        "height_fit = int(input('키(피트)를 입력하세요 :'))\n",
        "kilograms_per_pound = 0.45359237\n",
        "meters_per_inch = 0.0254\n",
        "height = height_inch + (height_fit * 12)\n",
        "wightInKilograms = weight * kilograms_per_pound\n",
        "heightInMeters = height * meters_per_inch\n",
        "bmi = wightInKilograms / (heightInMeters * heightInMeters)\n",
        "print('bmi는 {}입니다'.format(bmi))\n",
        "if bmi < 18.5:\n",
        "  print('당신은 저체중 입니다')\n",
        "elif bmi < 25:\n",
        "  print('당신은 정상 입니다')\n",
        "elif bmi < 30:\n",
        "  print('당신은 과체중 입니다')\n",
        "else:\n",
        "  print('당신은 비만 입니다')"
      ],
      "execution_count": 0,
      "outputs": [
        {
          "output_type": "stream",
          "text": [
            "몸무게(파운드)를 입력하세요 :140\n",
            "키(인치)를 입력하세요 :10\n",
            "키(피트)를 입력하세요 :5\n",
            "bmi는 20.087702275404553입니다\n",
            "당신은 정상 입니다\n"
          ],
          "name": "stdout"
        }
      ]
    },
    {
      "cell_type": "markdown",
      "metadata": {
        "id": "I90Od2hNxh6l",
        "colab_type": "text"
      },
      "source": [
        "4.7"
      ]
    },
    {
      "cell_type": "code",
      "metadata": {
        "id": "UwXJOZFsyE0N",
        "colab_type": "code",
        "outputId": "5fbd32a9-27bb-4787-f21a-7ebd7d2e62cb",
        "colab": {
          "base_uri": "https://localhost:8080/",
          "height": 52
        }
      },
      "source": [
        "num1, num2, num3 = input('세 정수를 입력하세요 :')\n",
        "\n",
        "list = []\n",
        "list.append(num1)\n",
        "list.append(num2)\n",
        "list.append(num3)\n",
        "list.sort()\n",
        "print(list)\n"
      ],
      "execution_count": 0,
      "outputs": [
        {
          "output_type": "stream",
          "text": [
            "세 정수를 입력하세요 :2,1,4\n",
            "['1', '2', '4']\n"
          ],
          "name": "stdout"
        }
      ]
    },
    {
      "cell_type": "markdown",
      "metadata": {
        "id": "UEFopSq8VcC3",
        "colab_type": "text"
      },
      "source": [
        "4.8"
      ]
    },
    {
      "cell_type": "code",
      "metadata": {
        "id": "eX0UJvL3Vc4N",
        "colab_type": "code",
        "outputId": "bc347ece-99a6-4af2-c0f3-1d29dcb7a91d",
        "colab": {
          "base_uri": "https://localhost:8080/",
          "height": 70
        }
      },
      "source": [
        "podae1 = input('포대 1의 무게와 가격을 입력하세요:'.split(','))\n",
        "podae2=input('포대 2의 무게와 가격을 입력하세요:'.split(','))\n",
        "\n",
        "if float(podae1[0:2])/float(podae1[4:])<float(podae2[0:2])/float(podae2[4:]):\n",
        "    print('포대 2의 가격이 더 낫습니다.')\n",
        "elif float(podae1[0:2])/float(podae1[4:])>float(podae2[0:2])/float(podae2[4:]):\n",
        "    print('포대 1의 가격이 더 낫습니다.')\n",
        "else:\n",
        "    print('같네요.')"
      ],
      "execution_count": 0,
      "outputs": [
        {
          "output_type": "stream",
          "text": [
            "['포대 1의 무게와 가격을 입력하세요:']50,24.59\n",
            "['포대 2의 무게와 가격을 입력하세요:']25,11.99\n",
            "포대 2의 가격이 더 낫습니다.\n"
          ],
          "name": "stdout"
        }
      ]
    },
    {
      "cell_type": "markdown",
      "metadata": {
        "id": "4QhqD-iZVdNV",
        "colab_type": "text"
      },
      "source": [
        "4.9"
      ]
    },
    {
      "cell_type": "code",
      "metadata": {
        "id": "2dhlvEzzVeBf",
        "colab_type": "code",
        "outputId": "e9e350af-a509-4c43-8aa4-8e7df68b67c1",
        "colab": {
          "base_uri": "https://localhost:8080/",
          "height": 52
        }
      },
      "source": [
        "import random\n",
        "num1 = random.randint(0,100)\n",
        "num2 = random.randint(0,100)\n",
        "\n",
        "answer = int(input('{} * {} = :'.format(num1,num2)))\n",
        "print('{} * {} = {}'.format(num1,num2,answer),num1*num2==answer)"
      ],
      "execution_count": 0,
      "outputs": [
        {
          "output_type": "stream",
          "text": [
            "29 * 92 = :12\n",
            "29 * 92 = 12 False\n"
          ],
          "name": "stdout"
        }
      ]
    },
    {
      "cell_type": "markdown",
      "metadata": {
        "id": "An-jdRmxZXsz",
        "colab_type": "text"
      },
      "source": [
        "4.10"
      ]
    },
    {
      "cell_type": "code",
      "metadata": {
        "id": "VOTJm9V2ZYju",
        "colab_type": "code",
        "outputId": "2fb8ceca-beed-4362-e09a-0d3b2d9c07dd",
        "colab": {
          "base_uri": "https://localhost:8080/",
          "height": 70
        }
      },
      "source": [
        "year = int(input('년도를 입력하세요 :'))\n",
        "month = int(input('달을 입력하세요 :'))\n",
        "if (year % 400 == 0) or (year % 4 == 0 and year % 100 != 0) and (month == 2):\n",
        "  print('{}년도 {}월은 29일까지 있습니다'.format(year,month))\n",
        "\n",
        "elif month == 1:\n",
        "  print('{}년도의 {}월은 31일까지 있습니다'.format(year,month))\n",
        "elif month == 2:\n",
        "  print('{}년도의 {}월은 28일까지 있습니다'.format(year,month))\n",
        "elif month == 3:\n",
        "  print('{}년도의 {}월은 31일까지 있습니다'.format(year,month))\n",
        "elif month == 4:\n",
        "  print('{}년도의 {}월은 30일까지 있습니다'.format(year,month))\n",
        "elif month == 5:\n",
        "  print('{}년도의 {}월은 31일까지 있습니다'.format(year,month))\n",
        "elif month == 6:\n",
        "  print('{}년도의 {}월은 30일까지 있습니다'.format(year,month))\n",
        "elif month == 7:\n",
        "  print('{}년도의 {}월은 31일까지 있습니다'.format(year,month))\n",
        "elif month == 8:\n",
        "  print('{}년도의 {}월은 31일까지 있습니다'.format(year,month))\n",
        "elif month == 9:\n",
        "  print('{}년도의 {}월은 30일까지 있습니다'.format(year,month))\n",
        "elif month == 10:\n",
        "  print('{}년도의 {}월은 31일까지 있습니다'.format(year,month))\n",
        "elif month == 11:\n",
        "  print('{}년도의 {}월은 30일까지 있습니다'.format(year,month))\n",
        "elif month == 12:\n",
        "  print('{}년도의 {}월은 31일까지 있습니다'.format(year,month))"
      ],
      "execution_count": 0,
      "outputs": [
        {
          "output_type": "stream",
          "text": [
            "년도를 입력하세요 :2018\n",
            "달을 입력하세요 :2\n",
            "2018년도의 2월은 28일까지 있습니다\n"
          ],
          "name": "stdout"
        }
      ]
    },
    {
      "cell_type": "markdown",
      "metadata": {
        "id": "NqHDMqljk-Xu",
        "colab_type": "text"
      },
      "source": [
        "4.11"
      ]
    },
    {
      "cell_type": "code",
      "metadata": {
        "id": "tRBsecp4k_bK",
        "colab_type": "code",
        "outputId": "05ffafbc-46ff-4dbb-9907-0bfdf404115f",
        "colab": {
          "base_uri": "https://localhost:8080/",
          "height": 87
        }
      },
      "source": [
        "num = int(input('하나의 정수를 입력하세요 :'))\n",
        "print(num,'은/는 5와 6으로 나누어집니까?',num % 6 == 0 and num % 5 == 0)\n",
        "print(num,'은/는 5혹은 6으로 나누어집니까?',num % 6 == 0 or num % 5 == 0)\n",
        "print(num,'은/는 5와 6으로 나누어지지만, 둘 모두로는 나누어지지 않습니까?',num % 6 == 0 or num % 5 == 0)"
      ],
      "execution_count": 0,
      "outputs": [
        {
          "output_type": "stream",
          "text": [
            "하나의 정수를 입력하세요 :10\n",
            "10 은/는 5와 6으로 나누어집니까? False\n",
            "10 은/는 5혹은 6으로 나누어집니까? True\n",
            "10 은/는 5와 6으로 나누어지지만, 둘 모두로는 나누어지지 않습니까? True\n"
          ],
          "name": "stdout"
        }
      ]
    },
    {
      "cell_type": "markdown",
      "metadata": {
        "id": "afu-xYIipJ5Q",
        "colab_type": "text"
      },
      "source": [
        "4.13"
      ]
    },
    {
      "cell_type": "code",
      "metadata": {
        "id": "mfML_JIBpLDG",
        "colab_type": "code",
        "outputId": "a0a5ce8e-f37b-418f-ae8f-9d5a3b6c8dd6",
        "colab": {
          "base_uri": "https://localhost:8080/",
          "height": 52
        }
      },
      "source": [
        "import random\n",
        "a = random.randint(0,1)\n",
        "num = int(input('동전의 앞면과 뒷면에 대한 추측 값을 입력하세요 :'))\n",
        "if a == num:\n",
        "  print('맞았습니다')\n",
        "else:\n",
        "  print('틀렸습니다')"
      ],
      "execution_count": 0,
      "outputs": [
        {
          "output_type": "stream",
          "text": [
            "동전의 앞면과 뒷면에 대한 추측 값을 입력하세요 :0\n",
            "맞았습니다\n"
          ],
          "name": "stdout"
        }
      ]
    },
    {
      "cell_type": "markdown",
      "metadata": {
        "id": "qCM-3RnZtTJg",
        "colab_type": "text"
      },
      "source": [
        "4.15"
      ]
    },
    {
      "cell_type": "code",
      "metadata": {
        "id": "oEgSOjZ7tULO",
        "colab_type": "code",
        "outputId": "de9ae96b-d607-498e-9d3b-a4fb3de81014",
        "colab": {
          "base_uri": "https://localhost:8080/",
          "height": 34
        }
      },
      "source": [
        "import random\n",
        "x = random.randint(65,91)\n",
        "print(chr(x))\n"
      ],
      "execution_count": 0,
      "outputs": [
        {
          "output_type": "stream",
          "text": [
            "V\n"
          ],
          "name": "stdout"
        }
      ]
    },
    {
      "cell_type": "markdown",
      "metadata": {
        "id": "0NFbNJbDuJsw",
        "colab_type": "text"
      },
      "source": [
        "4.16"
      ]
    },
    {
      "cell_type": "code",
      "metadata": {
        "id": "_mu5sq8XuKsT",
        "colab_type": "code",
        "outputId": "1d82d639-8b38-4104-e00b-e0167b0f3131",
        "colab": {
          "base_uri": "https://localhost:8080/",
          "height": 52
        }
      },
      "source": [
        "import random\n",
        "num = random.randint(0,2)\n",
        "a = int(input('가위(0), 바위(1), 보(2): '))\n",
        "if num == a:\n",
        "  print('컴퓨터는 {}입니다. 당신은 {}입니다. 비겼습니다.'.format(num,a))\n",
        "elif num == 0 and  a == 1 :\n",
        "  print('컴퓨터는 {}입니다. 당신은 {}입니다. 당신이 이겼습니다.'.format(num,a))\n",
        "elif num == 0 and  a == 2 :\n",
        "  print('컴퓨터는 {}입니다. 당신은 {}입니다. 컴퓨터가 이겼습니다.'.format(num,a))\n",
        "elif num == 1 and  a == 0 :\n",
        "  print('컴퓨터는 {}입니다. 당신은 {}입니다. 컴퓨터가 이겼습니다.'.format(num,a))\n",
        "elif num == 1 and  a == 2 :\n",
        "  print('컴퓨터는 {}입니다. 당신은 {}입니다. 당신이 이겼습니다.'.format(num,a))\n",
        "elif num == 2 and  a == 1 :\n",
        "  print('컴퓨터는 {}입니다. 당신은 {}입니다. 컴퓨터가 이겼습니다.'.format(num,a))\n",
        "elif num == 2 and  a == 0 :\n",
        "  print('컴퓨터는 {}입니다. 당신은 {}입니다. 당신이 이겼습니다.'.format(num,a))\n",
        "\n"
      ],
      "execution_count": 0,
      "outputs": [
        {
          "output_type": "stream",
          "text": [
            "가위(0), 바위(1), 보(2): 2\n",
            "컴퓨터는 2입니다. 당신은 2입니다. 비겼습니다.\n"
          ],
          "name": "stdout"
        }
      ]
    },
    {
      "cell_type": "markdown",
      "metadata": {
        "id": "xDc4cqiHnYW0",
        "colab_type": "text"
      },
      "source": [
        "4.17"
      ]
    },
    {
      "cell_type": "code",
      "metadata": {
        "id": "jCvARQzhnaM2",
        "colab_type": "code",
        "outputId": "87b9fd40-bb9d-4fe1-a907-7185fe47aec0",
        "colab": {
          "base_uri": "https://localhost:8080/",
          "height": 87
        }
      },
      "source": [
        "change = float(input('원화 대 위엔화 환전율을 입력하세요 :'))\n",
        "pick = int(input('원화를 위안화로는 0, 위안화를 원화로는 1을 입력하세요 :'))\n",
        "if pick == 0:\n",
        "  money = int(input('원화 금액을 입력하세요 :'))\n",
        "  CNY = money / change\n",
        "  print('{}원은 {}위안 입니다'.format(money,CNY))\n",
        "elif pick == 1:\n",
        "  money1 = int(input('위안화 금액을 입력하세요 :'))\n",
        "  KRW = money1 * change\n",
        "  print('{}위안은 {}원 입니다.'.format(money1,KRW))"
      ],
      "execution_count": 0,
      "outputs": [
        {
          "output_type": "stream",
          "text": [
            "원화 대 위엔화 환전율을 입력하세요 :170.73\n",
            "원화를 위안화로는 0, 위안화를 원화로는 1을 입력하세요 :1\n",
            "위안화 금액을 입력하세요 :100\n",
            "100위안은 17073.0원 입니다.\n"
          ],
          "name": "stdout"
        }
      ]
    },
    {
      "cell_type": "markdown",
      "metadata": {
        "id": "7MYtRDH6rB6B",
        "colab_type": "text"
      },
      "source": [
        "4.18"
      ]
    },
    {
      "cell_type": "code",
      "metadata": {
        "id": "zRKWTAHhrEeu",
        "colab_type": "code",
        "outputId": "48fd67f4-8550-4289-b8dd-274eac01f513",
        "colab": {
          "base_uri": "https://localhost:8080/",
          "height": 52
        }
      },
      "source": [
        "s1, s2, s3 = input('세 변을 입력하세요 :').split(',')\n",
        "s1 = int(s1)\n",
        "s2 = int(s2)\n",
        "s3 = int(s3)\n",
        "if (s1 + s2) > s3:\n",
        "  s = s1 + s2 + s3\n",
        "  print('둘레는 {}입니다.'.format(s))\n",
        "elif (s1 + s2) < s3:\n",
        "  print('입력이 잘못되었습니다.')"
      ],
      "execution_count": 0,
      "outputs": [
        {
          "output_type": "stream",
          "text": [
            "세 변을 입력하세요 :1,1,1\n",
            "둘레는 3입니다.\n"
          ],
          "name": "stdout"
        }
      ]
    },
    {
      "cell_type": "markdown",
      "metadata": {
        "id": "wWwxcPh9QlT0",
        "colab_type": "text"
      },
      "source": [
        "4.19"
      ]
    },
    {
      "cell_type": "code",
      "metadata": {
        "id": "OrwAclX2QmTL",
        "colab_type": "code",
        "outputId": "ce22fad8-fab9-4aee-d126-4089a1bbc990",
        "colab": {
          "base_uri": "https://localhost:8080/",
          "height": 70
        }
      },
      "source": [
        "fah = float(input('온도를 입력하세요 :'))\n",
        "mph = float(input('풍속을 입력하세요 :'))\n",
        "if fah > 50 or fah < -41:\n",
        "  print('부적절합니다')\n",
        "elif mph < 2:\n",
        "  print('부적절합니다')\n",
        "else:\n",
        "  print('적절합니다')"
      ],
      "execution_count": 0,
      "outputs": [
        {
          "output_type": "stream",
          "text": [
            "온도를 입력하세요 :25\n",
            "풍속을 입력하세요 :17\n",
            "적절합니다\n"
          ],
          "name": "stdout"
        }
      ]
    },
    {
      "cell_type": "markdown",
      "metadata": {
        "id": "Ebs2R6wiY8KT",
        "colab_type": "text"
      },
      "source": [
        "4.21"
      ]
    },
    {
      "cell_type": "code",
      "metadata": {
        "id": "mDW4bHHtY9Ey",
        "colab_type": "code",
        "outputId": "b6f29a79-0d2b-4d97-aaa5-64a2ec0b001a",
        "colab": {
          "base_uri": "https://localhost:8080/",
          "height": 52
        }
      },
      "source": [
        "x, y = input('점의 두 좌표값를 입력하세요 :').split(',')\n",
        "x = int(x)\n",
        "y = int(y)\n",
        "d = (x**2 + y**2)**0.5\n",
        "if d < 10:\n",
        "  print('점 {},{}은 원의 내부에 있습니다'.format(x,y))\n",
        "else:\n",
        "  print('점 {},{}은 원의 외부에 있습니다'.format(x,y))"
      ],
      "execution_count": 0,
      "outputs": [
        {
          "output_type": "stream",
          "text": [
            "x,y 좌표를 입력하세요 :4,5\n",
            "점 4,5은 원의 내부에 있습니다\n"
          ],
          "name": "stdout"
        }
      ]
    },
    {
      "cell_type": "markdown",
      "metadata": {
        "id": "pAAqlrWUdNT6",
        "colab_type": "text"
      },
      "source": [
        "4.22"
      ]
    },
    {
      "cell_type": "code",
      "metadata": {
        "id": "DGX_qME9dOD9",
        "colab_type": "code",
        "outputId": "18ddee6b-39e0-43ad-ff4a-30a5bab66175",
        "colab": {
          "base_uri": "https://localhost:8080/",
          "height": 52
        }
      },
      "source": [
        "x,y = input('점의 두 좌표값를 입력하세요 :').split(',')\n",
        "x = int(x)\n",
        "y = int(y)\n",
        "if x < 5 and x > -5 and y < 5 and y > -5:\n",
        "  print('점 {},{}은 사각형 내부에 있습니다'.format(x,y))\n",
        "else:\n",
        "  print('점 {},{}은 사각형 외부에 있습니다'.format(x,y))"
      ],
      "execution_count": 0,
      "outputs": [
        {
          "output_type": "stream",
          "text": [
            "점의 두 좌표값를 입력하세요 :2,2\n",
            "점 2,2은 사각형 내부에 있습니다\n"
          ],
          "name": "stdout"
        }
      ]
    },
    {
      "cell_type": "markdown",
      "metadata": {
        "id": "LNcNbAdBpTQJ",
        "colab_type": "text"
      },
      "source": [
        "4.23"
      ]
    },
    {
      "cell_type": "code",
      "metadata": {
        "id": "HAlpL6kHpUFJ",
        "colab_type": "code",
        "outputId": "a1565a41-d76c-4b9d-a30d-2a3233a2392a",
        "colab": {
          "base_uri": "https://localhost:8080/",
          "height": 34
        }
      },
      "source": [
        "import random\n",
        "list = ['클로버','다이아','하트','스페이드']\n",
        "list1 = ['A','2','3','4','5','6','7','8','9','10','J','Q','K']\n",
        "num = random.randint(0,52)\n",
        "shape = list[int(num/13)]\n",
        "card = list1[num%13]\n",
        "print('당신이 뽑은 카드는 {} {}입니다.'.format(shape,card))\n"
      ],
      "execution_count": 0,
      "outputs": [
        {
          "output_type": "stream",
          "text": [
            "당신이 뽑은 카드는 스페이드 3입니다.\n"
          ],
          "name": "stdout"
        }
      ]
    },
    {
      "cell_type": "markdown",
      "metadata": {
        "id": "-d5PrhfWIvOM",
        "colab_type": "text"
      },
      "source": [
        "4.24"
      ]
    },
    {
      "cell_type": "code",
      "metadata": {
        "id": "fJMwyiwGPm2m",
        "colab_type": "code",
        "outputId": "76b446f0-1b51-483f-f7e8-e0917bd078aa",
        "colab": {
          "base_uri": "https://localhost:8080/",
          "height": 52
        }
      },
      "source": [
        "x1,y1,x2,y2,x3,y3,x4,y4 = eval(input('x1,y1,x2,y2,x3,y3,x4,y4를 입력하세요 :'))\n",
        "answer1 = (y1 - y2) * x1 - (x1 - x2) * y1\n",
        "answer2 = (y3 - y4) * x3 - (x3 - x4) * y3\n",
        "y = (answer2 - (y3 - y4) * answer1 / (y1 - y2)) / ((x1 - x2) * (y3 - y4) / (y1 - y2) - (x3 - x4))\n",
        "x = (answer1 + (x1 - x2) * y) / (y1 - y2)\n",
        "print('교점은 ({},{})입니다.'.format(x,y))"
      ],
      "execution_count": 0,
      "outputs": [
        {
          "output_type": "stream",
          "text": [
            "x1,y1,x2,y2,x3,y3,x4,y4를 입력하세요 :2,2,5,-1,4,2,-1,-2\n",
            "교점은 (2.888888888888889,1.1111111111111112)입니다.\n"
          ],
          "name": "stdout"
        }
      ]
    },
    {
      "cell_type": "markdown",
      "metadata": {
        "id": "QQCt_FHgi6_Z",
        "colab_type": "text"
      },
      "source": [
        "4.25"
      ]
    },
    {
      "cell_type": "code",
      "metadata": {
        "id": "_v7sPAFnjGcL",
        "colab_type": "code",
        "colab": {}
      },
      "source": [
        "num = input('숫자를 입력하세요 :')\n",
        "a = 0\n",
        "for i in range(len(num)):\n",
        "  if num[i] != num[]:\n",
        "    print('대칭수가 아닙니다')\n",
        "    "
      ],
      "execution_count": 0,
      "outputs": []
    },
    {
      "cell_type": "markdown",
      "metadata": {
        "id": "B5gUOfXzjx8c",
        "colab_type": "text"
      },
      "source": [
        "4.26"
      ]
    },
    {
      "cell_type": "code",
      "metadata": {
        "id": "_o6f4mdpjzWq",
        "colab_type": "code",
        "outputId": "efc46302-385c-4898-939f-44f76f2aa725",
        "colab": {
          "base_uri": "https://localhost:8080/",
          "height": 52
        }
      },
      "source": [
        "x, y = input('점의 x와 y의 좌표값을 입력하세요 :').split(',')\n",
        "x = float(x)\n",
        "y = float(y)\n",
        "if x < 0 or x > 200:\n",
        "  print('점은 삼각형의 내부에 있습니다')\n",
        "elif y > 100 or y < 0:\n",
        "  print('점은 삼각형의 외부에 있습니다')\n",
        "elif y < x*0.5:\n",
        "  print('점은 삼각형의 내부에 있습니다')\n",
        "else:\n",
        "  print('점은 삼각형의 외부에 있습니다')\n"
      ],
      "execution_count": 0,
      "outputs": [
        {
          "output_type": "stream",
          "text": [
            "점의 x와 y의 좌표값을 입력하세요 :100.5,25.5\n",
            "점은 삼각형의 내부에 있습니다\n"
          ],
          "name": "stdout"
        }
      ]
    },
    {
      "cell_type": "markdown",
      "metadata": {
        "id": "e4rBCfT29Sz8",
        "colab_type": "text"
      },
      "source": [
        "4.29"
      ]
    },
    {
      "cell_type": "code",
      "metadata": {
        "id": "kiYICtgj9TxE",
        "colab_type": "code",
        "outputId": "cf9e07d5-5db3-4d54-d25a-625fdc7afd23",
        "colab": {
          "base_uri": "https://localhost:8080/",
          "height": 52
        }
      },
      "source": [
        "import time\n",
        "currentTime = int(time.time())\n",
        "currentHour = (currentTime // 60 // 60) % 24\n",
        "currentminute = (currentTime // 60) % 60\n",
        "\n",
        "GMT = int(input('GMT와 시간대 차이를 입력하세요 :'))\n",
        "print('현재 시간은 {}:{} 입니다'.format(currentHour+GMT%12,currentminute))"
      ],
      "execution_count": 0,
      "outputs": [
        {
          "output_type": "stream",
          "text": [
            "GMT와 시간대 차이를 입력하세요 :-5\n",
            "현재 시간은 23:2 입니다\n"
          ],
          "name": "stdout"
        }
      ]
    },
    {
      "cell_type": "markdown",
      "metadata": {
        "id": "UU0pIkCt-JVV",
        "colab_type": "text"
      },
      "source": [
        "4.31"
      ]
    },
    {
      "cell_type": "code",
      "metadata": {
        "id": "1Oe6a8bp-KnA",
        "colab_type": "code",
        "outputId": "f4a2d62e-5f61-43e6-ce4a-3b532eb97e28",
        "colab": {
          "base_uri": "https://localhost:8080/",
          "height": 52
        }
      },
      "source": [
        "x1,y1,x2,y2,x3,y3 = eval(input('세 점 p0,p1,p2에 대한 좌표값을 입력하세요 :'))\n",
        "a = (x2-x1) * (y3-y1) - (x3-x1) * (y2-y1)\n",
        "\n",
        "if a == 0:\n",
        "  print('({},{})는 ({},{})부터 ({},{})까지 잇는 선분 위에 있습니다.'.format(x3,y3,x1,y1,x2,y2))\n",
        "else:\n",
        "  print('({},{})는 ({},{})부터 ({},{})까지 잇는 선분 위에 있지 않습니다.'.format(x3,y3,x1,y1,x2,y2))\n"
      ],
      "execution_count": 0,
      "outputs": [
        {
          "output_type": "stream",
          "text": [
            "세 점 p0,p1,p2에 대한 좌표값을 입력하세요 :1,1,2.5,2.5,1.5,1.5\n",
            "(1.5,1.5)는 (1,1)부터 (2.5,2.5)까지 잇는 선분 위에 있습니다.\n"
          ],
          "name": "stdout"
        }
      ]
    },
    {
      "cell_type": "markdown",
      "metadata": {
        "id": "qjEIVLOEA1PK",
        "colab_type": "text"
      },
      "source": [
        "4.30"
      ]
    },
    {
      "cell_type": "code",
      "metadata": {
        "id": "21BZ-MB2A5ck",
        "colab_type": "code",
        "outputId": "675d4fee-5ccd-4115-8a26-9e0614ff09e7",
        "colab": {
          "base_uri": "https://localhost:8080/",
          "height": 52
        }
      },
      "source": [
        "x1,y1,x2,y2,x3,y3 = eval(input('세 점 p0,p1,p2에 대한 좌표값을 입력하세요 :'))\n",
        "a = (x2-x1) * (y3-y1) - (x3-x1) * (y2-y1)\n",
        "\n",
        "if a > 0:\n",
        "  print('p2는 p0에서 p1까지의 직선 왼쪽에 있습니다')\n",
        "elif a == 0:\n",
        "  print('p2는 p0에서 p1까지의 직선 위에 있습니다')\n",
        "else:\n",
        "  print('p2는 p0에서 p1까지의 직선 오른쪽에 있습니다')"
      ],
      "execution_count": 0,
      "outputs": [
        {
          "output_type": "stream",
          "text": [
            "세 점 p0,p1,p2에 대한 좌표값을 입력하세요 :3.4,2,6.5,9.5,-5,4\n",
            "p2는 p0에서 p1까지의 직선 왼쪽에 있습니다\n"
          ],
          "name": "stdout"
        }
      ]
    },
    {
      "cell_type": "markdown",
      "metadata": {
        "id": "XEmPGAkyBQdp",
        "colab_type": "text"
      },
      "source": [
        "4.33"
      ]
    },
    {
      "cell_type": "code",
      "metadata": {
        "id": "LalqXufuBRZS",
        "colab_type": "code",
        "outputId": "0b8a9559-2b49-4d7e-ce5a-6f3941dbbc33",
        "colab": {
          "base_uri": "https://localhost:8080/",
          "height": 52
        }
      },
      "source": [
        "num = int(input('10진수 값을 입력하세요(0~15) :'))\n",
        "num1 = hex(num) #10진수를 16진수 문자열로 변환\n",
        "num2 = int('{}'.format(num1),16) #16진수 문자열을 정수형으로 변환\n",
        "print('16진수 값은' ,num2,'입니다')"
      ],
      "execution_count": 0,
      "outputs": [
        {
          "output_type": "stream",
          "text": [
            "10진수 값을 입력하세요(0~15) :11\n",
            "16진수 값은 11 입니다\n"
          ],
          "name": "stdout"
        }
      ]
    },
    {
      "cell_type": "code",
      "metadata": {
        "id": "kSp3jlL9GIaT",
        "colab_type": "code",
        "outputId": "c57afefc-7ee4-4f63-8851-5ec4d631a427",
        "colab": {
          "base_uri": "https://localhost:8080/",
          "height": 52
        }
      },
      "source": [
        "a = int(input('10진수 :'))\n",
        "print('16진수 =','{:#o}'.format(a)[2:])"
      ],
      "execution_count": 0,
      "outputs": [
        {
          "output_type": "stream",
          "text": [
            "10진수 :10\n",
            "16진수 = 12\n"
          ],
          "name": "stdout"
        }
      ]
    },
    {
      "cell_type": "markdown",
      "metadata": {
        "id": "7J907yRJurkJ",
        "colab_type": "text"
      },
      "source": [
        "4.34"
      ]
    },
    {
      "cell_type": "code",
      "metadata": {
        "id": "XAsTcMgJu37R",
        "colab_type": "code",
        "colab": {}
      },
      "source": [
        "import turtle\n",
        "t = turtle.Turtle()\n",
        "\n",
        "\n",
        "x1,y1,x2,y2,x3,y3 = eval(input('세 점 p0,p1,p2에 대한 좌표값을 입력하세요 :'))\n",
        "a = (x2-x1) * (y3-y1) - (x3-x1) * (y2-y1)\n",
        "\n",
        "t.up()\n",
        "t.goto(x1,y1)\n",
        "t.write('p0({},{})'.format(x1,y1))\n",
        "t.down()\n",
        "t.goto(x2,y2)\n",
        "t.write('p1({},{})'.format(x2,y2))\n",
        "t.up()\n",
        "t.goto(x3,y3)\n",
        "\n",
        "if a > 0:\n",
        "    t.write('p2는 직선의 왼쪽에 있습니다')\n",
        "elif a == 0:\n",
        "    t.write('p2는 직선 위에 있습니다')\n",
        "else:\n",
        "    t.write('p2는 직선의 오른쪽에 있습니다')\n",
        "    \n",
        "\n"
      ],
      "execution_count": 0,
      "outputs": []
    },
    {
      "cell_type": "markdown",
      "metadata": {
        "id": "Zck_iSmJOJju",
        "colab_type": "text"
      },
      "source": [
        "4.35"
      ]
    },
    {
      "cell_type": "code",
      "metadata": {
        "id": "bMstDV7uOKcP",
        "colab_type": "code",
        "colab": {}
      },
      "source": [
        "import turtle\n",
        "t = turtle.Turtle()\n",
        "\n",
        "x1, y1 = eval(input('원의 중심 x,y 를 입력하세요 :'))\n",
        "radius = int(input('원의 반지름을 입력하세요 : '))\n",
        "x2, y2 = eval(input('한 점의 위치 x,y 를 입력하세요 :'))\n",
        "\n",
        "t.up()\n",
        "t.goto(x1,y1-radius)\n",
        "t.down()\n",
        "t.circle(radius)\n",
        "t.up()\n",
        "t.goto(x2,y2)\n",
        "t.down()\n",
        "t.begin_fill()\n",
        "t.color('red')\n",
        "t.circle(3)\n",
        "t.end_fill()\n",
        "\n",
        "\n",
        "\n",
        "d = ((x2 - x1) * (x2 - x1) + (y2 - y1) * (y2 - y1)) ** 0.5\n",
        "if d <= radius:\n",
        "    t.write('점이 원의 내부에 있습니다.')\n",
        "else:\n",
        "    t.write('점이 원의 외부에 있습니다.')\n",
        "\n",
        "t.hideturtle()\n",
        "t.done()"
      ],
      "execution_count": 0,
      "outputs": []
    },
    {
      "cell_type": "markdown",
      "metadata": {
        "id": "sKbfO8hYR4EG",
        "colab_type": "text"
      },
      "source": [
        "4.36"
      ]
    },
    {
      "cell_type": "code",
      "metadata": {
        "id": "qWVoj3GER5gh",
        "colab_type": "code",
        "colab": {}
      },
      "source": [
        "import turtle\n",
        "t = turtle.Turtle()\n",
        "\n",
        "t.up()\n",
        "t.goto(0,0)\n",
        "t.down()\n",
        "for i in range(2):\n",
        "    t.fd(100)\n",
        "    t.right(90)\n",
        "    t.fd(50)\n",
        "    t.right(90)\n",
        "    \n",
        "    \n",
        "x, y = eval(input('점 x,y를 입력하세요 :'))\n",
        "t.up()\n",
        "t.goto(x,y)\n",
        "t.down()\n",
        "t.begin_fill()\n",
        "t.color('red')\n",
        "t.circle(3)\n",
        "t.end_fill()\n",
        "\n",
        "\n",
        "if x < 100 and x > 0 and y < 0 and y > -50:\n",
        "    t.write('점은 사각형 내부에 있습니다')\n",
        "else:\n",
        "    t.write('점은 사각형 외부에 있습니다')"
      ],
      "execution_count": 0,
      "outputs": []
    }
  ]
}