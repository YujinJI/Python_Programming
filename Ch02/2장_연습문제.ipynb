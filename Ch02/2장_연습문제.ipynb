{
  "nbformat": 4,
  "nbformat_minor": 0,
  "metadata": {
    "colab": {
      "name": "2장_연습문제_권찬진,지유진",
      "provenance": [],
      "collapsed_sections": [],
      "include_colab_link": true
    },
    "kernelspec": {
      "name": "python3",
      "display_name": "Python 3"
    }
  },
  "cells": [
    {
      "cell_type": "markdown",
      "metadata": {
        "id": "view-in-github",
        "colab_type": "text"
      },
      "source": [
        "<a href=\"https://colab.research.google.com/github/KwonChanJin/Python_Programing/blob/master/2%EC%9E%A5_%EC%97%B0%EC%8A%B5%EB%AC%B8%EC%A0%9C_%EA%B6%8C%EC%B0%AC%EC%A7%84%2C%EC%A7%80%EC%9C%A0%EC%A7%84.ipynb\" target=\"_parent\"><img src=\"https://colab.research.google.com/assets/colab-badge.svg\" alt=\"Open In Colab\"/></a>"
      ]
    },
    {
      "cell_type": "markdown",
      "metadata": {
        "id": "WPFoowcQcoeD",
        "colab_type": "text"
      },
      "source": [
        "## 2.1"
      ]
    },
    {
      "cell_type": "code",
      "metadata": {
        "id": "jJ8UbHtfdJFC",
        "colab_type": "code",
        "colab": {}
      },
      "source": [
        "cel = int(input('섭씨로 온도를 입력하세요 :'))\n",
        "fah = (9 / 5) * cel + 32\n",
        "print('섭씨 {}도는 화씨 {}도 입니다.'.format(cel,fah))"
      ],
      "execution_count": 0,
      "outputs": []
    },
    {
      "cell_type": "markdown",
      "metadata": {
        "id": "akqWwZpZeqB6",
        "colab_type": "text"
      },
      "source": [
        "## 2.2 "
      ]
    },
    {
      "cell_type": "code",
      "metadata": {
        "id": "2gk6BM_5fNNK",
        "colab_type": "code",
        "outputId": "373b2317-3193-4098-dd5e-633c099b270e",
        "colab": {
          "base_uri": "https://localhost:8080/",
          "height": 71
        }
      },
      "source": [
        "r, l = input('원통의 반지름과 길이를 입력하세요 :').split(',')\n",
        "r = float(r)\n",
        "l = int(l)\n",
        "area = r * r * 3.14\n",
        "volume = area * l\n",
        "print('넓이는 {} 입니다.'.format(area))\n",
        "print('부피는 {} 입니다.'.format(volume))"
      ],
      "execution_count": 0,
      "outputs": [
        {
          "output_type": "stream",
          "text": [
            "원통의 반지름과 길이를 입력하세요 :5,24\n",
            "넓이는 78.5 입니다.\n",
            "부피는 1884.0 입니다.\n"
          ],
          "name": "stdout"
        }
      ]
    },
    {
      "cell_type": "markdown",
      "metadata": {
        "id": "WrHPLIgDhP0N",
        "colab_type": "text"
      },
      "source": [
        "## 2.3"
      ]
    },
    {
      "cell_type": "code",
      "metadata": {
        "id": "-V4H_zi9hggc",
        "colab_type": "code",
        "outputId": "b852cb91-5d18-4291-e4b8-95251d1f7ffb",
        "colab": {
          "base_uri": "https://localhost:8080/",
          "height": 53
        }
      },
      "source": [
        "feet = float(input('피트 값 = '))\n",
        "meter = feet * 0.305\n",
        "print('{} 피트는 {} 미터입니다.'.format(feet,meter))"
      ],
      "execution_count": 0,
      "outputs": [
        {
          "output_type": "stream",
          "text": [
            "피트 값 = 35\n",
            "35.0 피트는 10.674999999999999 미터입니다.\n"
          ],
          "name": "stdout"
        }
      ]
    },
    {
      "cell_type": "markdown",
      "metadata": {
        "id": "s9_-duwxiS4C",
        "colab_type": "text"
      },
      "source": [
        "## 2.4"
      ]
    },
    {
      "cell_type": "code",
      "metadata": {
        "id": "03ZJ6WSAif7j",
        "colab_type": "code",
        "outputId": "901e45be-ba16-44b2-817f-05b0ff31d9f3",
        "colab": {
          "base_uri": "https://localhost:8080/",
          "height": 53
        }
      },
      "source": [
        "pound = float(input('파운드 값 = '))\n",
        "kg = pound * 0.454\n",
        "print('{} 파운드는 {} 킬로그램입니다.'.format(pound,kg))"
      ],
      "execution_count": 0,
      "outputs": [
        {
          "output_type": "stream",
          "text": [
            "파운드 값 = 15\n",
            "15.0 파운드는 6.8100000000000005 킬로그램입니다.\n"
          ],
          "name": "stdout"
        }
      ]
    },
    {
      "cell_type": "markdown",
      "metadata": {
        "id": "6_78tZuAkaKT",
        "colab_type": "text"
      },
      "source": [
        "## 2.5"
      ]
    },
    {
      "cell_type": "code",
      "metadata": {
        "id": "sb1Qvv7skoaa",
        "colab_type": "code",
        "outputId": "89f8e4a4-08f6-4c6d-88a6-eb7e4fedb413",
        "colab": {
          "base_uri": "https://localhost:8080/",
          "height": 52
        }
      },
      "source": [
        "s, tip = input('소계와 팁 비율을 입력하세요 :').split(',')\n",
        "s = float(s)\n",
        "tip = int(tip)\n",
        "tip = s * ((1 / 100) * tip)\n",
        "total = s + tip\n",
        "print('팁은 {0:.2f} 이고 총액은 {1:.2f} 입니다.'.format(tip,total))"
      ],
      "execution_count": 0,
      "outputs": [
        {
          "output_type": "stream",
          "text": [
            "소계와 팁 비율을 입력하세요 :15.69,15\n",
            "팁은 2.35 이고 총액은 18.04 입니다.\n"
          ],
          "name": "stdout"
        }
      ]
    },
    {
      "cell_type": "markdown",
      "metadata": {
        "id": "XYRQfff3mL4w",
        "colab_type": "text"
      },
      "source": [
        "## 2.6 "
      ]
    },
    {
      "cell_type": "code",
      "metadata": {
        "id": "eapTg2iMmgju",
        "colab_type": "code",
        "outputId": "aba7950f-fe05-4d92-d3c0-4fddb33c568b",
        "colab": {
          "base_uri": "https://localhost:8080/",
          "height": 51
        }
      },
      "source": [
        "num = int(input('0과 1000사이의 숫자를 입력하세요 :'))\n",
        "num1 = num % 10\n",
        "num2 = (num % 100) // 10\n",
        "num3 = num // 100\n",
        "sum = num1 + num2 + num3\n",
        "print('각 자릿수의 합은 {} 입니다.'.format(sum))"
      ],
      "execution_count": 0,
      "outputs": [
        {
          "output_type": "stream",
          "text": [
            "0과 1000사이의 숫자를 입력하세요 :999\n",
            "각 자릿수의 합은 27 입니다.\n"
          ],
          "name": "stdout"
        }
      ]
    },
    {
      "cell_type": "markdown",
      "metadata": {
        "id": "hQx7iswZbzJL",
        "colab_type": "text"
      },
      "source": [
        "## 2.7 "
      ]
    },
    {
      "cell_type": "code",
      "metadata": {
        "id": "70w0ZRU7cZpw",
        "colab_type": "code",
        "outputId": "15a03dd1-928f-45eb-c9c9-9684e2a5e3e5",
        "colab": {
          "base_uri": "https://localhost:8080/",
          "height": 53
        }
      },
      "source": [
        "min = int(input('분에 대한 숫자를 입력하세요 :'))\n",
        "y = min / (365*24*60)\n",
        "d = min % (365*24*60) / (60*24)\n",
        "print(\"{}분은 총 {}년,{}일 입니다.\".format(min,y,d))\n"
      ],
      "execution_count": 0,
      "outputs": [
        {
          "output_type": "stream",
          "text": [
            "분에 대한 숫자를 입력하세요 :10\n",
            "10분은 총 1.9025875190258754e-05년,0.006944444444444444일 입니다.\n"
          ],
          "name": "stdout"
        }
      ]
    },
    {
      "cell_type": "markdown",
      "metadata": {
        "id": "wbIhaceYdmyL",
        "colab_type": "text"
      },
      "source": [
        "## 2.8 "
      ]
    },
    {
      "cell_type": "code",
      "metadata": {
        "id": "FR-uQ7WkeCFf",
        "colab_type": "code",
        "outputId": "cfd5d5dc-5e8f-42d3-a01c-3a9e128ebe00",
        "colab": {
          "base_uri": "https://localhost:8080/",
          "height": 85
        }
      },
      "source": [
        "M = float(input('킬로그램 단위로 물의 양을 입력하세요 :'))\n",
        "init = float(input('초기 온도를 입력하세요 :'))\n",
        "fin = float(input('최종 온도를 입력하세요 :'))\n",
        "Q = M * (fin - init) * 4184\n",
        "print('필요한 에너지는',Q,'줄입니다.')"
      ],
      "execution_count": 0,
      "outputs": [
        {
          "output_type": "stream",
          "text": [
            "킬로그램 단위로 물의 양을 입력하세요 :55.5\n",
            "초기 온도를 입력하세요 :3.5\n",
            "최종 온도를 입력하세요 :10.5\n",
            "필요한 에너지는 1625484.0 줄입니다.\n"
          ],
          "name": "stdout"
        }
      ]
    },
    {
      "cell_type": "markdown",
      "metadata": {
        "id": "TvYyT409gjMI",
        "colab_type": "text"
      },
      "source": [
        "## 2.9 "
      ]
    },
    {
      "cell_type": "code",
      "metadata": {
        "id": "Ozap9IZWkjEI",
        "colab_type": "code",
        "outputId": "701efae3-3716-4e62-abbe-49b5a759ee76",
        "colab": {
          "base_uri": "https://localhost:8080/",
          "height": 68
        }
      },
      "source": [
        "fah = float(input('화씨 -58도와 41도 사이의 온도를 입력하세요 :'))\n",
        "mph = int(input('풍속을 시간당 마일 단위로 입력하세요 :'))\n",
        "tem = 35.74 + (0.6215 * fah) - (35.75 * mph ** 0.16) + (0.4275 * fah  * mph ** 0.16)\n",
        "print('체감온도는 {} 입니다.'.format(tem))"
      ],
      "execution_count": 0,
      "outputs": [
        {
          "output_type": "stream",
          "text": [
            "화씨 -58도와 41도 사이의 온도를 입력하세요 :5.3\n",
            "풍속을 시간당 마일 단위로 입력하세요 :6\n",
            "체감온도는 -5.567068455881625 입니다.\n"
          ],
          "name": "stdout"
        }
      ]
    },
    {
      "cell_type": "markdown",
      "metadata": {
        "id": "r6A2E3wUvQor",
        "colab_type": "text"
      },
      "source": [
        "## 2.10 "
      ]
    },
    {
      "cell_type": "code",
      "metadata": {
        "id": "Dc3y6jSJv72R",
        "colab_type": "code",
        "outputId": "b7eb4300-e94f-48f1-c5a0-9286abd8a136",
        "colab": {
          "base_uri": "https://localhost:8080/",
          "height": 51
        }
      },
      "source": [
        "v,a = eval(input('속도와 가속도를 입력하세요: '))\n",
        "s = v**2 / (2 * a)\n",
        "print('이 비행기의 최소 활주로 길이는 {}입니다.'.format(s))\n"
      ],
      "execution_count": 0,
      "outputs": [
        {
          "output_type": "stream",
          "text": [
            "속도와 가속도를 입력하세요: 60,3.5\n",
            "이 비행기의 최소 활주로 길이는 514.2857142857143입니다.\n"
          ],
          "name": "stdout"
        }
      ]
    },
    {
      "cell_type": "markdown",
      "metadata": {
        "id": "7Ek9LFxPwCL8",
        "colab_type": "text"
      },
      "source": [
        "## 2.11 "
      ]
    },
    {
      "cell_type": "code",
      "metadata": {
        "id": "sNyLitqDySI9",
        "colab_type": "code",
        "outputId": "468f3b97-4aeb-4b8d-aa79-70dd2ff7ba08",
        "colab": {
          "base_uri": "https://localhost:8080/",
          "height": 89
        }
      },
      "source": [
        "price = int(input('약정 금액을 입력하세요: '))\n",
        "year_p = float(input('연이율(%)를 입력하세요: '))\n",
        "year = int(input('약정 기간(년)'))\n",
        "month = price / (1 + (year_p/12)/100.0)**(year*12)\n",
        "print('월납입금은 {} 입니다.'.format(month))"
      ],
      "execution_count": 0,
      "outputs": [
        {
          "output_type": "stream",
          "text": [
            "약정 금액을 입력하세요: 100000\n",
            "연이율(%)를 입력하세요: 10\n",
            "약정 기간(년)2\n",
            "월납입금은 81940.9543047462 입니다.\n"
          ],
          "name": "stdout"
        }
      ]
    },
    {
      "cell_type": "markdown",
      "metadata": {
        "id": "7z8sWXPSySlI",
        "colab_type": "text"
      },
      "source": [
        "## 2.12 "
      ]
    },
    {
      "cell_type": "code",
      "metadata": {
        "id": "DDdIh6qUyZeJ",
        "colab_type": "code",
        "outputId": "c22d9764-1262-43bc-f1da-6fa674011956",
        "colab": {
          "base_uri": "https://localhost:8080/",
          "height": 122
        }
      },
      "source": [
        "print(\"    a     b     a**b\")\n",
        "for i in range(1,6):\n",
        "    print(\"   \",i,\"   \",(i+1),\"   \",i**(i+1))"
      ],
      "execution_count": 0,
      "outputs": [
        {
          "output_type": "stream",
          "text": [
            "    a     b     a**b\n",
            "    1     2     1\n",
            "    2     3     8\n",
            "    3     4     81\n",
            "    4     5     1024\n",
            "    5     6     15625\n"
          ],
          "name": "stdout"
        }
      ]
    },
    {
      "cell_type": "markdown",
      "metadata": {
        "id": "qEjJd60RyZvf",
        "colab_type": "text"
      },
      "source": [
        "## 2.13 "
      ]
    },
    {
      "cell_type": "code",
      "metadata": {
        "id": "hFhw1p4Sy2pn",
        "colab_type": "code",
        "outputId": "1c7ce1a0-267e-429b-f0a0-1350ff6cb22e",
        "colab": {
          "base_uri": "https://localhost:8080/",
          "height": 105
        }
      },
      "source": [
        "num = input(\"정수를 입력하세요\")\n",
        "for i in range(1,len(num)+1):\n",
        "    print(num[-i])"
      ],
      "execution_count": 0,
      "outputs": [
        {
          "output_type": "stream",
          "text": [
            "정수를 입력하세요3125\n",
            "5\n",
            "2\n",
            "1\n",
            "3\n"
          ],
          "name": "stdout"
        }
      ]
    },
    {
      "cell_type": "markdown",
      "metadata": {
        "id": "04RIUAGCy25m",
        "colab_type": "text"
      },
      "source": [
        "## 2.14 "
      ]
    },
    {
      "cell_type": "code",
      "metadata": {
        "id": "baHQHYUCzxHH",
        "colab_type": "code",
        "outputId": "a2ba0583-07fa-4714-ab61-36d7d8849239",
        "colab": {
          "base_uri": "https://localhost:8080/",
          "height": 52
        }
      },
      "source": [
        "x1, y1, x2, y2, x3, y3 = input('삼각형의 세 꼭짓점을 입력하세요: ').split(',')\n",
        "x1 = float(x1)\n",
        "y1 = float(y1)\n",
        "x2 = float(x2)\n",
        "y2 = int(y2)\n",
        "x3 = float(x3)\n",
        "y3 = float(y3)\n",
        "a = ((x2-x1)**2 + (y2-y1)**2)**0.5\n",
        "b = ((x3-x2)**2 + (y3-y2)**2)**0.5\n",
        "c = ((x3-x1)**2 + (y3-y1)**2)**0.5\n",
        "s = (a+b+c)/2\n",
        "answer = (s*((s-a)*(s-b)*(s-c)))**0.5\n",
        "print('삼각형의 넓이는',answer,'입니다')\n",
        "\n"
      ],
      "execution_count": 0,
      "outputs": [
        {
          "output_type": "stream",
          "text": [
            "삼각형의 세 꼭짓점을 입력하세요: 1.5,-3.4,4.6,5,9.5,-3.4\n",
            "삼각형의 넓이는 33.600000000000016 입니다\n"
          ],
          "name": "stdout"
        }
      ]
    },
    {
      "cell_type": "markdown",
      "metadata": {
        "id": "m4xeTyeczvxc",
        "colab_type": "text"
      },
      "source": [
        "## 2.15 "
      ]
    },
    {
      "cell_type": "code",
      "metadata": {
        "id": "5vp0BQAm31j6",
        "colab_type": "code",
        "outputId": "f60708eb-a2c9-413b-d1a2-a1a5f615a0c2",
        "colab": {
          "base_uri": "https://localhost:8080/",
          "height": 53
        }
      },
      "source": [
        "s = float(input('한 변의 길이를 입력하세요: '))\n",
        "area = 3*3**(1/2)/2*s*s\n",
        "print('육각형의 넓이는 {}입니다.'.format(area))"
      ],
      "execution_count": 0,
      "outputs": [
        {
          "output_type": "stream",
          "text": [
            "한 변의 길이를 입력하세요: 10\n",
            "육각형의 넓이는 259.8076211353316입니다.\n"
          ],
          "name": "stdout"
        }
      ]
    },
    {
      "cell_type": "markdown",
      "metadata": {
        "id": "_4r5WxRa7YY5",
        "colab_type": "text"
      },
      "source": [
        "## 2.16 "
      ]
    },
    {
      "cell_type": "code",
      "metadata": {
        "id": "B_8qrpVL76v8",
        "colab_type": "code",
        "outputId": "5f68c83a-06be-400b-e0c1-7b222ded0f29",
        "colab": {
          "base_uri": "https://localhost:8080/",
          "height": 53
        }
      },
      "source": [
        "v0, v1, t = eval(input('v0, v1, t의 값을 입력하세요: '))\n",
        "average = (v1 - v0) / t\n",
        "print('평균 가속도는 {} 입니다.'.format(average))"
      ],
      "execution_count": 0,
      "outputs": [
        {
          "output_type": "stream",
          "text": [
            "v0, v1, t의 값을 입력하세요: 10,15,30\n",
            "평균 가속도는 0.16666666666666666 입니다.\n"
          ],
          "name": "stdout"
        }
      ]
    },
    {
      "cell_type": "markdown",
      "metadata": {
        "id": "2ssbUPVT313C",
        "colab_type": "text"
      },
      "source": [
        "## 2.17"
      ]
    },
    {
      "cell_type": "code",
      "metadata": {
        "id": "9nT85Ef4_ErI",
        "colab_type": "code",
        "outputId": "e760f6ee-9177-408d-de29-c0b0d5522e97",
        "colab": {
          "base_uri": "https://localhost:8080/",
          "height": 68
        }
      },
      "source": [
        "pound = eval(input('몸무게를 파운드로 입력하세요: '))\n",
        "inch = eval(input('키를 인치로 입력하세요: '))\n",
        "kg = pound * 0.45359237\n",
        "k = inch * 0.0254\n",
        "bmi = kg / k**2\n",
        "print('BMI는 {}입니다.'.format(bmi))"
      ],
      "execution_count": 0,
      "outputs": [
        {
          "output_type": "stream",
          "text": [
            "몸무게를 파운드로 입력하세요: 95.5\n",
            "키를 인치로 입력하세요: 50\n",
            "BMI는 34.10871758661417입니다.\n"
          ],
          "name": "stdout"
        }
      ]
    },
    {
      "cell_type": "code",
      "metadata": {
        "id": "vqcrs7OsboAj",
        "colab_type": "code",
        "outputId": "030301cf-9ce3-4ff6-9f34-9fcf44767e6c",
        "colab": {
          "base_uri": "https://localhost:8080/",
          "height": 68
        }
      },
      "source": [
        "kg = eval(input('몸무게를 kg로 입력하세요: '))\n",
        "k = eval(input('키를 m로 입력하세요: '))\n",
        "bmi = kg / k**2\n",
        "print('BMI는 {}입니다.'.format(bmi))"
      ],
      "execution_count": 0,
      "outputs": [
        {
          "output_type": "stream",
          "text": [
            "몸무게를 kg로 입력하세요: 52\n",
            "키를 m로 입력하세요: 1.61\n",
            "BMI는 20.060954438486167입니다.\n"
          ],
          "name": "stdout"
        }
      ]
    },
    {
      "cell_type": "markdown",
      "metadata": {
        "id": "zVllhKCZApXT",
        "colab_type": "text"
      },
      "source": [
        "## 2.18"
      ]
    },
    {
      "cell_type": "code",
      "metadata": {
        "id": "LwOIrh9QFhIV",
        "colab_type": "code",
        "outputId": "0b082407-fa0d-4d9c-9d5a-995ae60cbc1c",
        "colab": {
          "base_uri": "https://localhost:8080/",
          "height": 52
        }
      },
      "source": [
        "import time\n",
        "currentTime = int(time.time())\n",
        "currentHour = (currentTime // 60 // 60) % 24\n",
        "currentminute = (currentTime // 60) % 60\n",
        "GMT = int(input(\"GMT 와 시간대 차이를 입력하세요\"))\n",
        "print(currentHour+GMT,currentminute)"
      ],
      "execution_count": 0,
      "outputs": [
        {
          "output_type": "stream",
          "text": [
            "GMT 와 시간대 차이를 입력하세요-5\n",
            "7 38\n"
          ],
          "name": "stdout"
        }
      ]
    },
    {
      "cell_type": "markdown",
      "metadata": {
        "id": "hAfOdFROYvmy",
        "colab_type": "text"
      },
      "source": [
        "## 2.19"
      ]
    },
    {
      "cell_type": "code",
      "metadata": {
        "id": "KqnlB5AuaVBh",
        "colab_type": "code",
        "outputId": "9681d976-f4d8-48a3-d315-de9a26d6f3e1",
        "colab": {
          "base_uri": "https://localhost:8080/",
          "height": 89
        }
      },
      "source": [
        "invest = int(input('투자금을 입력하세요:'))\n",
        "year_rate = float(input('연이율을 입력하세요'))\n",
        "year = int(input('년수를 입력하세요:'))\n",
        "worth = invest * (1+year_rate/1200)**(year*12)\n",
        "print(\"누적된 가치는{0:.2f}입니다.\".format(worth))"
      ],
      "execution_count": 0,
      "outputs": [
        {
          "output_type": "stream",
          "text": [
            "투자금을 입력하세요:1000000\n",
            "연이율을 입력하세요10\n",
            "년수를 입력하세요:2\n",
            "누적된 가치는1220390.96입니다.\n"
          ],
          "name": "stdout"
        }
      ]
    },
    {
      "cell_type": "markdown",
      "metadata": {
        "id": "GNlzfjkTdA1_",
        "colab_type": "text"
      },
      "source": [
        "## 2.20"
      ]
    },
    {
      "cell_type": "code",
      "metadata": {
        "id": "GchGvsqhdCSp",
        "colab_type": "code",
        "outputId": "f2b3fd6f-69e8-453b-acde-d5354bfc53b3",
        "colab": {
          "base_uri": "https://localhost:8080/",
          "height": 52
        }
      },
      "source": [
        "money,year = input('잔고와 연이율을 입력하시오').split(',')\n",
        "money = int(money)\n",
        "year = float(year)\n",
        "propit = money * (year/1200) * 1000\n",
        "print('이자는',propit,'입니다')"
      ],
      "execution_count": 0,
      "outputs": [
        {
          "output_type": "stream",
          "text": [
            "잔고와 연이율을 입력하시오1000,3.5\n",
            "이자는 2916.666666666667 입니다\n"
          ],
          "name": "stdout"
        }
      ]
    },
    {
      "cell_type": "markdown",
      "metadata": {
        "id": "1KJPuT2cdCjN",
        "colab_type": "text"
      },
      "source": [
        "## 2.21"
      ]
    },
    {
      "cell_type": "code",
      "metadata": {
        "id": "oFNuX0RmdL0o",
        "colab_type": "code",
        "outputId": "440c4205-eed8-4a83-ca7d-d825d1ccec65",
        "colab": {
          "base_uri": "https://localhost:8080/",
          "height": 52
        }
      },
      "source": [
        "month_s = int(input('월 저축액: '))\n",
        "answer = 0\n",
        "for i in range(6):\n",
        "    answer = (answer + month_s) * (1 + 0.00417)\n",
        "print('6개월 후 잔고는',answer,'입니다')"
      ],
      "execution_count": 0,
      "outputs": [
        {
          "output_type": "stream",
          "text": [
            "월 저축액: 10000\n",
            "6개월 후 잔고는 60881.81155768637 입니다\n"
          ],
          "name": "stdout"
        }
      ]
    },
    {
      "cell_type": "markdown",
      "metadata": {
        "id": "UquX-rmJdMJj",
        "colab_type": "text"
      },
      "source": [
        "## 2.22"
      ]
    },
    {
      "cell_type": "code",
      "metadata": {
        "id": "iYYlWi9ydNep",
        "colab_type": "code",
        "outputId": "766ef9d8-ed12-4f1c-866a-ee14c3db4bb5",
        "colab": {
          "base_uri": "https://localhost:8080/",
          "height": 53
        }
      },
      "source": [
        "year = int(input('년 수를 입력하세요: '))\n",
        "people = 312032486\n",
        "born = 5*365*24*60*60 / 7\n",
        "death = 5*365*24*60*60 / 13\n",
        "foreginer = 5*365*24*60*60 / 45\n",
        "print(year,'후 인구는 ',people+born-death+foreginer,'명 입니다')"
      ],
      "execution_count": 0,
      "outputs": [
        {
          "output_type": "stream",
          "text": [
            "년 수를 입력하세요: 4\n",
            "4 후 인구는  325932969.5164835 명 입니다\n"
          ],
          "name": "stdout"
        }
      ]
    },
    {
      "cell_type": "markdown",
      "metadata": {
        "id": "6rOp-eXHHfGf",
        "colab_type": "text"
      },
      "source": [
        "## 2.23"
      ]
    },
    {
      "cell_type": "code",
      "metadata": {
        "id": "d_rrqddNNl1P",
        "colab_type": "code",
        "colab": {}
      },
      "source": [
        "import turtle\n",
        "t = turtle.Turtle()\n",
        "t.shape('triangle')\n",
        "\n",
        "radius = int(input('반지름을 입력하세요 :'))\n",
        "t.up()\n",
        "t.goto(-radius,radius)\n",
        "t.down()\n",
        "t.circle(radius)\n",
        "t.up()\n",
        "t.goto(radius,radius)\n",
        "t.down()\n",
        "t.circle(radius)\n",
        "t.up()\n",
        "t.goto(-radius,-radius)\n",
        "t.down()\n",
        "t.circle(radius)\n",
        "t.up()\n",
        "t.goto(radius,-radius)\n",
        "t.down()\n",
        "t.circle(radius)"
      ],
      "execution_count": 0,
      "outputs": []
    },
    {
      "cell_type": "markdown",
      "metadata": {
        "id": "fdrIo_0rIyAk",
        "colab_type": "text"
      },
      "source": [
        "![대체 텍스트](https://postfiles.pstatic.net/MjAxOTA4MTFfMjg3/MDAxNTY1NTAxNjkwNjYy.DSBwstt4fN70pzzMpG_j_oZ_Cs-AsMiuIZ4yKacVhE0g.OFZy8paQwXmYPWRFE2g5QnBWDG3asP7HInwsDtO5NaQg.PNG.kchanjini/1.png?type=w773)"
      ]
    },
    {
      "cell_type": "markdown",
      "metadata": {
        "id": "zTJ45RxEOSPG",
        "colab_type": "text"
      },
      "source": [
        "## 2.24"
      ]
    },
    {
      "cell_type": "code",
      "metadata": {
        "id": "yBIo-gbAOTrK",
        "colab_type": "code",
        "colab": {}
      },
      "source": [
        "import turtle\n",
        "t = turtle.Turtle()\n",
        "t.shape('triangle')\n",
        "\n",
        "r = 50\n",
        "t.up()\n",
        "t.goto(-50,0)\n",
        "t.down()\n",
        "for i in range(1,7):\n",
        "    t.right(60)\n",
        "    t.forward(r)\n",
        "    \n",
        "t.up()\n",
        "t.goto(50,0)\n",
        "t.down()\n",
        "for i in range(1,7):\n",
        "    t.right(60)\n",
        "    t.forward(r)\n",
        "\n",
        "t.up()\n",
        "t.goto(-50,-100)\n",
        "t.down()\n",
        "for i in range(1,7):\n",
        "    t.right(60)\n",
        "    t.forward(r)\n",
        "\n",
        "t.up()\n",
        "t.goto(50,-100)\n",
        "t.down()\n",
        "for i in range(1,7):\n",
        "    t.right(60)\n",
        "    t.forward(r)"
      ],
      "execution_count": 0,
      "outputs": []
    },
    {
      "cell_type": "markdown",
      "metadata": {
        "id": "sR77I2bdNDrT",
        "colab_type": "text"
      },
      "source": [
        "![대체 텍스트](https://postfiles.pstatic.net/MjAxOTA4MTFfMTAx/MDAxNTY1NTAyMTkzNTcy.J0K_UyyvVBIU4p3XlCfKrBl_M7FCr04Bhey9Kht8Esog.N2lTGTh42tro7he2R7q9cGUouJbtghiDee_1OFYQPiwg.PNG.kchanjini/22.png?type=w773)"
      ]
    },
    {
      "cell_type": "markdown",
      "metadata": {
        "id": "ZwHqTLM2OXo4",
        "colab_type": "text"
      },
      "source": [
        "## 2.25"
      ]
    },
    {
      "cell_type": "code",
      "metadata": {
        "id": "DBi9PCDgOZEE",
        "colab_type": "code",
        "colab": {}
      },
      "source": [
        "import turtle\n",
        "t = turtle.Turtle()\n",
        "x,y,width,length = input(\"중점x,y, 폭, 높이:\").split(',')\n",
        "x = int(x)\n",
        "y = int(y)\n",
        "width = int(width)\n",
        "length = int(length)\n",
        "\n",
        "t.penup()\n",
        "t.goto(x,y)\n",
        "\n",
        "t.forward(width/2)\n",
        "t.pendown()\n",
        "t.left(90)\n",
        "t.forward(length/2)\n",
        "t.left(90)\n",
        "t.forward(width)\n",
        "t.left(90)\n",
        "t.forward(length)\n",
        "t.left(90)\n",
        "t.forward(width)\n",
        "t.left(90)\n",
        "t.forward(length/2)"
      ],
      "execution_count": 0,
      "outputs": []
    },
    {
      "cell_type": "markdown",
      "metadata": {
        "id": "kW7aBNNONynj",
        "colab_type": "text"
      },
      "source": [
        "![대체 텍스트](https://postfiles.pstatic.net/MjAxOTA4MTFfODcg/MDAxNTY1NTAyMzg1NTky.l_eBrFFhHciDDsJLbHLg690eJzSNWWjh2HOORREGR8Ug.k0TNzZJ0Fwm7bM_-lvCTuFjZuZjVXII3MtEPKzKoHOog.PNG.kchanjini/3.png?type=w773)"
      ]
    },
    {
      "cell_type": "markdown",
      "metadata": {
        "id": "f-juLj1PRN_h",
        "colab_type": "text"
      },
      "source": [
        "## 2.26"
      ]
    },
    {
      "cell_type": "code",
      "metadata": {
        "id": "R1-FrRQYRPVV",
        "colab_type": "code",
        "colab": {}
      },
      "source": [
        "import turtle\n",
        "\n",
        "x,y = input(\"x와 y좌표를 입력:\").split(',')\n",
        "x = int(x)\n",
        "y = int(y)\n",
        "radius = int(input(\"반지름:\"))\n",
        "t = turtle.Turtle()\n",
        "\n",
        "t.penup()\n",
        "t.goto(x,y)\n",
        "t.pendown()\n",
        "t.write(3.14*radius*radius)\n",
        "t.circle(radius)"
      ],
      "execution_count": 0,
      "outputs": []
    },
    {
      "cell_type": "markdown",
      "metadata": {
        "id": "YSYNTM4tOjzG",
        "colab_type": "text"
      },
      "source": [
        "![대체 텍스트](https://postfiles.pstatic.net/MjAxOTA4MTFfODIg/MDAxNTY1NTAyNTgzNTc0.fXpe2VBuyMp2St8vd_5PY620DZ06MgQz8dDTQzNKw1Ug.V-oByV_W7g1oswrmNNQlnt3t7-Jjb9KxQcfvdnUM2kcg.PNG.kchanjini/4.png?type=w773)"
      ]
    }
  ]
}